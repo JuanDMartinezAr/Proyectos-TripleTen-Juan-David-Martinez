{
 "cells": [
  {
   "cell_type": "markdown",
   "metadata": {},
   "source": [
    "# Hola Juan! <a class=\"tocSkip\"></a>\n",
    "\n",
    "Mi nombre es Oscar Flores y tengo el gusto de revisar tu proyecto. Si tienes algún comentario que quieras agregar en tus respuestas te puedes referir a mi como Oscar, no hay problema que me trates de tú.\n",
    "\n",
    "Si veo un error en la primera revisión solamente lo señalaré y dejaré que tú encuentres de qué se trata y cómo arreglarlo. Debo prepararte para que te desempeñes como especialista en Data, en un trabajo real, el responsable a cargo tuyo hará lo mismo. Si aún tienes dificultades para resolver esta tarea, te daré indicaciones más precisas en una siguiente iteración.\n",
    "\n",
    "Te dejaré mis comentarios más abajo - **por favor, no los muevas, modifiques o borres**\n",
    "\n",
    "Comenzaré mis comentarios con un resumen de los puntos que están bien, aquellos que debes corregir y aquellos que puedes mejorar. Luego deberás revisar todo el notebook para leer mis comentarios, los cuales estarán en rectángulos de color verde, amarillo o rojo como siguen:\n",
    "\n",
    "<div class=\"alert alert-block alert-success\">\n",
    "<b>Comentario de Reviewer</b> <a class=\"tocSkip\"></a>\n",
    "    \n",
    "Muy bien! Toda la respuesta fue lograda satisfactoriamente.\n",
    "</div>\n",
    "\n",
    "<div class=\"alert alert-block alert-warning\">\n",
    "<b>Comentario de Reviewer</b> <a class=\"tocSkip\"></a>\n",
    "\n",
    "Existen detalles a mejorar. Existen recomendaciones.\n",
    "</div>\n",
    "\n",
    "<div class=\"alert alert-block alert-danger\">\n",
    "\n",
    "<b>Comentario de Reviewer</b> <a class=\"tocSkip\"></a>\n",
    "\n",
    "Se necesitan correcciones en el bloque. El trabajo no puede ser aceptado con comentarios en rojo sin solucionar.\n",
    "</div>\n",
    "\n",
    "Cualquier comentario que quieras agregar entre iteraciones de revisión lo puedes hacer de la siguiente manera:\n",
    "\n",
    "<div class=\"alert alert-block alert-info\">\n",
    "<b>Respuesta estudiante.</b> <a class=\"tocSkip\"></a>\n",
    "</div>\n"
   ]
  },
  {
   "cell_type": "markdown",
   "metadata": {},
   "source": [
    "## Resumen de la revisión 1 <a class=\"tocSkip\"></a>"
   ]
  },
  {
   "cell_type": "markdown",
   "metadata": {},
   "source": [
    "<div class=\"alert alert-block alert-danger\">\n",
    "<b>Comentario de Reviewer</b> <a class=\"tocSkip\"></a>\n",
    "\n",
    "Buen trabajo! En general tu notebook está muy bien desarrollado y de forma clara y ordenada, felicitaciones por ello. Aún hay trabajo por realizar en la parte del LTV, del CAC y el ROI. Dejé instrucciones más detalladas para el LTV y el cac, una vez que ambos estén calculados correctamente te orientaré para calcular el ROI.\n",
    "\n",
    "Saludos!    \n",
    "</div>"
   ]
  },
  {
   "cell_type": "markdown",
   "metadata": {},
   "source": [
    "<div class=\"alert alert-block alert-info\">\n",
    "<b>Respuesta estudiante.</b> <a class=\"tocSkip\"></a>\n",
    "    \n",
    "Se hacen las correcciones solicitadas y se espera revisión para calcular el ROI.\n",
    "\n",
    "Falta ajustar las conclusiones a partir de los nuevos datos hallados\n",
    "\n",
    "\n",
    "</div>"
   ]
  },
  {
   "cell_type": "markdown",
   "metadata": {},
   "source": [
    "## Resumen de la revisión 2 <a class=\"tocSkip\"></a>"
   ]
  },
  {
   "cell_type": "markdown",
   "metadata": {},
   "source": [
    "<div class=\"alert alert-block alert-danger\">\n",
    "<b>Comentario de Reviewer v2</b> <a class=\"tocSkip\"></a>\n",
    "\n",
    "Bien hecho Juan, el LTV está casi todo correcto, con una pequeña modificación quedará completo. Para el cac hay que realizar algunas modificaciones, pero la idea que tuviste va bien encaminada. Para el ltv, el cac y el roi te dejé indicaciones en sus respectivas secciones.\n",
    "    \n",
    "Saludos!    \n",
    "    \n",
    "</div>"
   ]
  },
  {
   "cell_type": "markdown",
   "metadata": {},
   "source": [
    "<div class=\"alert alert-block alert-info\">\n",
    "<b>Respuesta estudiante.</b> <a class=\"tocSkip\"></a>\n",
    "\n",
    "Oscar gracias por tus comentarios y correcciones, creo que hice lo que sugerías, espero que todo esté bien, quedo atento a cualquier nueva corrección\n",
    "</div>"
   ]
  },
  {
   "cell_type": "markdown",
   "metadata": {},
   "source": [
    "## Resumen de la revisión 3 <a class=\"tocSkip\"></a>"
   ]
  },
  {
   "cell_type": "markdown",
   "metadata": {},
   "source": [
    "<div class=\"alert alert-block alert-danger\">\n",
    "<b>Comentario de Reviewer v3</b> <a class=\"tocSkip\"></a>\n",
    "\n",
    "Muy bien! El CAC y el LTV están listos. Dejé una pequeña modificación para el LTV, para incluir la edad de la compra de cada cohorte. El ROI tiene la idea correcta, pero necesita calcularse con otros detalles, te dejé instrucciones de cómo hacer esto, en gran parte se parece mucho a lo que hiciste con el ltv.\n",
    "    \n",
    "Saludos!    \n",
    "    \n",
    "</div>"
   ]
  },
  {
   "cell_type": "markdown",
   "metadata": {},
   "source": [
    "<div class=\"alert alert-block alert-info\">\n",
    "<b>Respuesta estudiante.</b> <a class=\"tocSkip\"></a>\n",
    "\n",
    "Hago los cambios sugeridos guiándome de tus comentarios y la teoría que encuentro en el curso\n",
    "\n",
    "</div>\n"
   ]
  },
  {
   "cell_type": "markdown",
   "metadata": {},
   "source": [
    "## Resumen de la revisión 4 <a class=\"tocSkip\"></a>"
   ]
  },
  {
   "cell_type": "markdown",
   "metadata": {},
   "source": [
    "<div class=\"alert alert-block alert-danger\">\n",
    "<b>Comentario de Reviewer v4</b> <a class=\"tocSkip\"></a>\n",
    "\n",
    "Aún falta un poco para que el ROI esté calculado correctamente. En esa sección te deje un esqueleto del código necesario para calcular el ROI de cada source.\n",
    "    \n",
    "Saludos!    \n",
    "    \n",
    "</div>"
   ]
  },
  {
   "cell_type": "markdown",
   "metadata": {},
   "source": [
    "## Resumen de la revisión 5 <a class=\"tocSkip\"></a>"
   ]
  },
  {
   "cell_type": "markdown",
   "metadata": {},
   "source": [
    "<div class=\"alert alert-block alert-success\">\n",
    "<b>Comentario de Reviewer v5</b> <a class=\"tocSkip\"></a>\n",
    "\n",
    "Muy bien! Había un pequeño error pero ya te mostré en el código cómo quedaría corregido. Buen trabajo!\n",
    "    \n",
    "Saludos    \n",
    "    \n",
    "</div>"
   ]
  },
  {
   "cell_type": "markdown",
   "metadata": {},
   "source": [
    "----"
   ]
  },
  {
   "cell_type": "markdown",
   "metadata": {},
   "source": [
    "# Descripción del Proyecto"
   ]
  },
  {
   "cell_type": "markdown",
   "metadata": {},
   "source": [
    "Proyecto para el departamento analítico de Y.Afisha. Con el propósito de ayudar a optimizar los gastos de marketing"
   ]
  },
  {
   "cell_type": "markdown",
   "metadata": {},
   "source": [
    "## Preparación de los datos"
   ]
  },
  {
   "cell_type": "code",
   "execution_count": 2,
   "metadata": {},
   "outputs": [],
   "source": [
    "# Cargo todas las librerías\n",
    "import pandas as pd\n",
    "import matplotlib.pyplot as plt\n",
    "from scipy import stats as st\n",
    "import seaborn as sns\n",
    "import numpy as np"
   ]
  },
  {
   "cell_type": "code",
   "execution_count": 3,
   "metadata": {},
   "outputs": [],
   "source": [
    "# Cargo los archivo de datos en DataFrame\n",
    "\n",
    "visitas = pd.read_csv('/datasets/visits_log_us.csv')\n",
    "ordenes = pd.read_csv('/datasets/orders_log_us.csv')\n",
    "costos = pd.read_csv('/datasets/costs_us.csv')\n"
   ]
  },
  {
   "cell_type": "markdown",
   "metadata": {},
   "source": [
    "**A continuación, se visualizan los datos para una comprensión inicial y se hacen las correcciones pertinentes.**"
   ]
  },
  {
   "cell_type": "code",
   "execution_count": 4,
   "metadata": {
    "scrolled": true
   },
   "outputs": [
    {
     "data": {
      "text/html": [
       "<div>\n",
       "<style scoped>\n",
       "    .dataframe tbody tr th:only-of-type {\n",
       "        vertical-align: middle;\n",
       "    }\n",
       "\n",
       "    .dataframe tbody tr th {\n",
       "        vertical-align: top;\n",
       "    }\n",
       "\n",
       "    .dataframe thead th {\n",
       "        text-align: right;\n",
       "    }\n",
       "</style>\n",
       "<table border=\"1\" class=\"dataframe\">\n",
       "  <thead>\n",
       "    <tr style=\"text-align: right;\">\n",
       "      <th></th>\n",
       "      <th>Device</th>\n",
       "      <th>End Ts</th>\n",
       "      <th>Source Id</th>\n",
       "      <th>Start Ts</th>\n",
       "      <th>Uid</th>\n",
       "    </tr>\n",
       "  </thead>\n",
       "  <tbody>\n",
       "    <tr>\n",
       "      <th>0</th>\n",
       "      <td>touch</td>\n",
       "      <td>2017-12-20 17:38:00</td>\n",
       "      <td>4</td>\n",
       "      <td>2017-12-20 17:20:00</td>\n",
       "      <td>16879256277535980062</td>\n",
       "    </tr>\n",
       "    <tr>\n",
       "      <th>1</th>\n",
       "      <td>desktop</td>\n",
       "      <td>2018-02-19 17:21:00</td>\n",
       "      <td>2</td>\n",
       "      <td>2018-02-19 16:53:00</td>\n",
       "      <td>104060357244891740</td>\n",
       "    </tr>\n",
       "    <tr>\n",
       "      <th>2</th>\n",
       "      <td>touch</td>\n",
       "      <td>2017-07-01 01:54:00</td>\n",
       "      <td>5</td>\n",
       "      <td>2017-07-01 01:54:00</td>\n",
       "      <td>7459035603376831527</td>\n",
       "    </tr>\n",
       "    <tr>\n",
       "      <th>3</th>\n",
       "      <td>desktop</td>\n",
       "      <td>2018-05-20 11:23:00</td>\n",
       "      <td>9</td>\n",
       "      <td>2018-05-20 10:59:00</td>\n",
       "      <td>16174680259334210214</td>\n",
       "    </tr>\n",
       "    <tr>\n",
       "      <th>4</th>\n",
       "      <td>desktop</td>\n",
       "      <td>2017-12-27 14:06:00</td>\n",
       "      <td>3</td>\n",
       "      <td>2017-12-27 14:06:00</td>\n",
       "      <td>9969694820036681168</td>\n",
       "    </tr>\n",
       "  </tbody>\n",
       "</table>\n",
       "</div>"
      ],
      "text/plain": [
       "    Device               End Ts  Source Id             Start Ts  \\\n",
       "0    touch  2017-12-20 17:38:00          4  2017-12-20 17:20:00   \n",
       "1  desktop  2018-02-19 17:21:00          2  2018-02-19 16:53:00   \n",
       "2    touch  2017-07-01 01:54:00          5  2017-07-01 01:54:00   \n",
       "3  desktop  2018-05-20 11:23:00          9  2018-05-20 10:59:00   \n",
       "4  desktop  2017-12-27 14:06:00          3  2017-12-27 14:06:00   \n",
       "\n",
       "                    Uid  \n",
       "0  16879256277535980062  \n",
       "1    104060357244891740  \n",
       "2   7459035603376831527  \n",
       "3  16174680259334210214  \n",
       "4   9969694820036681168  "
      ]
     },
     "metadata": {},
     "output_type": "display_data"
    },
    {
     "name": "stdout",
     "output_type": "stream",
     "text": [
      "<class 'pandas.core.frame.DataFrame'>\n",
      "RangeIndex: 359400 entries, 0 to 359399\n",
      "Data columns (total 5 columns):\n",
      " #   Column     Non-Null Count   Dtype \n",
      "---  ------     --------------   ----- \n",
      " 0   Device     359400 non-null  object\n",
      " 1   End Ts     359400 non-null  object\n",
      " 2   Source Id  359400 non-null  int64 \n",
      " 3   Start Ts   359400 non-null  object\n",
      " 4   Uid        359400 non-null  uint64\n",
      "dtypes: int64(1), object(3), uint64(1)\n",
      "memory usage: 13.7+ MB\n"
     ]
    }
   ],
   "source": [
    "display(visitas.head())\n",
    "visitas.info()"
   ]
  },
  {
   "cell_type": "code",
   "execution_count": 5,
   "metadata": {},
   "outputs": [
    {
     "data": {
      "text/html": [
       "<div>\n",
       "<style scoped>\n",
       "    .dataframe tbody tr th:only-of-type {\n",
       "        vertical-align: middle;\n",
       "    }\n",
       "\n",
       "    .dataframe tbody tr th {\n",
       "        vertical-align: top;\n",
       "    }\n",
       "\n",
       "    .dataframe thead th {\n",
       "        text-align: right;\n",
       "    }\n",
       "</style>\n",
       "<table border=\"1\" class=\"dataframe\">\n",
       "  <thead>\n",
       "    <tr style=\"text-align: right;\">\n",
       "      <th></th>\n",
       "      <th>Buy Ts</th>\n",
       "      <th>Revenue</th>\n",
       "      <th>Uid</th>\n",
       "    </tr>\n",
       "  </thead>\n",
       "  <tbody>\n",
       "    <tr>\n",
       "      <th>0</th>\n",
       "      <td>2017-06-01 00:10:00</td>\n",
       "      <td>17.00</td>\n",
       "      <td>10329302124590727494</td>\n",
       "    </tr>\n",
       "    <tr>\n",
       "      <th>1</th>\n",
       "      <td>2017-06-01 00:25:00</td>\n",
       "      <td>0.55</td>\n",
       "      <td>11627257723692907447</td>\n",
       "    </tr>\n",
       "    <tr>\n",
       "      <th>2</th>\n",
       "      <td>2017-06-01 00:27:00</td>\n",
       "      <td>0.37</td>\n",
       "      <td>17903680561304213844</td>\n",
       "    </tr>\n",
       "    <tr>\n",
       "      <th>3</th>\n",
       "      <td>2017-06-01 00:29:00</td>\n",
       "      <td>0.55</td>\n",
       "      <td>16109239769442553005</td>\n",
       "    </tr>\n",
       "    <tr>\n",
       "      <th>4</th>\n",
       "      <td>2017-06-01 07:58:00</td>\n",
       "      <td>0.37</td>\n",
       "      <td>14200605875248379450</td>\n",
       "    </tr>\n",
       "  </tbody>\n",
       "</table>\n",
       "</div>"
      ],
      "text/plain": [
       "                Buy Ts  Revenue                   Uid\n",
       "0  2017-06-01 00:10:00    17.00  10329302124590727494\n",
       "1  2017-06-01 00:25:00     0.55  11627257723692907447\n",
       "2  2017-06-01 00:27:00     0.37  17903680561304213844\n",
       "3  2017-06-01 00:29:00     0.55  16109239769442553005\n",
       "4  2017-06-01 07:58:00     0.37  14200605875248379450"
      ]
     },
     "metadata": {},
     "output_type": "display_data"
    },
    {
     "name": "stdout",
     "output_type": "stream",
     "text": [
      "<class 'pandas.core.frame.DataFrame'>\n",
      "RangeIndex: 50415 entries, 0 to 50414\n",
      "Data columns (total 3 columns):\n",
      " #   Column   Non-Null Count  Dtype  \n",
      "---  ------   --------------  -----  \n",
      " 0   Buy Ts   50415 non-null  object \n",
      " 1   Revenue  50415 non-null  float64\n",
      " 2   Uid      50415 non-null  uint64 \n",
      "dtypes: float64(1), object(1), uint64(1)\n",
      "memory usage: 1.2+ MB\n"
     ]
    }
   ],
   "source": [
    "display(ordenes.head())\n",
    "ordenes.info()"
   ]
  },
  {
   "cell_type": "code",
   "execution_count": 6,
   "metadata": {},
   "outputs": [
    {
     "data": {
      "text/html": [
       "<div>\n",
       "<style scoped>\n",
       "    .dataframe tbody tr th:only-of-type {\n",
       "        vertical-align: middle;\n",
       "    }\n",
       "\n",
       "    .dataframe tbody tr th {\n",
       "        vertical-align: top;\n",
       "    }\n",
       "\n",
       "    .dataframe thead th {\n",
       "        text-align: right;\n",
       "    }\n",
       "</style>\n",
       "<table border=\"1\" class=\"dataframe\">\n",
       "  <thead>\n",
       "    <tr style=\"text-align: right;\">\n",
       "      <th></th>\n",
       "      <th>source_id</th>\n",
       "      <th>dt</th>\n",
       "      <th>costs</th>\n",
       "    </tr>\n",
       "  </thead>\n",
       "  <tbody>\n",
       "    <tr>\n",
       "      <th>0</th>\n",
       "      <td>1</td>\n",
       "      <td>2017-06-01</td>\n",
       "      <td>75.20</td>\n",
       "    </tr>\n",
       "    <tr>\n",
       "      <th>1</th>\n",
       "      <td>1</td>\n",
       "      <td>2017-06-02</td>\n",
       "      <td>62.25</td>\n",
       "    </tr>\n",
       "    <tr>\n",
       "      <th>2</th>\n",
       "      <td>1</td>\n",
       "      <td>2017-06-03</td>\n",
       "      <td>36.53</td>\n",
       "    </tr>\n",
       "    <tr>\n",
       "      <th>3</th>\n",
       "      <td>1</td>\n",
       "      <td>2017-06-04</td>\n",
       "      <td>55.00</td>\n",
       "    </tr>\n",
       "    <tr>\n",
       "      <th>4</th>\n",
       "      <td>1</td>\n",
       "      <td>2017-06-05</td>\n",
       "      <td>57.08</td>\n",
       "    </tr>\n",
       "  </tbody>\n",
       "</table>\n",
       "</div>"
      ],
      "text/plain": [
       "   source_id          dt  costs\n",
       "0          1  2017-06-01  75.20\n",
       "1          1  2017-06-02  62.25\n",
       "2          1  2017-06-03  36.53\n",
       "3          1  2017-06-04  55.00\n",
       "4          1  2017-06-05  57.08"
      ]
     },
     "metadata": {},
     "output_type": "display_data"
    },
    {
     "name": "stdout",
     "output_type": "stream",
     "text": [
      "<class 'pandas.core.frame.DataFrame'>\n",
      "RangeIndex: 2542 entries, 0 to 2541\n",
      "Data columns (total 3 columns):\n",
      " #   Column     Non-Null Count  Dtype  \n",
      "---  ------     --------------  -----  \n",
      " 0   source_id  2542 non-null   int64  \n",
      " 1   dt         2542 non-null   object \n",
      " 2   costs      2542 non-null   float64\n",
      "dtypes: float64(1), int64(1), object(1)\n",
      "memory usage: 59.7+ KB\n"
     ]
    }
   ],
   "source": [
    "display(costos.head())\n",
    "costos.info()"
   ]
  },
  {
   "cell_type": "markdown",
   "metadata": {},
   "source": [
    "### Cambio el tipo de datos acorde con la descripción de cada columna"
   ]
  },
  {
   "cell_type": "code",
   "execution_count": 7,
   "metadata": {},
   "outputs": [],
   "source": [
    "# Convertir la columna 'End Ts' y 'Start Ts' al formato de fecha \n",
    "\n",
    "visitas['End Ts'] = pd.to_datetime(visitas['End Ts'], format='%Y-%m-%d')\n",
    "visitas['Start Ts'] = pd.to_datetime(visitas['Start Ts'], format='%Y-%m-%d')"
   ]
  },
  {
   "cell_type": "code",
   "execution_count": 8,
   "metadata": {},
   "outputs": [],
   "source": [
    "# Convertir la columna 'Device' al formato de categoria\n",
    "\n",
    "visitas['Device'] = visitas['Device'].astype('category')"
   ]
  },
  {
   "cell_type": "code",
   "execution_count": 9,
   "metadata": {
    "scrolled": true
   },
   "outputs": [
    {
     "data": {
      "text/html": [
       "<div>\n",
       "<style scoped>\n",
       "    .dataframe tbody tr th:only-of-type {\n",
       "        vertical-align: middle;\n",
       "    }\n",
       "\n",
       "    .dataframe tbody tr th {\n",
       "        vertical-align: top;\n",
       "    }\n",
       "\n",
       "    .dataframe thead th {\n",
       "        text-align: right;\n",
       "    }\n",
       "</style>\n",
       "<table border=\"1\" class=\"dataframe\">\n",
       "  <thead>\n",
       "    <tr style=\"text-align: right;\">\n",
       "      <th></th>\n",
       "      <th>Device</th>\n",
       "      <th>End Ts</th>\n",
       "      <th>source_id</th>\n",
       "      <th>Start Ts</th>\n",
       "      <th>Uid</th>\n",
       "    </tr>\n",
       "  </thead>\n",
       "  <tbody>\n",
       "    <tr>\n",
       "      <th>0</th>\n",
       "      <td>touch</td>\n",
       "      <td>2017-12-20 17:38:00</td>\n",
       "      <td>4</td>\n",
       "      <td>2017-12-20 17:20:00</td>\n",
       "      <td>16879256277535980062</td>\n",
       "    </tr>\n",
       "    <tr>\n",
       "      <th>1</th>\n",
       "      <td>desktop</td>\n",
       "      <td>2018-02-19 17:21:00</td>\n",
       "      <td>2</td>\n",
       "      <td>2018-02-19 16:53:00</td>\n",
       "      <td>104060357244891740</td>\n",
       "    </tr>\n",
       "    <tr>\n",
       "      <th>2</th>\n",
       "      <td>touch</td>\n",
       "      <td>2017-07-01 01:54:00</td>\n",
       "      <td>5</td>\n",
       "      <td>2017-07-01 01:54:00</td>\n",
       "      <td>7459035603376831527</td>\n",
       "    </tr>\n",
       "    <tr>\n",
       "      <th>3</th>\n",
       "      <td>desktop</td>\n",
       "      <td>2018-05-20 11:23:00</td>\n",
       "      <td>9</td>\n",
       "      <td>2018-05-20 10:59:00</td>\n",
       "      <td>16174680259334210214</td>\n",
       "    </tr>\n",
       "    <tr>\n",
       "      <th>4</th>\n",
       "      <td>desktop</td>\n",
       "      <td>2017-12-27 14:06:00</td>\n",
       "      <td>3</td>\n",
       "      <td>2017-12-27 14:06:00</td>\n",
       "      <td>9969694820036681168</td>\n",
       "    </tr>\n",
       "  </tbody>\n",
       "</table>\n",
       "</div>"
      ],
      "text/plain": [
       "    Device              End Ts  source_id            Start Ts  \\\n",
       "0    touch 2017-12-20 17:38:00          4 2017-12-20 17:20:00   \n",
       "1  desktop 2018-02-19 17:21:00          2 2018-02-19 16:53:00   \n",
       "2    touch 2017-07-01 01:54:00          5 2017-07-01 01:54:00   \n",
       "3  desktop 2018-05-20 11:23:00          9 2018-05-20 10:59:00   \n",
       "4  desktop 2017-12-27 14:06:00          3 2017-12-27 14:06:00   \n",
       "\n",
       "                    Uid  \n",
       "0  16879256277535980062  \n",
       "1    104060357244891740  \n",
       "2   7459035603376831527  \n",
       "3  16174680259334210214  \n",
       "4   9969694820036681168  "
      ]
     },
     "metadata": {},
     "output_type": "display_data"
    },
    {
     "name": "stdout",
     "output_type": "stream",
     "text": [
      "<class 'pandas.core.frame.DataFrame'>\n",
      "RangeIndex: 359400 entries, 0 to 359399\n",
      "Data columns (total 5 columns):\n",
      " #   Column     Non-Null Count   Dtype         \n",
      "---  ------     --------------   -----         \n",
      " 0   Device     359400 non-null  category      \n",
      " 1   End Ts     359400 non-null  datetime64[ns]\n",
      " 2   source_id  359400 non-null  int64         \n",
      " 3   Start Ts   359400 non-null  datetime64[ns]\n",
      " 4   Uid        359400 non-null  uint64        \n",
      "dtypes: category(1), datetime64[ns](2), int64(1), uint64(1)\n",
      "memory usage: 11.3 MB\n"
     ]
    }
   ],
   "source": [
    "# Unificar los nombres de las columnas\n",
    "visitas = visitas.rename(columns={\"Source Id\" : \"source_id\"})\n",
    "\n",
    "display(visitas.head())\n",
    "visitas.info()"
   ]
  },
  {
   "cell_type": "code",
   "execution_count": 10,
   "metadata": {},
   "outputs": [
    {
     "data": {
      "text/html": [
       "<div>\n",
       "<style scoped>\n",
       "    .dataframe tbody tr th:only-of-type {\n",
       "        vertical-align: middle;\n",
       "    }\n",
       "\n",
       "    .dataframe tbody tr th {\n",
       "        vertical-align: top;\n",
       "    }\n",
       "\n",
       "    .dataframe thead th {\n",
       "        text-align: right;\n",
       "    }\n",
       "</style>\n",
       "<table border=\"1\" class=\"dataframe\">\n",
       "  <thead>\n",
       "    <tr style=\"text-align: right;\">\n",
       "      <th></th>\n",
       "      <th>Buy Ts</th>\n",
       "      <th>Revenue</th>\n",
       "      <th>Uid</th>\n",
       "    </tr>\n",
       "  </thead>\n",
       "  <tbody>\n",
       "    <tr>\n",
       "      <th>0</th>\n",
       "      <td>2017-06-01 00:10:00</td>\n",
       "      <td>17.00</td>\n",
       "      <td>10329302124590727494</td>\n",
       "    </tr>\n",
       "    <tr>\n",
       "      <th>1</th>\n",
       "      <td>2017-06-01 00:25:00</td>\n",
       "      <td>0.55</td>\n",
       "      <td>11627257723692907447</td>\n",
       "    </tr>\n",
       "    <tr>\n",
       "      <th>2</th>\n",
       "      <td>2017-06-01 00:27:00</td>\n",
       "      <td>0.37</td>\n",
       "      <td>17903680561304213844</td>\n",
       "    </tr>\n",
       "    <tr>\n",
       "      <th>3</th>\n",
       "      <td>2017-06-01 00:29:00</td>\n",
       "      <td>0.55</td>\n",
       "      <td>16109239769442553005</td>\n",
       "    </tr>\n",
       "    <tr>\n",
       "      <th>4</th>\n",
       "      <td>2017-06-01 07:58:00</td>\n",
       "      <td>0.37</td>\n",
       "      <td>14200605875248379450</td>\n",
       "    </tr>\n",
       "  </tbody>\n",
       "</table>\n",
       "</div>"
      ],
      "text/plain": [
       "               Buy Ts  Revenue                   Uid\n",
       "0 2017-06-01 00:10:00    17.00  10329302124590727494\n",
       "1 2017-06-01 00:25:00     0.55  11627257723692907447\n",
       "2 2017-06-01 00:27:00     0.37  17903680561304213844\n",
       "3 2017-06-01 00:29:00     0.55  16109239769442553005\n",
       "4 2017-06-01 07:58:00     0.37  14200605875248379450"
      ]
     },
     "metadata": {},
     "output_type": "display_data"
    },
    {
     "name": "stdout",
     "output_type": "stream",
     "text": [
      "<class 'pandas.core.frame.DataFrame'>\n",
      "RangeIndex: 50415 entries, 0 to 50414\n",
      "Data columns (total 3 columns):\n",
      " #   Column   Non-Null Count  Dtype         \n",
      "---  ------   --------------  -----         \n",
      " 0   Buy Ts   50415 non-null  datetime64[ns]\n",
      " 1   Revenue  50415 non-null  float64       \n",
      " 2   Uid      50415 non-null  uint64        \n",
      "dtypes: datetime64[ns](1), float64(1), uint64(1)\n",
      "memory usage: 1.2 MB\n"
     ]
    }
   ],
   "source": [
    "# Convertir la columna 'Buy Ts'  al formato de fecha \n",
    "ordenes['Buy Ts'] = pd.to_datetime(ordenes['Buy Ts'], format='%Y-%m-%d')\n",
    "\n",
    "display(ordenes.head())\n",
    "ordenes.info()"
   ]
  },
  {
   "cell_type": "code",
   "execution_count": 11,
   "metadata": {},
   "outputs": [
    {
     "name": "stdout",
     "output_type": "stream",
     "text": [
      "<class 'pandas.core.frame.DataFrame'>\n",
      "RangeIndex: 2542 entries, 0 to 2541\n",
      "Data columns (total 3 columns):\n",
      " #   Column     Non-Null Count  Dtype         \n",
      "---  ------     --------------  -----         \n",
      " 0   source_id  2542 non-null   int64         \n",
      " 1   dt         2542 non-null   datetime64[ns]\n",
      " 2   costs      2542 non-null   float64       \n",
      "dtypes: datetime64[ns](1), float64(1), int64(1)\n",
      "memory usage: 59.7 KB\n"
     ]
    }
   ],
   "source": [
    "# Convertir la columna 'dt'  al formato de fecha\n",
    "costos['dt'] = pd.to_datetime(costos['dt'], format='%Y-%m-%d')\n",
    "\n",
    "costos.info()"
   ]
  },
  {
   "cell_type": "markdown",
   "metadata": {},
   "source": [
    "<div class=\"alert alert-block alert-success\">\n",
    "<b>Comentario de Reviewer</b> <a class=\"tocSkip\"></a>\n",
    "\n",
    "Bien con los cambios de tipos\n",
    "</div>"
   ]
  },
  {
   "cell_type": "markdown",
   "metadata": {},
   "source": [
    "<div class=\"alert alert-block alert-warning\">\n",
    "<b>Comentario de Reviewer</b> <a class=\"tocSkip\"></a>\n",
    "\n",
    "No estoy tan de acuerdo con el cambio de nombre de source_id, es preferible dejarlo así. En general es más \"cómodo\" trabajar con notación snakecase.\n",
    "</div>"
   ]
  },
  {
   "cell_type": "markdown",
   "metadata": {},
   "source": [
    "<div class=\"alert alert-block alert-info\">\n",
    "<b>Respuesta estudiante.</b> <a class=\"tocSkip\"></a>\n",
    "\n",
    "Cambio el nombre de la columna Source Id de la tabla de visitas para trabajar con la notación snakecese\n",
    "</div>"
   ]
  },
  {
   "cell_type": "markdown",
   "metadata": {},
   "source": [
    "### Resumen preparación de los datos\n",
    "\n",
    "Se revisan nuevamente las bases de datos obtenidas y se hacen las correcciones necesarias para trabajar con ellas en Python, por ejemplo se corrige el tipo de datos de algunas columnas, al no encontrar ningún valor nulo no es necesario hacer modificaciones a ninguna de las bases de datos."
   ]
  },
  {
   "cell_type": "markdown",
   "metadata": {},
   "source": [
    "## Analisis de los datos"
   ]
  },
  {
   "cell_type": "markdown",
   "metadata": {},
   "source": [
    "### Producto"
   ]
  },
  {
   "cell_type": "markdown",
   "metadata": {},
   "source": [
    "#### Personas que usan la pagina cada día, semana y mes"
   ]
  },
  {
   "cell_type": "code",
   "execution_count": 12,
   "metadata": {},
   "outputs": [
    {
     "data": {
      "text/plain": [
       "Start Ts\n",
       "2017-06-01     605\n",
       "2017-06-02     608\n",
       "2017-06-03     445\n",
       "2017-06-04     476\n",
       "2017-06-05     820\n",
       "              ... \n",
       "2018-05-27     620\n",
       "2018-05-28    1039\n",
       "2018-05-29     948\n",
       "2018-05-30    1289\n",
       "2018-05-31    1997\n",
       "Name: Uid, Length: 364, dtype: int64"
      ]
     },
     "metadata": {},
     "output_type": "display_data"
    },
    {
     "data": {
      "text/plain": [
       "'El promedio de visitas por dias es: 907.9917582417582'"
      ]
     },
     "metadata": {},
     "output_type": "display_data"
    }
   ],
   "source": [
    "# Calcular las visitas por dia\n",
    "\n",
    "visitas_por_dia = visitas.groupby(visitas['Start Ts'].dt.date)['Uid'].nunique()\n",
    "\n",
    "display(visitas_por_dia)\n",
    "\n",
    "display(f'El promedio de visitas por dias es: {visitas_por_dia.mean()}')"
   ]
  },
  {
   "cell_type": "code",
   "execution_count": 13,
   "metadata": {
    "scrolled": true
   },
   "outputs": [
    {
     "data": {
      "text/plain": [
       "Start Ts\n",
       "2017-05-29/2017-06-04     2021\n",
       "2017-06-05/2017-06-11     4129\n",
       "2017-06-12/2017-06-18     2812\n",
       "2017-06-19/2017-06-25     2878\n",
       "2017-06-26/2017-07-02     3064\n",
       "2017-07-03/2017-07-09     3294\n",
       "2017-07-10/2017-07-16     4355\n",
       "2017-07-17/2017-07-23     3841\n",
       "2017-07-24/2017-07-30     2655\n",
       "2017-07-31/2017-08-06     2364\n",
       "2017-08-07/2017-08-13     2444\n",
       "2017-08-14/2017-08-20     2746\n",
       "2017-08-21/2017-08-27     3116\n",
       "2017-08-28/2017-09-03     3694\n",
       "2017-09-04/2017-09-10     4412\n",
       "2017-09-11/2017-09-17     4319\n",
       "2017-09-18/2017-09-24     4874\n",
       "2017-09-25/2017-10-01     6241\n",
       "2017-10-02/2017-10-08     7612\n",
       "2017-10-09/2017-10-15     7074\n",
       "2017-10-16/2017-10-22     7148\n",
       "2017-10-23/2017-10-29     7401\n",
       "2017-10-30/2017-11-05     7480\n",
       "2017-11-06/2017-11-12     7179\n",
       "2017-11-13/2017-11-19     8117\n",
       "2017-11-20/2017-11-26    10586\n",
       "2017-11-27/2017-12-03     8166\n",
       "2017-12-04/2017-12-10     8407\n",
       "2017-12-11/2017-12-17     8214\n",
       "2017-12-18/2017-12-24     7172\n",
       "2017-12-25/2017-12-31     7774\n",
       "2018-01-01/2018-01-07     6918\n",
       "2018-01-08/2018-01-14     6703\n",
       "2018-01-15/2018-01-21     6972\n",
       "2018-01-22/2018-01-28     7060\n",
       "2018-01-29/2018-02-04     8111\n",
       "2018-02-05/2018-02-11     7908\n",
       "2018-02-12/2018-02-18     7759\n",
       "2018-02-19/2018-02-25     7518\n",
       "2018-02-26/2018-03-04     7395\n",
       "2018-03-05/2018-03-11     6844\n",
       "2018-03-12/2018-03-18     6225\n",
       "2018-03-19/2018-03-25     7898\n",
       "2018-03-26/2018-04-01     4940\n",
       "2018-04-02/2018-04-08     5383\n",
       "2018-04-09/2018-04-15     5494\n",
       "2018-04-16/2018-04-22     5740\n",
       "2018-04-23/2018-04-29     5503\n",
       "2018-04-30/2018-05-06     3916\n",
       "2018-05-07/2018-05-13     4128\n",
       "2018-05-14/2018-05-20     5070\n",
       "2018-05-21/2018-05-27     4995\n",
       "2018-05-28/2018-06-03     4892\n",
       "Freq: W-SUN, Name: Uid, dtype: int64"
      ]
     },
     "metadata": {},
     "output_type": "display_data"
    },
    {
     "data": {
      "text/plain": [
       "'El promedio de visitas por semana es: 5716.245283018868'"
      ]
     },
     "metadata": {},
     "output_type": "display_data"
    }
   ],
   "source": [
    "# Calcular las visitas por semana\n",
    "visitas_por_semana = visitas.groupby(visitas['Start Ts'].dt.to_period('W'))['Uid'].nunique()\n",
    "\n",
    "display(visitas_por_semana)\n",
    "\n",
    "display(f'El promedio de visitas por semana es: {visitas_por_semana.mean()}')"
   ]
  },
  {
   "cell_type": "code",
   "execution_count": 14,
   "metadata": {},
   "outputs": [
    {
     "data": {
      "text/plain": [
       "Start Ts\n",
       "2017-06    13259\n",
       "2017-07    14183\n",
       "2017-08    11631\n",
       "2017-09    18975\n",
       "2017-10    29692\n",
       "2017-11    32797\n",
       "2017-12    31557\n",
       "2018-01    28716\n",
       "2018-02    28749\n",
       "2018-03    27473\n",
       "2018-04    21008\n",
       "2018-05    20701\n",
       "Freq: M, Name: Uid, dtype: int64"
      ]
     },
     "metadata": {},
     "output_type": "display_data"
    },
    {
     "data": {
      "text/plain": [
       "'El promedio de visitas por mes es: 23228.416666666668'"
      ]
     },
     "metadata": {},
     "output_type": "display_data"
    }
   ],
   "source": [
    "# Calcular las visitas por mes\n",
    "\n",
    "visitas_por_mes = visitas.groupby(visitas['Start Ts'].dt.to_period('M'))['Uid'].nunique()\n",
    "\n",
    "display(visitas_por_mes)\n",
    "\n",
    "display(f'El promedio de visitas por mes es: {visitas_por_mes.mean()}')"
   ]
  },
  {
   "cell_type": "markdown",
   "metadata": {},
   "source": [
    "<div class=\"alert alert-block alert-success\">\n",
    "<b>Comentario de Reviewer</b> <a class=\"tocSkip\"></a>\n",
    "\n",
    "Muy bien, correcto el cálculo de estas métricas\n",
    "</div>"
   ]
  },
  {
   "cell_type": "code",
   "execution_count": 15,
   "metadata": {
    "scrolled": true
   },
   "outputs": [
    {
     "data": {
      "image/png": "[encoded data removed]",
      "text/plain": [
       "<Figure size 432x288 with 1 Axes>"
      ]
     },
     "metadata": {
      "needs_background": "light"
     },
     "output_type": "display_data"
    }
   ],
   "source": [
    "# Crear grafico que muestre las visitas por mes\n",
    "visitas_por_mes.plot(kind='line', marker='o')\n",
    "plt.title('Visitas por Mes')\n",
    "plt.xlabel('Mes')\n",
    "plt.ylabel('Visitas')\n",
    "plt.grid(True)\n",
    "plt.show()"
   ]
  },
  {
   "cell_type": "code",
   "execution_count": 16,
   "metadata": {
    "scrolled": true
   },
   "outputs": [
    {
     "data": {
      "image/png": "[encoded data removed]",
      "text/plain": [
       "<Figure size 432x288 with 1 Axes>"
      ]
     },
     "metadata": {
      "needs_background": "light"
     },
     "output_type": "display_data"
    }
   ],
   "source": [
    "# Crear grafico que muestre las visitas por dia\n",
    "visitas_por_dia.plot(kind='line')\n",
    "plt.title('Visitas por dia')\n",
    "plt.xlabel('Dia')\n",
    "plt.ylabel('Visitas')\n",
    "plt.grid(True)\n",
    "plt.show()"
   ]
  },
  {
   "cell_type": "code",
   "execution_count": 17,
   "metadata": {},
   "outputs": [
    {
     "data": {
      "image/png": "[encoded data removed]",
      "text/plain": [
       "<Figure size 432x288 with 1 Axes>"
      ]
     },
     "metadata": {
      "needs_background": "light"
     },
     "output_type": "display_data"
    }
   ],
   "source": [
    "# Crear grafico que muestre las visitas por semana\n",
    "visitas_por_semana.plot(kind='line')\n",
    "plt.title('Visitas por semana')\n",
    "plt.xlabel('Semana')\n",
    "plt.ylabel('Visitas')\n",
    "plt.grid(True)\n",
    "plt.show()"
   ]
  },
  {
   "cell_type": "markdown",
   "metadata": {},
   "source": [
    "<div class=\"alert alert-block alert-success\">\n",
    "<b>Comentario de Reviewer</b> <a class=\"tocSkip\"></a>\n",
    "\n",
    "Bien, aunque idealmente sería bueno incluir el gráfico por día y semana también\n",
    "</div>"
   ]
  },
  {
   "cell_type": "markdown",
   "metadata": {},
   "source": [
    "<div class=\"alert alert-block alert-info\">\n",
    "<b>Respuesta estudiante.</b> <a class=\"tocSkip\"></a>\n",
    "    \n",
    "Se incluyen los graficos por día y semana\n",
    "</div>"
   ]
  },
  {
   "cell_type": "markdown",
   "metadata": {},
   "source": [
    "#### Sesiones por dia"
   ]
  },
  {
   "cell_type": "code",
   "execution_count": 18,
   "metadata": {
    "scrolled": true
   },
   "outputs": [
    {
     "data": {
      "text/plain": [
       "Start Ts\n",
       "2017-06-01     664\n",
       "2017-06-02     658\n",
       "2017-06-03     477\n",
       "2017-06-04     510\n",
       "2017-06-05     893\n",
       "              ... \n",
       "2018-05-27     672\n",
       "2018-05-28    1156\n",
       "2018-05-29    1035\n",
       "2018-05-30    1410\n",
       "2018-05-31    2256\n",
       "Length: 364, dtype: int64"
      ]
     },
     "metadata": {},
     "output_type": "display_data"
    },
    {
     "data": {
      "text/plain": [
       "'El promedio de sesiones por dia es de: 987.3626373626373'"
      ]
     },
     "metadata": {},
     "output_type": "display_data"
    }
   ],
   "source": [
    "# calcular las sesiones por dia\n",
    "\n",
    "sesiones_por_dia = visitas.groupby(visitas['Start Ts'].dt.date).size()\n",
    "\n",
    "display(sesiones_por_dia)\n",
    "display(f'El promedio de sesiones por dia es de: {sesiones_por_dia.mean()}')"
   ]
  },
  {
   "cell_type": "markdown",
   "metadata": {},
   "source": [
    "<div class=\"alert alert-block alert-success\">\n",
    "<b>Comentario de Reviewer</b> <a class=\"tocSkip\"></a>\n",
    "\n",
    "Correcto\n",
    "</div>"
   ]
  },
  {
   "cell_type": "markdown",
   "metadata": {},
   "source": [
    "#### Duración por sesión"
   ]
  },
  {
   "cell_type": "code",
   "execution_count": 19,
   "metadata": {},
   "outputs": [
    {
     "data": {
      "text/html": [
       "<div>\n",
       "<style scoped>\n",
       "    .dataframe tbody tr th:only-of-type {\n",
       "        vertical-align: middle;\n",
       "    }\n",
       "\n",
       "    .dataframe tbody tr th {\n",
       "        vertical-align: top;\n",
       "    }\n",
       "\n",
       "    .dataframe thead th {\n",
       "        text-align: right;\n",
       "    }\n",
       "</style>\n",
       "<table border=\"1\" class=\"dataframe\">\n",
       "  <thead>\n",
       "    <tr style=\"text-align: right;\">\n",
       "      <th></th>\n",
       "      <th>Device</th>\n",
       "      <th>End Ts</th>\n",
       "      <th>source_id</th>\n",
       "      <th>Start Ts</th>\n",
       "      <th>Uid</th>\n",
       "      <th>Duracion sesion</th>\n",
       "    </tr>\n",
       "  </thead>\n",
       "  <tbody>\n",
       "    <tr>\n",
       "      <th>0</th>\n",
       "      <td>touch</td>\n",
       "      <td>2017-12-20 17:38:00</td>\n",
       "      <td>4</td>\n",
       "      <td>2017-12-20 17:20:00</td>\n",
       "      <td>16879256277535980062</td>\n",
       "      <td>0 days 00:18:00</td>\n",
       "    </tr>\n",
       "    <tr>\n",
       "      <th>1</th>\n",
       "      <td>desktop</td>\n",
       "      <td>2018-02-19 17:21:00</td>\n",
       "      <td>2</td>\n",
       "      <td>2018-02-19 16:53:00</td>\n",
       "      <td>104060357244891740</td>\n",
       "      <td>0 days 00:28:00</td>\n",
       "    </tr>\n",
       "    <tr>\n",
       "      <th>2</th>\n",
       "      <td>touch</td>\n",
       "      <td>2017-07-01 01:54:00</td>\n",
       "      <td>5</td>\n",
       "      <td>2017-07-01 01:54:00</td>\n",
       "      <td>7459035603376831527</td>\n",
       "      <td>0 days 00:00:00</td>\n",
       "    </tr>\n",
       "    <tr>\n",
       "      <th>3</th>\n",
       "      <td>desktop</td>\n",
       "      <td>2018-05-20 11:23:00</td>\n",
       "      <td>9</td>\n",
       "      <td>2018-05-20 10:59:00</td>\n",
       "      <td>16174680259334210214</td>\n",
       "      <td>0 days 00:24:00</td>\n",
       "    </tr>\n",
       "    <tr>\n",
       "      <th>4</th>\n",
       "      <td>desktop</td>\n",
       "      <td>2017-12-27 14:06:00</td>\n",
       "      <td>3</td>\n",
       "      <td>2017-12-27 14:06:00</td>\n",
       "      <td>9969694820036681168</td>\n",
       "      <td>0 days 00:00:00</td>\n",
       "    </tr>\n",
       "  </tbody>\n",
       "</table>\n",
       "</div>"
      ],
      "text/plain": [
       "    Device              End Ts  source_id            Start Ts  \\\n",
       "0    touch 2017-12-20 17:38:00          4 2017-12-20 17:20:00   \n",
       "1  desktop 2018-02-19 17:21:00          2 2018-02-19 16:53:00   \n",
       "2    touch 2017-07-01 01:54:00          5 2017-07-01 01:54:00   \n",
       "3  desktop 2018-05-20 11:23:00          9 2018-05-20 10:59:00   \n",
       "4  desktop 2017-12-27 14:06:00          3 2017-12-27 14:06:00   \n",
       "\n",
       "                    Uid Duracion sesion  \n",
       "0  16879256277535980062 0 days 00:18:00  \n",
       "1    104060357244891740 0 days 00:28:00  \n",
       "2   7459035603376831527 0 days 00:00:00  \n",
       "3  16174680259334210214 0 days 00:24:00  \n",
       "4   9969694820036681168 0 days 00:00:00  "
      ]
     },
     "metadata": {},
     "output_type": "display_data"
    },
    {
     "data": {
      "text/plain": [
       "'Duración promedio de la sesión es: 0 days 00:10:43.025687256'"
      ]
     },
     "metadata": {},
     "output_type": "display_data"
    },
    {
     "data": {
      "text/plain": [
       "'La Mediana de la sesion es: 0 days 00:05:00'"
      ]
     },
     "metadata": {},
     "output_type": "display_data"
    },
    {
     "data": {
      "text/plain": [
       "'La duracion que mas se repite es: 0   0 days 00:01:00\\ndtype: timedelta64[ns]'"
      ]
     },
     "metadata": {},
     "output_type": "display_data"
    }
   ],
   "source": [
    "# Calcular la duracion de la sesión, se crea una nueva columana que registra la duracion de cada sesión\n",
    "\n",
    "visitas['Duracion sesion'] = visitas['End Ts'] - visitas['Start Ts']\n",
    "\n",
    "display(visitas.head())\n",
    "\n",
    "display(f'Duración promedio de la sesión es: {visitas[\"Duracion sesion\"].mean()}')\n",
    "display(f'La Mediana de la sesion es: {visitas[\"Duracion sesion\"].median()}')\n",
    "display(f'La duracion que mas se repite es: {visitas[\"Duracion sesion\"].mode()}')"
   ]
  },
  {
   "cell_type": "markdown",
   "metadata": {},
   "source": [
    "<div class=\"alert alert-block alert-success\">\n",
    "<b>Comentario de Reviewer</b> <a class=\"tocSkip\"></a>\n",
    "\n",
    "Muy bien, la métrica es correcto. Se podría complementar esta parte mostrando la distribución y/o indicando mediana,moda, percentiles, etc\n",
    "</div>"
   ]
  },
  {
   "cell_type": "markdown",
   "metadata": {},
   "source": [
    "<div class=\"alert alert-block alert-info\">\n",
    "<b>Respuesta estudiante.</b> <a class=\"tocSkip\"></a>\n",
    "    \n",
    "Se incluyen las metricas de la mediana y la moda\n",
    "\n",
    "</div>"
   ]
  },
  {
   "cell_type": "markdown",
   "metadata": {},
   "source": [
    "#### Frecuencia con la que regresan los usuarios"
   ]
  },
  {
   "cell_type": "code",
   "execution_count": 20,
   "metadata": {},
   "outputs": [
    {
     "data": {
      "text/plain": [
       "'El porcentaje de usuarios que regresan es: 22.84622363248294'"
      ]
     },
     "metadata": {},
     "output_type": "display_data"
    }
   ],
   "source": [
    "# Calcular el numero de sesiones por usuario\n",
    "sesiones_por_usuario = visitas.groupby('Uid').size()\n",
    "\n",
    "# Calcula el número de usuarios que tienen más de una sesión\n",
    "usuarios_regresan = (sesiones_por_usuario > 1).sum()\n",
    "\n",
    "# Calcula la frecuencia con la que los usuarios regresan\n",
    "frecuencia_regreso = (usuarios_regresan / sesiones_por_usuario.count()) * 100\n",
    "\n",
    "display(f'El porcentaje de usuarios que regresan es: {frecuencia_regreso}')"
   ]
  },
  {
   "cell_type": "markdown",
   "metadata": {},
   "source": [
    "<div class=\"alert alert-block alert-success\">\n",
    "<b>Comentario de Reviewer</b> <a class=\"tocSkip\"></a>\n",
    "\n",
    "Muy bien. Otras formas de interpretar esta pregunta es calcular el stickyness factor semanal/mensual.\n",
    "</div>"
   ]
  },
  {
   "cell_type": "code",
   "execution_count": 21,
   "metadata": {},
   "outputs": [
    {
     "data": {
      "text/html": [
       "<div>\n",
       "<style scoped>\n",
       "    .dataframe tbody tr th:only-of-type {\n",
       "        vertical-align: middle;\n",
       "    }\n",
       "\n",
       "    .dataframe tbody tr th {\n",
       "        vertical-align: top;\n",
       "    }\n",
       "\n",
       "    .dataframe thead th {\n",
       "        text-align: right;\n",
       "    }\n",
       "</style>\n",
       "<table border=\"1\" class=\"dataframe\">\n",
       "  <thead>\n",
       "    <tr style=\"text-align: right;\">\n",
       "      <th></th>\n",
       "      <th>Device</th>\n",
       "      <th>End Ts</th>\n",
       "      <th>source_id</th>\n",
       "      <th>Start Ts</th>\n",
       "      <th>Uid</th>\n",
       "      <th>Duracion sesion</th>\n",
       "      <th>Dias Hasta Siguiente Visita</th>\n",
       "    </tr>\n",
       "  </thead>\n",
       "  <tbody>\n",
       "    <tr>\n",
       "      <th>196543</th>\n",
       "      <td>touch</td>\n",
       "      <td>2018-03-01 17:33:00</td>\n",
       "      <td>3</td>\n",
       "      <td>2018-03-01 17:27:00</td>\n",
       "      <td>11863502262781</td>\n",
       "      <td>0 days 00:06:00</td>\n",
       "      <td>NaN</td>\n",
       "    </tr>\n",
       "    <tr>\n",
       "      <th>257333</th>\n",
       "      <td>touch</td>\n",
       "      <td>2018-02-06 15:57:00</td>\n",
       "      <td>2</td>\n",
       "      <td>2018-02-06 15:55:00</td>\n",
       "      <td>49537067089222</td>\n",
       "      <td>0 days 00:02:00</td>\n",
       "      <td>NaN</td>\n",
       "    </tr>\n",
       "    <tr>\n",
       "      <th>173818</th>\n",
       "      <td>desktop</td>\n",
       "      <td>2017-06-07 18:48:00</td>\n",
       "      <td>3</td>\n",
       "      <td>2017-06-07 18:47:00</td>\n",
       "      <td>297729379853735</td>\n",
       "      <td>0 days 00:01:00</td>\n",
       "      <td>NaN</td>\n",
       "    </tr>\n",
       "    <tr>\n",
       "      <th>173142</th>\n",
       "      <td>desktop</td>\n",
       "      <td>2017-09-18 23:07:00</td>\n",
       "      <td>2</td>\n",
       "      <td>2017-09-18 22:49:00</td>\n",
       "      <td>313578113262317</td>\n",
       "      <td>0 days 00:18:00</td>\n",
       "      <td>NaN</td>\n",
       "    </tr>\n",
       "    <tr>\n",
       "      <th>192554</th>\n",
       "      <td>desktop</td>\n",
       "      <td>2018-02-18 15:26:00</td>\n",
       "      <td>2</td>\n",
       "      <td>2018-02-18 15:17:00</td>\n",
       "      <td>313578113262317</td>\n",
       "      <td>0 days 00:09:00</td>\n",
       "      <td>152.0</td>\n",
       "    </tr>\n",
       "  </tbody>\n",
       "</table>\n",
       "</div>"
      ],
      "text/plain": [
       "         Device              End Ts  source_id            Start Ts  \\\n",
       "196543    touch 2018-03-01 17:33:00          3 2018-03-01 17:27:00   \n",
       "257333    touch 2018-02-06 15:57:00          2 2018-02-06 15:55:00   \n",
       "173818  desktop 2017-06-07 18:48:00          3 2017-06-07 18:47:00   \n",
       "173142  desktop 2017-09-18 23:07:00          2 2017-09-18 22:49:00   \n",
       "192554  desktop 2018-02-18 15:26:00          2 2018-02-18 15:17:00   \n",
       "\n",
       "                    Uid Duracion sesion  Dias Hasta Siguiente Visita  \n",
       "196543   11863502262781 0 days 00:06:00                          NaN  \n",
       "257333   49537067089222 0 days 00:02:00                          NaN  \n",
       "173818  297729379853735 0 days 00:01:00                          NaN  \n",
       "173142  313578113262317 0 days 00:18:00                          NaN  \n",
       "192554  313578113262317 0 days 00:09:00                        152.0  "
      ]
     },
     "metadata": {},
     "output_type": "display_data"
    },
    {
     "data": {
      "text/plain": [
       "'El promedio de dias que se demora en regresar un usuario es de : 27.67683702783641'"
      ]
     },
     "metadata": {},
     "output_type": "display_data"
    }
   ],
   "source": [
    "# Calcula el tiempo promedio entre sesiones para cada usuario\n",
    "visitas_1 = visitas.sort_values(by=['Uid', 'Start Ts'])\n",
    "visitas_1['Dias Hasta Siguiente Visita'] = visitas_1.groupby('Uid')['Start Ts'].diff().dt.days\n",
    "promedio_dias_vuelta = visitas_1['Dias Hasta Siguiente Visita'].mean()\n",
    "\n",
    "display(visitas_1.head())\n",
    "display(f'El promedio de dias que se demora en regresar un usuario es de : {promedio_dias_vuelta}')"
   ]
  },
  {
   "cell_type": "markdown",
   "metadata": {},
   "source": [
    "<div class=\"alert alert-block alert-success\">\n",
    "<b>Comentario de Reviewer</b> <a class=\"tocSkip\"></a>\n",
    "\n",
    "Excelente, muy bien calculado.\n",
    "</div>"
   ]
  },
  {
   "cell_type": "code",
   "execution_count": 22,
   "metadata": {},
   "outputs": [
    {
     "data": {
      "text/plain": [
       "Dias Hasta Siguiente Visita\n",
       "0.0     19231\n",
       "1.0      6055\n",
       "2.0      4205\n",
       "3.0      3409\n",
       "4.0      2825\n",
       "5.0      2456\n",
       "6.0      2305\n",
       "7.0      2027\n",
       "8.0      1720\n",
       "9.0      1540\n",
       "10.0     1370\n",
       "11.0     1338\n",
       "12.0     1305\n",
       "13.0     1394\n",
       "14.0     1350\n",
       "15.0     1093\n",
       "16.0     1000\n",
       "17.0      928\n",
       "18.0      944\n",
       "19.0      904\n",
       "20.0      972\n",
       "21.0      863\n",
       "22.0      786\n",
       "23.0      708\n",
       "24.0      677\n",
       "25.0      676\n",
       "26.0      680\n",
       "27.0      755\n",
       "28.0      686\n",
       "29.0      586\n",
       "Name: Uid, dtype: int64"
      ]
     },
     "metadata": {},
     "output_type": "display_data"
    }
   ],
   "source": [
    "# Agrupar y contar los usuarios según la duración de días hasta el nuevo inicio de sesión\n",
    "conteo_visitas = visitas_1.groupby('Dias Hasta Siguiente Visita')['Uid'].nunique()\n",
    "display(conteo_visitas.head(30))"
   ]
  },
  {
   "cell_type": "code",
   "execution_count": 23,
   "metadata": {},
   "outputs": [
    {
     "data": {
      "image/png": "[encoded data removed]",
      "text/plain": [
       "<Figure size 432x288 with 1 Axes>"
      ]
     },
     "metadata": {
      "needs_background": "light"
     },
     "output_type": "display_data"
    }
   ],
   "source": [
    "# Crear un gráfico de barras para mostrar el conteo de usuarios por duración de días hasta el nuevo inicio de sesión\n",
    "conteo_visitas_30 = conteo_visitas.head(30)\n",
    "conteo_visitas_30.plot(kind='bar')\n",
    "plt.title('Conteo de Usuarios por Duración de Días Hasta Siguiente Visita')\n",
    "plt.xlabel('Días Hasta Siguiente Visita')\n",
    "plt.ylabel('Número de Usuarios')\n",
    "plt.show()"
   ]
  },
  {
   "cell_type": "markdown",
   "metadata": {},
   "source": [
    "<div class=\"alert alert-block alert-success\">\n",
    "<b>Comentario de Reviewer</b> <a class=\"tocSkip\"></a>\n",
    "\n",
    "Excelente, mostrar la distribución es muchísimo mejor que solamente calcular la media o algún estadístico. Si combinamos este gráfico con la media, se deduce que hay usuarios que tardan muchísimo en volver y estos inflan la media.\n",
    "</div>"
   ]
  },
  {
   "cell_type": "markdown",
   "metadata": {},
   "source": [
    "### Ventas"
   ]
  },
  {
   "cell_type": "markdown",
   "metadata": {},
   "source": [
    "#### Categorias de conversión"
   ]
  },
  {
   "cell_type": "code",
   "execution_count": 24,
   "metadata": {},
   "outputs": [
    {
     "data": {
      "text/html": [
       "<div>\n",
       "<style scoped>\n",
       "    .dataframe tbody tr th:only-of-type {\n",
       "        vertical-align: middle;\n",
       "    }\n",
       "\n",
       "    .dataframe tbody tr th {\n",
       "        vertical-align: top;\n",
       "    }\n",
       "\n",
       "    .dataframe thead th {\n",
       "        text-align: right;\n",
       "    }\n",
       "</style>\n",
       "<table border=\"1\" class=\"dataframe\">\n",
       "  <thead>\n",
       "    <tr style=\"text-align: right;\">\n",
       "      <th></th>\n",
       "      <th>Device</th>\n",
       "      <th>End Ts</th>\n",
       "      <th>source_id</th>\n",
       "      <th>Start Ts</th>\n",
       "      <th>Uid</th>\n",
       "      <th>Duracion sesion</th>\n",
       "    </tr>\n",
       "  </thead>\n",
       "  <tbody>\n",
       "    <tr>\n",
       "      <th>308527</th>\n",
       "      <td>desktop</td>\n",
       "      <td>2017-06-01 00:02:00</td>\n",
       "      <td>5</td>\n",
       "      <td>2017-06-01 00:01:00</td>\n",
       "      <td>13890188992670018146</td>\n",
       "      <td>0 days 00:01:00</td>\n",
       "    </tr>\n",
       "    <tr>\n",
       "      <th>260646</th>\n",
       "      <td>desktop</td>\n",
       "      <td>2017-06-01 00:02:00</td>\n",
       "      <td>3</td>\n",
       "      <td>2017-06-01 00:02:00</td>\n",
       "      <td>16152015161748786004</td>\n",
       "      <td>0 days 00:00:00</td>\n",
       "    </tr>\n",
       "    <tr>\n",
       "      <th>245715</th>\n",
       "      <td>desktop</td>\n",
       "      <td>2017-06-01 00:16:00</td>\n",
       "      <td>3</td>\n",
       "      <td>2017-06-01 00:02:00</td>\n",
       "      <td>16706502037388497502</td>\n",
       "      <td>0 days 00:14:00</td>\n",
       "    </tr>\n",
       "    <tr>\n",
       "      <th>235930</th>\n",
       "      <td>desktop</td>\n",
       "      <td>2017-06-01 00:04:00</td>\n",
       "      <td>3</td>\n",
       "      <td>2017-06-01 00:04:00</td>\n",
       "      <td>8842918131297115663</td>\n",
       "      <td>0 days 00:00:00</td>\n",
       "    </tr>\n",
       "    <tr>\n",
       "      <th>11727</th>\n",
       "      <td>desktop</td>\n",
       "      <td>2017-06-01 00:11:00</td>\n",
       "      <td>1</td>\n",
       "      <td>2017-06-01 00:09:00</td>\n",
       "      <td>10329302124590727494</td>\n",
       "      <td>0 days 00:02:00</td>\n",
       "    </tr>\n",
       "    <tr>\n",
       "      <th>...</th>\n",
       "      <td>...</td>\n",
       "      <td>...</td>\n",
       "      <td>...</td>\n",
       "      <td>...</td>\n",
       "      <td>...</td>\n",
       "      <td>...</td>\n",
       "    </tr>\n",
       "    <tr>\n",
       "      <th>299620</th>\n",
       "      <td>desktop</td>\n",
       "      <td>2018-06-01 00:04:00</td>\n",
       "      <td>4</td>\n",
       "      <td>2018-05-31 23:59:00</td>\n",
       "      <td>83872787173869366</td>\n",
       "      <td>0 days 00:05:00</td>\n",
       "    </tr>\n",
       "    <tr>\n",
       "      <th>198329</th>\n",
       "      <td>desktop</td>\n",
       "      <td>2018-06-01 00:11:00</td>\n",
       "      <td>3</td>\n",
       "      <td>2018-05-31 23:59:00</td>\n",
       "      <td>3720373600909378583</td>\n",
       "      <td>0 days 00:12:00</td>\n",
       "    </tr>\n",
       "    <tr>\n",
       "      <th>269213</th>\n",
       "      <td>touch</td>\n",
       "      <td>2018-06-01 00:12:00</td>\n",
       "      <td>10</td>\n",
       "      <td>2018-05-31 23:59:00</td>\n",
       "      <td>10723414689244282024</td>\n",
       "      <td>0 days 00:13:00</td>\n",
       "    </tr>\n",
       "    <tr>\n",
       "      <th>294423</th>\n",
       "      <td>desktop</td>\n",
       "      <td>2018-05-31 23:59:00</td>\n",
       "      <td>2</td>\n",
       "      <td>2018-05-31 23:59:00</td>\n",
       "      <td>10406407303624848652</td>\n",
       "      <td>0 days 00:00:00</td>\n",
       "    </tr>\n",
       "    <tr>\n",
       "      <th>263781</th>\n",
       "      <td>desktop</td>\n",
       "      <td>2018-06-01 00:25:00</td>\n",
       "      <td>1</td>\n",
       "      <td>2018-05-31 23:59:00</td>\n",
       "      <td>4906562732540547408</td>\n",
       "      <td>0 days 00:26:00</td>\n",
       "    </tr>\n",
       "  </tbody>\n",
       "</table>\n",
       "<p>228169 rows × 6 columns</p>\n",
       "</div>"
      ],
      "text/plain": [
       "         Device              End Ts  source_id            Start Ts  \\\n",
       "308527  desktop 2017-06-01 00:02:00          5 2017-06-01 00:01:00   \n",
       "260646  desktop 2017-06-01 00:02:00          3 2017-06-01 00:02:00   \n",
       "245715  desktop 2017-06-01 00:16:00          3 2017-06-01 00:02:00   \n",
       "235930  desktop 2017-06-01 00:04:00          3 2017-06-01 00:04:00   \n",
       "11727   desktop 2017-06-01 00:11:00          1 2017-06-01 00:09:00   \n",
       "...         ...                 ...        ...                 ...   \n",
       "299620  desktop 2018-06-01 00:04:00          4 2018-05-31 23:59:00   \n",
       "198329  desktop 2018-06-01 00:11:00          3 2018-05-31 23:59:00   \n",
       "269213    touch 2018-06-01 00:12:00         10 2018-05-31 23:59:00   \n",
       "294423  desktop 2018-05-31 23:59:00          2 2018-05-31 23:59:00   \n",
       "263781  desktop 2018-06-01 00:25:00          1 2018-05-31 23:59:00   \n",
       "\n",
       "                         Uid Duracion sesion  \n",
       "308527  13890188992670018146 0 days 00:01:00  \n",
       "260646  16152015161748786004 0 days 00:00:00  \n",
       "245715  16706502037388497502 0 days 00:14:00  \n",
       "235930   8842918131297115663 0 days 00:00:00  \n",
       "11727   10329302124590727494 0 days 00:02:00  \n",
       "...                      ...             ...  \n",
       "299620     83872787173869366 0 days 00:05:00  \n",
       "198329   3720373600909378583 0 days 00:12:00  \n",
       "269213  10723414689244282024 0 days 00:13:00  \n",
       "294423  10406407303624848652 0 days 00:00:00  \n",
       "263781   4906562732540547408 0 days 00:26:00  \n",
       "\n",
       "[228169 rows x 6 columns]"
      ]
     },
     "metadata": {},
     "output_type": "display_data"
    }
   ],
   "source": [
    "# Ordenar el DataFrame por 'Start Ts' para asegurarnos de que las primeras visitas estén en la parte superior\n",
    "visitas_uno = visitas.sort_values(by='Start Ts')\n",
    "\n",
    "# Crear la tabla 'primera_visita' seleccionando solo la primera visita de cada usuario\n",
    "primera_visita = visitas_uno.drop_duplicates(subset='Uid', keep='first')\n",
    "\n",
    "display(primera_visita)"
   ]
  },
  {
   "cell_type": "markdown",
   "metadata": {},
   "source": [
    "<div class=\"alert alert-block alert-success\">\n",
    "<b>Comentario de Reviewer</b> <a class=\"tocSkip\"></a>\n",
    "\n",
    "Correcto!\n",
    "</div>"
   ]
  },
  {
   "cell_type": "code",
   "execution_count": 25,
   "metadata": {
    "scrolled": true
   },
   "outputs": [
    {
     "data": {
      "text/html": [
       "<div>\n",
       "<style scoped>\n",
       "    .dataframe tbody tr th:only-of-type {\n",
       "        vertical-align: middle;\n",
       "    }\n",
       "\n",
       "    .dataframe tbody tr th {\n",
       "        vertical-align: top;\n",
       "    }\n",
       "\n",
       "    .dataframe thead th {\n",
       "        text-align: right;\n",
       "    }\n",
       "</style>\n",
       "<table border=\"1\" class=\"dataframe\">\n",
       "  <thead>\n",
       "    <tr style=\"text-align: right;\">\n",
       "      <th></th>\n",
       "      <th>Buy Ts</th>\n",
       "      <th>Revenue</th>\n",
       "      <th>Uid</th>\n",
       "    </tr>\n",
       "  </thead>\n",
       "  <tbody>\n",
       "    <tr>\n",
       "      <th>0</th>\n",
       "      <td>2017-06-01 00:10:00</td>\n",
       "      <td>17.00</td>\n",
       "      <td>10329302124590727494</td>\n",
       "    </tr>\n",
       "    <tr>\n",
       "      <th>1</th>\n",
       "      <td>2017-06-01 00:25:00</td>\n",
       "      <td>0.55</td>\n",
       "      <td>11627257723692907447</td>\n",
       "    </tr>\n",
       "    <tr>\n",
       "      <th>2</th>\n",
       "      <td>2017-06-01 00:27:00</td>\n",
       "      <td>0.37</td>\n",
       "      <td>17903680561304213844</td>\n",
       "    </tr>\n",
       "    <tr>\n",
       "      <th>3</th>\n",
       "      <td>2017-06-01 00:29:00</td>\n",
       "      <td>0.55</td>\n",
       "      <td>16109239769442553005</td>\n",
       "    </tr>\n",
       "    <tr>\n",
       "      <th>4</th>\n",
       "      <td>2017-06-01 07:58:00</td>\n",
       "      <td>0.37</td>\n",
       "      <td>14200605875248379450</td>\n",
       "    </tr>\n",
       "    <tr>\n",
       "      <th>...</th>\n",
       "      <td>...</td>\n",
       "      <td>...</td>\n",
       "      <td>...</td>\n",
       "    </tr>\n",
       "    <tr>\n",
       "      <th>50410</th>\n",
       "      <td>2018-05-31 23:50:00</td>\n",
       "      <td>4.64</td>\n",
       "      <td>12296626599487328624</td>\n",
       "    </tr>\n",
       "    <tr>\n",
       "      <th>50411</th>\n",
       "      <td>2018-05-31 23:50:00</td>\n",
       "      <td>5.80</td>\n",
       "      <td>11369640365507475976</td>\n",
       "    </tr>\n",
       "    <tr>\n",
       "      <th>50412</th>\n",
       "      <td>2018-05-31 23:54:00</td>\n",
       "      <td>0.30</td>\n",
       "      <td>1786462140797698849</td>\n",
       "    </tr>\n",
       "    <tr>\n",
       "      <th>50413</th>\n",
       "      <td>2018-05-31 23:56:00</td>\n",
       "      <td>3.67</td>\n",
       "      <td>3993697860786194247</td>\n",
       "    </tr>\n",
       "    <tr>\n",
       "      <th>50414</th>\n",
       "      <td>2018-06-01 00:02:00</td>\n",
       "      <td>3.42</td>\n",
       "      <td>83872787173869366</td>\n",
       "    </tr>\n",
       "  </tbody>\n",
       "</table>\n",
       "<p>36523 rows × 3 columns</p>\n",
       "</div>"
      ],
      "text/plain": [
       "                   Buy Ts  Revenue                   Uid\n",
       "0     2017-06-01 00:10:00    17.00  10329302124590727494\n",
       "1     2017-06-01 00:25:00     0.55  11627257723692907447\n",
       "2     2017-06-01 00:27:00     0.37  17903680561304213844\n",
       "3     2017-06-01 00:29:00     0.55  16109239769442553005\n",
       "4     2017-06-01 07:58:00     0.37  14200605875248379450\n",
       "...                   ...      ...                   ...\n",
       "50410 2018-05-31 23:50:00     4.64  12296626599487328624\n",
       "50411 2018-05-31 23:50:00     5.80  11369640365507475976\n",
       "50412 2018-05-31 23:54:00     0.30   1786462140797698849\n",
       "50413 2018-05-31 23:56:00     3.67   3993697860786194247\n",
       "50414 2018-06-01 00:02:00     3.42     83872787173869366\n",
       "\n",
       "[36523 rows x 3 columns]"
      ]
     },
     "metadata": {},
     "output_type": "display_data"
    }
   ],
   "source": [
    "# Ordenar el DataFrame por 'Start Ts' para asegurarnos de que las primeras visitas estén en la parte superior\n",
    "compra_uno = ordenes.sort_values(by='Buy Ts')\n",
    "\n",
    "# Crear la tabla 'primera_visita' seleccionando solo la primera compra de cada usuario\n",
    "primera_compra = compra_uno.drop_duplicates(subset='Uid', keep='first')\n",
    "\n",
    "display(primera_compra)"
   ]
  },
  {
   "cell_type": "markdown",
   "metadata": {},
   "source": [
    "<div class=\"alert alert-block alert-success\">\n",
    "<b>Comentario de Reviewer</b> <a class=\"tocSkip\"></a>\n",
    "\n",
    "Correcto!\n",
    "</div>"
   ]
  },
  {
   "cell_type": "code",
   "execution_count": 26,
   "metadata": {
    "scrolled": true
   },
   "outputs": [
    {
     "data": {
      "text/html": [
       "<div>\n",
       "<style scoped>\n",
       "    .dataframe tbody tr th:only-of-type {\n",
       "        vertical-align: middle;\n",
       "    }\n",
       "\n",
       "    .dataframe tbody tr th {\n",
       "        vertical-align: top;\n",
       "    }\n",
       "\n",
       "    .dataframe thead th {\n",
       "        text-align: right;\n",
       "    }\n",
       "</style>\n",
       "<table border=\"1\" class=\"dataframe\">\n",
       "  <thead>\n",
       "    <tr style=\"text-align: right;\">\n",
       "      <th></th>\n",
       "      <th>Device</th>\n",
       "      <th>End Ts</th>\n",
       "      <th>source_id</th>\n",
       "      <th>Start Ts</th>\n",
       "      <th>Uid</th>\n",
       "      <th>Duracion sesion</th>\n",
       "      <th>Buy Ts</th>\n",
       "      <th>Revenue</th>\n",
       "      <th>Tiempo_transcurrido</th>\n",
       "      <th>Cohorte_conversion</th>\n",
       "    </tr>\n",
       "  </thead>\n",
       "  <tbody>\n",
       "    <tr>\n",
       "      <th>0</th>\n",
       "      <td>desktop</td>\n",
       "      <td>2017-06-01 00:02:00</td>\n",
       "      <td>5</td>\n",
       "      <td>2017-06-01 00:01:00</td>\n",
       "      <td>13890188992670018146</td>\n",
       "      <td>0 days 00:01:00</td>\n",
       "      <td>NaT</td>\n",
       "      <td>NaN</td>\n",
       "      <td>NaN</td>\n",
       "      <td>Sin conversión</td>\n",
       "    </tr>\n",
       "    <tr>\n",
       "      <th>1</th>\n",
       "      <td>desktop</td>\n",
       "      <td>2017-06-01 00:02:00</td>\n",
       "      <td>3</td>\n",
       "      <td>2017-06-01 00:02:00</td>\n",
       "      <td>16152015161748786004</td>\n",
       "      <td>0 days 00:00:00</td>\n",
       "      <td>NaT</td>\n",
       "      <td>NaN</td>\n",
       "      <td>NaN</td>\n",
       "      <td>Sin conversión</td>\n",
       "    </tr>\n",
       "    <tr>\n",
       "      <th>2</th>\n",
       "      <td>desktop</td>\n",
       "      <td>2017-06-01 00:16:00</td>\n",
       "      <td>3</td>\n",
       "      <td>2017-06-01 00:02:00</td>\n",
       "      <td>16706502037388497502</td>\n",
       "      <td>0 days 00:14:00</td>\n",
       "      <td>NaT</td>\n",
       "      <td>NaN</td>\n",
       "      <td>NaN</td>\n",
       "      <td>Sin conversión</td>\n",
       "    </tr>\n",
       "    <tr>\n",
       "      <th>3</th>\n",
       "      <td>desktop</td>\n",
       "      <td>2017-06-01 00:04:00</td>\n",
       "      <td>3</td>\n",
       "      <td>2017-06-01 00:04:00</td>\n",
       "      <td>8842918131297115663</td>\n",
       "      <td>0 days 00:00:00</td>\n",
       "      <td>NaT</td>\n",
       "      <td>NaN</td>\n",
       "      <td>NaN</td>\n",
       "      <td>Sin conversión</td>\n",
       "    </tr>\n",
       "    <tr>\n",
       "      <th>4</th>\n",
       "      <td>desktop</td>\n",
       "      <td>2017-06-01 00:11:00</td>\n",
       "      <td>1</td>\n",
       "      <td>2017-06-01 00:09:00</td>\n",
       "      <td>10329302124590727494</td>\n",
       "      <td>0 days 00:02:00</td>\n",
       "      <td>2017-06-01 00:10:00</td>\n",
       "      <td>17.00</td>\n",
       "      <td>0.0</td>\n",
       "      <td>Conversión 0d</td>\n",
       "    </tr>\n",
       "    <tr>\n",
       "      <th>...</th>\n",
       "      <td>...</td>\n",
       "      <td>...</td>\n",
       "      <td>...</td>\n",
       "      <td>...</td>\n",
       "      <td>...</td>\n",
       "      <td>...</td>\n",
       "      <td>...</td>\n",
       "      <td>...</td>\n",
       "      <td>...</td>\n",
       "      <td>...</td>\n",
       "    </tr>\n",
       "    <tr>\n",
       "      <th>228164</th>\n",
       "      <td>desktop</td>\n",
       "      <td>2018-06-01 00:04:00</td>\n",
       "      <td>4</td>\n",
       "      <td>2018-05-31 23:59:00</td>\n",
       "      <td>83872787173869366</td>\n",
       "      <td>0 days 00:05:00</td>\n",
       "      <td>2018-06-01 00:02:00</td>\n",
       "      <td>3.42</td>\n",
       "      <td>0.0</td>\n",
       "      <td>Conversión 0d</td>\n",
       "    </tr>\n",
       "    <tr>\n",
       "      <th>228165</th>\n",
       "      <td>desktop</td>\n",
       "      <td>2018-06-01 00:11:00</td>\n",
       "      <td>3</td>\n",
       "      <td>2018-05-31 23:59:00</td>\n",
       "      <td>3720373600909378583</td>\n",
       "      <td>0 days 00:12:00</td>\n",
       "      <td>NaT</td>\n",
       "      <td>NaN</td>\n",
       "      <td>NaN</td>\n",
       "      <td>Sin conversión</td>\n",
       "    </tr>\n",
       "    <tr>\n",
       "      <th>228166</th>\n",
       "      <td>touch</td>\n",
       "      <td>2018-06-01 00:12:00</td>\n",
       "      <td>10</td>\n",
       "      <td>2018-05-31 23:59:00</td>\n",
       "      <td>10723414689244282024</td>\n",
       "      <td>0 days 00:13:00</td>\n",
       "      <td>NaT</td>\n",
       "      <td>NaN</td>\n",
       "      <td>NaN</td>\n",
       "      <td>Sin conversión</td>\n",
       "    </tr>\n",
       "    <tr>\n",
       "      <th>228167</th>\n",
       "      <td>desktop</td>\n",
       "      <td>2018-05-31 23:59:00</td>\n",
       "      <td>2</td>\n",
       "      <td>2018-05-31 23:59:00</td>\n",
       "      <td>10406407303624848652</td>\n",
       "      <td>0 days 00:00:00</td>\n",
       "      <td>NaT</td>\n",
       "      <td>NaN</td>\n",
       "      <td>NaN</td>\n",
       "      <td>Sin conversión</td>\n",
       "    </tr>\n",
       "    <tr>\n",
       "      <th>228168</th>\n",
       "      <td>desktop</td>\n",
       "      <td>2018-06-01 00:25:00</td>\n",
       "      <td>1</td>\n",
       "      <td>2018-05-31 23:59:00</td>\n",
       "      <td>4906562732540547408</td>\n",
       "      <td>0 days 00:26:00</td>\n",
       "      <td>NaT</td>\n",
       "      <td>NaN</td>\n",
       "      <td>NaN</td>\n",
       "      <td>Sin conversión</td>\n",
       "    </tr>\n",
       "  </tbody>\n",
       "</table>\n",
       "<p>228169 rows × 10 columns</p>\n",
       "</div>"
      ],
      "text/plain": [
       "         Device              End Ts  source_id            Start Ts  \\\n",
       "0       desktop 2017-06-01 00:02:00          5 2017-06-01 00:01:00   \n",
       "1       desktop 2017-06-01 00:02:00          3 2017-06-01 00:02:00   \n",
       "2       desktop 2017-06-01 00:16:00          3 2017-06-01 00:02:00   \n",
       "3       desktop 2017-06-01 00:04:00          3 2017-06-01 00:04:00   \n",
       "4       desktop 2017-06-01 00:11:00          1 2017-06-01 00:09:00   \n",
       "...         ...                 ...        ...                 ...   \n",
       "228164  desktop 2018-06-01 00:04:00          4 2018-05-31 23:59:00   \n",
       "228165  desktop 2018-06-01 00:11:00          3 2018-05-31 23:59:00   \n",
       "228166    touch 2018-06-01 00:12:00         10 2018-05-31 23:59:00   \n",
       "228167  desktop 2018-05-31 23:59:00          2 2018-05-31 23:59:00   \n",
       "228168  desktop 2018-06-01 00:25:00          1 2018-05-31 23:59:00   \n",
       "\n",
       "                         Uid Duracion sesion              Buy Ts  Revenue  \\\n",
       "0       13890188992670018146 0 days 00:01:00                 NaT      NaN   \n",
       "1       16152015161748786004 0 days 00:00:00                 NaT      NaN   \n",
       "2       16706502037388497502 0 days 00:14:00                 NaT      NaN   \n",
       "3        8842918131297115663 0 days 00:00:00                 NaT      NaN   \n",
       "4       10329302124590727494 0 days 00:02:00 2017-06-01 00:10:00    17.00   \n",
       "...                      ...             ...                 ...      ...   \n",
       "228164     83872787173869366 0 days 00:05:00 2018-06-01 00:02:00     3.42   \n",
       "228165   3720373600909378583 0 days 00:12:00                 NaT      NaN   \n",
       "228166  10723414689244282024 0 days 00:13:00                 NaT      NaN   \n",
       "228167  10406407303624848652 0 days 00:00:00                 NaT      NaN   \n",
       "228168   4906562732540547408 0 days 00:26:00                 NaT      NaN   \n",
       "\n",
       "        Tiempo_transcurrido Cohorte_conversion  \n",
       "0                       NaN     Sin conversión  \n",
       "1                       NaN     Sin conversión  \n",
       "2                       NaN     Sin conversión  \n",
       "3                       NaN     Sin conversión  \n",
       "4                       0.0      Conversión 0d  \n",
       "...                     ...                ...  \n",
       "228164                  0.0      Conversión 0d  \n",
       "228165                  NaN     Sin conversión  \n",
       "228166                  NaN     Sin conversión  \n",
       "228167                  NaN     Sin conversión  \n",
       "228168                  NaN     Sin conversión  \n",
       "\n",
       "[228169 rows x 10 columns]"
      ]
     },
     "metadata": {},
     "output_type": "display_data"
    }
   ],
   "source": [
    "# Unir las tablas\n",
    "primeras = pd.merge(primera_visita, primera_compra, on='Uid', how='left')\n",
    "\n",
    "# Calcular la diferencia de tiempo entre \"Start Ts\" y \"Buy Ts\"\n",
    "primeras['Tiempo_transcurrido'] = (primeras['Buy Ts'] - primeras['Start Ts']).dt.days\n",
    "\n",
    "# Clasificar las conversiones en diferentes cohortes (0d, 1d, 2d, etc.) y los usuarios sin compra\n",
    "def clasificar_conversion(tiempo):\n",
    "    if pd.isnull(tiempo):\n",
    "        return 'Sin conversión'\n",
    "    elif tiempo == 0:\n",
    "        return 'Conversión 0d'\n",
    "    elif tiempo == 1:\n",
    "        return 'Conversión 1d'\n",
    "    elif tiempo == 2:\n",
    "        return 'Conversión 2d'\n",
    "    elif tiempo == 3:\n",
    "        return 'Conversión 3d'\n",
    "    elif tiempo == 4:\n",
    "        return 'Conversión 4d'\n",
    "    elif tiempo == 5:\n",
    "        return 'Conversión 5d'\n",
    "    elif tiempo == 6:\n",
    "        return 'Conversión 6d'\n",
    "    elif tiempo == 7:\n",
    "        return 'Conversión 7d'\n",
    "    else:\n",
    "        return 'Conversión >7d'\n",
    "\n",
    "primeras['Cohorte_conversion'] = primeras['Tiempo_transcurrido'].apply(clasificar_conversion)\n",
    "\n",
    "\n",
    "display(primeras)"
   ]
  },
  {
   "cell_type": "code",
   "execution_count": 27,
   "metadata": {},
   "outputs": [
    {
     "data": {
      "image/png": "[encoded data removed]",
      "text/plain": [
       "<Figure size 432x288 with 2 Axes>"
      ]
     },
     "metadata": {
      "needs_background": "light"
     },
     "output_type": "display_data"
    }
   ],
   "source": [
    "# Calcular la conversión de cada fuente segun las cohortes.\n",
    "\n",
    "conversiones_por_cohorte = primeras.groupby(['Cohorte_conversion', 'source_id']).size().unstack()\n",
    "\n",
    "# Crear el mapa de calor\n",
    "sns.heatmap(conversiones_por_cohorte, annot=True, cmap=\"YlOrRd\", fmt='g')\n",
    "\n",
    "plt.title('Mapa de calor de conversiones por cohorte y fuente')\n",
    "plt.xlabel('source_id')\n",
    "plt.ylabel('Cohorte_conversion')\n",
    "\n",
    "plt.show()"
   ]
  },
  {
   "cell_type": "markdown",
   "metadata": {},
   "source": [
    "<div class=\"alert alert-block alert-success\">\n",
    "<b>Comentario de Reviewer</b> <a class=\"tocSkip\"></a>\n",
    "\n",
    "Muy bien! Esta es una de las formas interesantes de visualizarlo. Para comparar que tan bien es la conversión faltaría obtener para cada fuente el porcentaje que convierte vs el que no.\n",
    "</div>"
   ]
  },
  {
   "cell_type": "code",
   "execution_count": 28,
   "metadata": {},
   "outputs": [
    {
     "data": {
      "text/html": [
       "<div>\n",
       "<style scoped>\n",
       "    .dataframe tbody tr th:only-of-type {\n",
       "        vertical-align: middle;\n",
       "    }\n",
       "\n",
       "    .dataframe tbody tr th {\n",
       "        vertical-align: top;\n",
       "    }\n",
       "\n",
       "    .dataframe thead th {\n",
       "        text-align: right;\n",
       "    }\n",
       "</style>\n",
       "<table border=\"1\" class=\"dataframe\">\n",
       "  <thead>\n",
       "    <tr style=\"text-align: right;\">\n",
       "      <th></th>\n",
       "      <th>source_id</th>\n",
       "      <th>Total Ingresos</th>\n",
       "    </tr>\n",
       "  </thead>\n",
       "  <tbody>\n",
       "    <tr>\n",
       "      <th>0</th>\n",
       "      <td>1</td>\n",
       "      <td>12979.01</td>\n",
       "    </tr>\n",
       "    <tr>\n",
       "      <th>1</th>\n",
       "      <td>2</td>\n",
       "      <td>17824.38</td>\n",
       "    </tr>\n",
       "    <tr>\n",
       "      <th>2</th>\n",
       "      <td>3</td>\n",
       "      <td>41706.46</td>\n",
       "    </tr>\n",
       "    <tr>\n",
       "      <th>3</th>\n",
       "      <td>4</td>\n",
       "      <td>41914.99</td>\n",
       "    </tr>\n",
       "    <tr>\n",
       "      <th>4</th>\n",
       "      <td>5</td>\n",
       "      <td>29354.62</td>\n",
       "    </tr>\n",
       "    <tr>\n",
       "      <th>5</th>\n",
       "      <td>6</td>\n",
       "      <td>0.00</td>\n",
       "    </tr>\n",
       "    <tr>\n",
       "      <th>6</th>\n",
       "      <td>7</td>\n",
       "      <td>1.22</td>\n",
       "    </tr>\n",
       "    <tr>\n",
       "      <th>7</th>\n",
       "      <td>9</td>\n",
       "      <td>3702.17</td>\n",
       "    </tr>\n",
       "    <tr>\n",
       "      <th>8</th>\n",
       "      <td>10</td>\n",
       "      <td>3737.82</td>\n",
       "    </tr>\n",
       "  </tbody>\n",
       "</table>\n",
       "</div>"
      ],
      "text/plain": [
       "   source_id  Total Ingresos\n",
       "0          1        12979.01\n",
       "1          2        17824.38\n",
       "2          3        41706.46\n",
       "3          4        41914.99\n",
       "4          5        29354.62\n",
       "5          6            0.00\n",
       "6          7            1.22\n",
       "7          9         3702.17\n",
       "8         10         3737.82"
      ]
     },
     "metadata": {},
     "output_type": "display_data"
    }
   ],
   "source": [
    "# Calcular el total de ingresos para la primera compra segun la fuente de anuncios\n",
    "ingreso_fuentes = primeras.groupby('source_id')['Revenue'].sum().reset_index()\n",
    "\n",
    "ingreso_fuentes.columns = ['source_id', 'Total Ingresos']\n",
    "\n",
    "display(ingreso_fuentes)"
   ]
  },
  {
   "cell_type": "markdown",
   "metadata": {},
   "source": [
    "<div class=\"alert alert-block alert-success\">\n",
    "<b>Comentario de Reviewer</b> <a class=\"tocSkip\"></a>\n",
    "\n",
    "Muy bien!\n",
    "</div>"
   ]
  },
  {
   "cell_type": "markdown",
   "metadata": {},
   "source": [
    "#### Pedidos realizados por semana"
   ]
  },
  {
   "cell_type": "code",
   "execution_count": 29,
   "metadata": {
    "scrolled": true
   },
   "outputs": [
    {
     "data": {
      "text/html": [
       "<div>\n",
       "<style scoped>\n",
       "    .dataframe tbody tr th:only-of-type {\n",
       "        vertical-align: middle;\n",
       "    }\n",
       "\n",
       "    .dataframe tbody tr th {\n",
       "        vertical-align: top;\n",
       "    }\n",
       "\n",
       "    .dataframe thead th {\n",
       "        text-align: right;\n",
       "    }\n",
       "</style>\n",
       "<table border=\"1\" class=\"dataframe\">\n",
       "  <thead>\n",
       "    <tr style=\"text-align: right;\">\n",
       "      <th></th>\n",
       "      <th>Semana_del_año</th>\n",
       "      <th>Cantidad_de_pedidos</th>\n",
       "    </tr>\n",
       "  </thead>\n",
       "  <tbody>\n",
       "    <tr>\n",
       "      <th>0</th>\n",
       "      <td>1</td>\n",
       "      <td>1006</td>\n",
       "    </tr>\n",
       "    <tr>\n",
       "      <th>1</th>\n",
       "      <td>2</td>\n",
       "      <td>942</td>\n",
       "    </tr>\n",
       "    <tr>\n",
       "      <th>2</th>\n",
       "      <td>3</td>\n",
       "      <td>991</td>\n",
       "    </tr>\n",
       "    <tr>\n",
       "      <th>3</th>\n",
       "      <td>4</td>\n",
       "      <td>1128</td>\n",
       "    </tr>\n",
       "    <tr>\n",
       "      <th>4</th>\n",
       "      <td>5</td>\n",
       "      <td>1442</td>\n",
       "    </tr>\n",
       "    <tr>\n",
       "      <th>5</th>\n",
       "      <td>6</td>\n",
       "      <td>1272</td>\n",
       "    </tr>\n",
       "    <tr>\n",
       "      <th>6</th>\n",
       "      <td>7</td>\n",
       "      <td>1368</td>\n",
       "    </tr>\n",
       "    <tr>\n",
       "      <th>7</th>\n",
       "      <td>8</td>\n",
       "      <td>1347</td>\n",
       "    </tr>\n",
       "    <tr>\n",
       "      <th>8</th>\n",
       "      <td>9</td>\n",
       "      <td>1252</td>\n",
       "    </tr>\n",
       "    <tr>\n",
       "      <th>9</th>\n",
       "      <td>10</td>\n",
       "      <td>1293</td>\n",
       "    </tr>\n",
       "    <tr>\n",
       "      <th>10</th>\n",
       "      <td>11</td>\n",
       "      <td>1007</td>\n",
       "    </tr>\n",
       "    <tr>\n",
       "      <th>11</th>\n",
       "      <td>12</td>\n",
       "      <td>1418</td>\n",
       "    </tr>\n",
       "    <tr>\n",
       "      <th>12</th>\n",
       "      <td>13</td>\n",
       "      <td>862</td>\n",
       "    </tr>\n",
       "    <tr>\n",
       "      <th>13</th>\n",
       "      <td>14</td>\n",
       "      <td>733</td>\n",
       "    </tr>\n",
       "    <tr>\n",
       "      <th>14</th>\n",
       "      <td>15</td>\n",
       "      <td>698</td>\n",
       "    </tr>\n",
       "    <tr>\n",
       "      <th>15</th>\n",
       "      <td>16</td>\n",
       "      <td>890</td>\n",
       "    </tr>\n",
       "    <tr>\n",
       "      <th>16</th>\n",
       "      <td>17</td>\n",
       "      <td>890</td>\n",
       "    </tr>\n",
       "    <tr>\n",
       "      <th>17</th>\n",
       "      <td>18</td>\n",
       "      <td>547</td>\n",
       "    </tr>\n",
       "    <tr>\n",
       "      <th>18</th>\n",
       "      <td>19</td>\n",
       "      <td>635</td>\n",
       "    </tr>\n",
       "    <tr>\n",
       "      <th>19</th>\n",
       "      <td>20</td>\n",
       "      <td>1004</td>\n",
       "    </tr>\n",
       "    <tr>\n",
       "      <th>20</th>\n",
       "      <td>21</td>\n",
       "      <td>1027</td>\n",
       "    </tr>\n",
       "    <tr>\n",
       "      <th>21</th>\n",
       "      <td>22</td>\n",
       "      <td>1536</td>\n",
       "    </tr>\n",
       "    <tr>\n",
       "      <th>22</th>\n",
       "      <td>23</td>\n",
       "      <td>938</td>\n",
       "    </tr>\n",
       "    <tr>\n",
       "      <th>23</th>\n",
       "      <td>24</td>\n",
       "      <td>343</td>\n",
       "    </tr>\n",
       "    <tr>\n",
       "      <th>24</th>\n",
       "      <td>25</td>\n",
       "      <td>371</td>\n",
       "    </tr>\n",
       "    <tr>\n",
       "      <th>25</th>\n",
       "      <td>26</td>\n",
       "      <td>460</td>\n",
       "    </tr>\n",
       "    <tr>\n",
       "      <th>26</th>\n",
       "      <td>27</td>\n",
       "      <td>477</td>\n",
       "    </tr>\n",
       "    <tr>\n",
       "      <th>27</th>\n",
       "      <td>28</td>\n",
       "      <td>636</td>\n",
       "    </tr>\n",
       "    <tr>\n",
       "      <th>28</th>\n",
       "      <td>29</td>\n",
       "      <td>716</td>\n",
       "    </tr>\n",
       "    <tr>\n",
       "      <th>29</th>\n",
       "      <td>30</td>\n",
       "      <td>381</td>\n",
       "    </tr>\n",
       "    <tr>\n",
       "      <th>30</th>\n",
       "      <td>31</td>\n",
       "      <td>314</td>\n",
       "    </tr>\n",
       "    <tr>\n",
       "      <th>31</th>\n",
       "      <td>32</td>\n",
       "      <td>325</td>\n",
       "    </tr>\n",
       "    <tr>\n",
       "      <th>32</th>\n",
       "      <td>33</td>\n",
       "      <td>392</td>\n",
       "    </tr>\n",
       "    <tr>\n",
       "      <th>33</th>\n",
       "      <td>34</td>\n",
       "      <td>480</td>\n",
       "    </tr>\n",
       "    <tr>\n",
       "      <th>34</th>\n",
       "      <td>35</td>\n",
       "      <td>588</td>\n",
       "    </tr>\n",
       "    <tr>\n",
       "      <th>35</th>\n",
       "      <td>36</td>\n",
       "      <td>666</td>\n",
       "    </tr>\n",
       "    <tr>\n",
       "      <th>36</th>\n",
       "      <td>37</td>\n",
       "      <td>668</td>\n",
       "    </tr>\n",
       "    <tr>\n",
       "      <th>37</th>\n",
       "      <td>38</td>\n",
       "      <td>826</td>\n",
       "    </tr>\n",
       "    <tr>\n",
       "      <th>38</th>\n",
       "      <td>39</td>\n",
       "      <td>1110</td>\n",
       "    </tr>\n",
       "    <tr>\n",
       "      <th>39</th>\n",
       "      <td>40</td>\n",
       "      <td>1666</td>\n",
       "    </tr>\n",
       "    <tr>\n",
       "      <th>40</th>\n",
       "      <td>41</td>\n",
       "      <td>1270</td>\n",
       "    </tr>\n",
       "    <tr>\n",
       "      <th>41</th>\n",
       "      <td>42</td>\n",
       "      <td>1140</td>\n",
       "    </tr>\n",
       "    <tr>\n",
       "      <th>42</th>\n",
       "      <td>43</td>\n",
       "      <td>1132</td>\n",
       "    </tr>\n",
       "    <tr>\n",
       "      <th>43</th>\n",
       "      <td>44</td>\n",
       "      <td>1059</td>\n",
       "    </tr>\n",
       "    <tr>\n",
       "      <th>44</th>\n",
       "      <td>45</td>\n",
       "      <td>919</td>\n",
       "    </tr>\n",
       "    <tr>\n",
       "      <th>45</th>\n",
       "      <td>46</td>\n",
       "      <td>1257</td>\n",
       "    </tr>\n",
       "    <tr>\n",
       "      <th>46</th>\n",
       "      <td>47</td>\n",
       "      <td>1894</td>\n",
       "    </tr>\n",
       "    <tr>\n",
       "      <th>47</th>\n",
       "      <td>48</td>\n",
       "      <td>1387</td>\n",
       "    </tr>\n",
       "    <tr>\n",
       "      <th>48</th>\n",
       "      <td>49</td>\n",
       "      <td>1520</td>\n",
       "    </tr>\n",
       "    <tr>\n",
       "      <th>49</th>\n",
       "      <td>50</td>\n",
       "      <td>1388</td>\n",
       "    </tr>\n",
       "    <tr>\n",
       "      <th>50</th>\n",
       "      <td>51</td>\n",
       "      <td>1184</td>\n",
       "    </tr>\n",
       "    <tr>\n",
       "      <th>51</th>\n",
       "      <td>52</td>\n",
       "      <td>1620</td>\n",
       "    </tr>\n",
       "  </tbody>\n",
       "</table>\n",
       "</div>"
      ],
      "text/plain": [
       "    Semana_del_año  Cantidad_de_pedidos\n",
       "0                1                 1006\n",
       "1                2                  942\n",
       "2                3                  991\n",
       "3                4                 1128\n",
       "4                5                 1442\n",
       "5                6                 1272\n",
       "6                7                 1368\n",
       "7                8                 1347\n",
       "8                9                 1252\n",
       "9               10                 1293\n",
       "10              11                 1007\n",
       "11              12                 1418\n",
       "12              13                  862\n",
       "13              14                  733\n",
       "14              15                  698\n",
       "15              16                  890\n",
       "16              17                  890\n",
       "17              18                  547\n",
       "18              19                  635\n",
       "19              20                 1004\n",
       "20              21                 1027\n",
       "21              22                 1536\n",
       "22              23                  938\n",
       "23              24                  343\n",
       "24              25                  371\n",
       "25              26                  460\n",
       "26              27                  477\n",
       "27              28                  636\n",
       "28              29                  716\n",
       "29              30                  381\n",
       "30              31                  314\n",
       "31              32                  325\n",
       "32              33                  392\n",
       "33              34                  480\n",
       "34              35                  588\n",
       "35              36                  666\n",
       "36              37                  668\n",
       "37              38                  826\n",
       "38              39                 1110\n",
       "39              40                 1666\n",
       "40              41                 1270\n",
       "41              42                 1140\n",
       "42              43                 1132\n",
       "43              44                 1059\n",
       "44              45                  919\n",
       "45              46                 1257\n",
       "46              47                 1894\n",
       "47              48                 1387\n",
       "48              49                 1520\n",
       "49              50                 1388\n",
       "50              51                 1184\n",
       "51              52                 1620"
      ]
     },
     "metadata": {},
     "output_type": "display_data"
    },
    {
     "data": {
      "text/plain": [
       "'El promedio de pedidos por semana es de: 969.5192307692307'"
      ]
     },
     "metadata": {},
     "output_type": "display_data"
    }
   ],
   "source": [
    "# Calcular los pedidos por semana\n",
    "ordenes['Semana_del_año'] = ordenes['Buy Ts'].dt.isocalendar().week\n",
    "pedidos_por_semana = ordenes.groupby('Semana_del_año').size().reset_index(name='Cantidad_de_pedidos')\n",
    "\n",
    "display(pedidos_por_semana)\n",
    "display(f'El promedio de pedidos por semana es de: {pedidos_por_semana[\"Cantidad_de_pedidos\"].mean()}')"
   ]
  },
  {
   "cell_type": "markdown",
   "metadata": {},
   "source": [
    "<div class=\"alert alert-block alert-success\">\n",
    "<b>Comentario de Reviewer</b> <a class=\"tocSkip\"></a>\n",
    "\n",
    "Correcto\n",
    "</div>"
   ]
  },
  {
   "cell_type": "markdown",
   "metadata": {},
   "source": [
    "#### Tamaño promedio de compra"
   ]
  },
  {
   "cell_type": "code",
   "execution_count": 30,
   "metadata": {},
   "outputs": [
    {
     "data": {
      "text/plain": [
       "'El tamaño promedio de las compras de los usuarios es de: 4.999646930477041'"
      ]
     },
     "metadata": {},
     "output_type": "display_data"
    }
   ],
   "source": [
    "# Calcular el tamaño promedio de la compra\n",
    "tamaño_promedio_compra = ordenes['Revenue'].mean()\n",
    "\n",
    "display(f'El tamaño promedio de las compras de los usuarios es de: {tamaño_promedio_compra}')"
   ]
  },
  {
   "cell_type": "code",
   "execution_count": 31,
   "metadata": {},
   "outputs": [],
   "source": [
    "# Calcular la media de compra por mes\n",
    "media_por_mes = ordenes.groupby(ordenes['Buy Ts'].dt.to_period('M'))['Revenue'].mean()"
   ]
  },
  {
   "cell_type": "code",
   "execution_count": 32,
   "metadata": {},
   "outputs": [
    {
     "data": {
      "image/png": "[encoded data removed]",
      "text/plain": [
       "<Figure size 720x432 with 1 Axes>"
      ]
     },
     "metadata": {
      "needs_background": "light"
     },
     "output_type": "display_data"
    }
   ],
   "source": [
    "# Graficar la media de compra por mes\n",
    "media_por_mes.plot(kind='line', figsize=(10, 6), marker='o')\n",
    "plt.title('Media por Mes de la Fecha del Pedido')\n",
    "plt.xlabel('Mes')\n",
    "plt.ylabel('Media de Ingresos')\n",
    "plt.grid(True)\n",
    "plt.show()"
   ]
  },
  {
   "cell_type": "markdown",
   "metadata": {},
   "source": [
    "<div class=\"alert alert-block alert-success\">\n",
    "<b>Comentario de Reviewer</b> <a class=\"tocSkip\"></a>\n",
    "\n",
    "Correcto. Esto se podría complementar con un gráfico de la media por mes\n",
    "    \n",
    "</div>"
   ]
  },
  {
   "cell_type": "markdown",
   "metadata": {},
   "source": [
    "<div class=\"alert alert-block alert-info\">\n",
    "<b>Respuesta estudiante.</b> <a class=\"tocSkip\"></a>\n",
    "\n",
    "Se calcula y se grafica la media por mes\n",
    "\n",
    "</div>"
   ]
  },
  {
   "cell_type": "markdown",
   "metadata": {},
   "source": [
    "#### Promedio de ingreso por usuario"
   ]
  },
  {
   "cell_type": "code",
   "execution_count": 33,
   "metadata": {},
   "outputs": [
    {
     "data": {
      "text/plain": [
       "' El promedio de ingreso total por usuario es: 6.901327930345262'"
      ]
     },
     "metadata": {},
     "output_type": "display_data"
    }
   ],
   "source": [
    "# Calcular el ingreso total por usuario\n",
    "ingreso_total_por_usuario = ordenes.groupby('Uid')['Revenue'].sum().reset_index()\n",
    "\n",
    "# Calcular el promedio de ingreso total por usuario (LTV)\n",
    "LTV_promedio = ingreso_total_por_usuario['Revenue'].mean()\n",
    "\n",
    "display(f' El promedio de ingreso total por usuario es: {LTV_promedio}')"
   ]
  },
  {
   "cell_type": "code",
   "execution_count": 34,
   "metadata": {},
   "outputs": [
    {
     "data": {
      "text/html": [
       "<div>\n",
       "<style scoped>\n",
       "    .dataframe tbody tr th:only-of-type {\n",
       "        vertical-align: middle;\n",
       "    }\n",
       "\n",
       "    .dataframe tbody tr th {\n",
       "        vertical-align: top;\n",
       "    }\n",
       "\n",
       "    .dataframe thead th {\n",
       "        text-align: right;\n",
       "    }\n",
       "</style>\n",
       "<table border=\"1\" class=\"dataframe\">\n",
       "  <thead>\n",
       "    <tr style=\"text-align: right;\">\n",
       "      <th></th>\n",
       "      <th>Uid</th>\n",
       "      <th>Cohorte</th>\n",
       "    </tr>\n",
       "  </thead>\n",
       "  <tbody>\n",
       "    <tr>\n",
       "      <th>0</th>\n",
       "      <td>313578113262317</td>\n",
       "      <td>2018-01</td>\n",
       "    </tr>\n",
       "    <tr>\n",
       "      <th>1</th>\n",
       "      <td>1575281904278712</td>\n",
       "      <td>2017-06</td>\n",
       "    </tr>\n",
       "    <tr>\n",
       "      <th>2</th>\n",
       "      <td>2429014661409475</td>\n",
       "      <td>2017-10</td>\n",
       "    </tr>\n",
       "    <tr>\n",
       "      <th>3</th>\n",
       "      <td>2464366381792757</td>\n",
       "      <td>2018-01</td>\n",
       "    </tr>\n",
       "    <tr>\n",
       "      <th>4</th>\n",
       "      <td>2551852515556206</td>\n",
       "      <td>2017-11</td>\n",
       "    </tr>\n",
       "    <tr>\n",
       "      <th>...</th>\n",
       "      <td>...</td>\n",
       "      <td>...</td>\n",
       "    </tr>\n",
       "    <tr>\n",
       "      <th>36518</th>\n",
       "      <td>18445147675727495770</td>\n",
       "      <td>2017-11</td>\n",
       "    </tr>\n",
       "    <tr>\n",
       "      <th>36519</th>\n",
       "      <td>18445407535914413204</td>\n",
       "      <td>2017-09</td>\n",
       "    </tr>\n",
       "    <tr>\n",
       "      <th>36520</th>\n",
       "      <td>18445601152732270159</td>\n",
       "      <td>2018-03</td>\n",
       "    </tr>\n",
       "    <tr>\n",
       "      <th>36521</th>\n",
       "      <td>18446156210226471712</td>\n",
       "      <td>2018-02</td>\n",
       "    </tr>\n",
       "    <tr>\n",
       "      <th>36522</th>\n",
       "      <td>18446167067214817906</td>\n",
       "      <td>2017-10</td>\n",
       "    </tr>\n",
       "  </tbody>\n",
       "</table>\n",
       "<p>36523 rows × 2 columns</p>\n",
       "</div>"
      ],
      "text/plain": [
       "                        Uid  Cohorte\n",
       "0           313578113262317  2018-01\n",
       "1          1575281904278712  2017-06\n",
       "2          2429014661409475  2017-10\n",
       "3          2464366381792757  2018-01\n",
       "4          2551852515556206  2017-11\n",
       "...                     ...      ...\n",
       "36518  18445147675727495770  2017-11\n",
       "36519  18445407535914413204  2017-09\n",
       "36520  18445601152732270159  2018-03\n",
       "36521  18446156210226471712  2018-02\n",
       "36522  18446167067214817906  2017-10\n",
       "\n",
       "[36523 rows x 2 columns]"
      ]
     },
     "metadata": {},
     "output_type": "display_data"
    }
   ],
   "source": [
    "# Crear una tabla de cohortes con usuarios (Uid) y el mes de su primera compra (Buy Ts):\n",
    "cohortes = ordenes.groupby('Uid')['Buy Ts'].min().reset_index()\n",
    "cohortes.columns = ['Uid', 'Cohorte']\n",
    "cohortes['Cohorte'] = cohortes['Cohorte'].dt.to_period('M')\n",
    "display(cohortes)"
   ]
  },
  {
   "cell_type": "code",
   "execution_count": 35,
   "metadata": {},
   "outputs": [
    {
     "data": {
      "text/plain": [
       "Cohorte\n",
       "2017-06    2023\n",
       "2017-07    1923\n",
       "2017-08    1370\n",
       "2017-09    2581\n",
       "2017-10    4340\n",
       "2017-11    4081\n",
       "2017-12    4383\n",
       "2018-01    3373\n",
       "2018-02    3651\n",
       "2018-03    3533\n",
       "2018-04    2276\n",
       "2018-05    2988\n",
       "2018-06       1\n",
       "Freq: M, Name: Uid, dtype: int64"
      ]
     },
     "metadata": {},
     "output_type": "display_data"
    }
   ],
   "source": [
    "# Calcular la cantidad de usuarios (Uid) por cohorte:\n",
    "usuarios_por_cohorte = cohortes.groupby('Cohorte')['Uid'].nunique()\n",
    "display(usuarios_por_cohorte)"
   ]
  },
  {
   "cell_type": "markdown",
   "metadata": {},
   "source": [
    "<div class=\"alert alert-block alert-success\">\n",
    "<b>Comentario de Reviewer v2</b> <a class=\"tocSkip\"></a>\n",
    "\n",
    "Muy bien hasta aquí\n",
    "</div>"
   ]
  },
  {
   "cell_type": "code",
   "execution_count": 36,
   "metadata": {
    "scrolled": true
   },
   "outputs": [
    {
     "data": {
      "text/html": [
       "<div>\n",
       "<style scoped>\n",
       "    .dataframe tbody tr th:only-of-type {\n",
       "        vertical-align: middle;\n",
       "    }\n",
       "\n",
       "    .dataframe tbody tr th {\n",
       "        vertical-align: top;\n",
       "    }\n",
       "\n",
       "    .dataframe thead th {\n",
       "        text-align: right;\n",
       "    }\n",
       "</style>\n",
       "<table border=\"1\" class=\"dataframe\">\n",
       "  <thead>\n",
       "    <tr style=\"text-align: right;\">\n",
       "      <th></th>\n",
       "      <th>Uid</th>\n",
       "      <th>Cohorte</th>\n",
       "      <th>Buy Ts</th>\n",
       "      <th>Revenue</th>\n",
       "      <th>Semana_del_año</th>\n",
       "    </tr>\n",
       "  </thead>\n",
       "  <tbody>\n",
       "    <tr>\n",
       "      <th>0</th>\n",
       "      <td>313578113262317</td>\n",
       "      <td>2018-01</td>\n",
       "      <td>2018-01-03 21:51:00</td>\n",
       "      <td>0.55</td>\n",
       "      <td>1</td>\n",
       "    </tr>\n",
       "    <tr>\n",
       "      <th>1</th>\n",
       "      <td>1575281904278712</td>\n",
       "      <td>2017-06</td>\n",
       "      <td>2017-06-03 10:13:00</td>\n",
       "      <td>1.22</td>\n",
       "      <td>22</td>\n",
       "    </tr>\n",
       "    <tr>\n",
       "      <th>2</th>\n",
       "      <td>1575281904278712</td>\n",
       "      <td>2017-06</td>\n",
       "      <td>2017-06-03 17:39:00</td>\n",
       "      <td>1.83</td>\n",
       "      <td>22</td>\n",
       "    </tr>\n",
       "    <tr>\n",
       "      <th>3</th>\n",
       "      <td>2429014661409475</td>\n",
       "      <td>2017-10</td>\n",
       "      <td>2017-10-11 18:33:00</td>\n",
       "      <td>73.33</td>\n",
       "      <td>41</td>\n",
       "    </tr>\n",
       "    <tr>\n",
       "      <th>4</th>\n",
       "      <td>2464366381792757</td>\n",
       "      <td>2018-01</td>\n",
       "      <td>2018-01-28 15:54:00</td>\n",
       "      <td>2.44</td>\n",
       "      <td>4</td>\n",
       "    </tr>\n",
       "    <tr>\n",
       "      <th>...</th>\n",
       "      <td>...</td>\n",
       "      <td>...</td>\n",
       "      <td>...</td>\n",
       "      <td>...</td>\n",
       "      <td>...</td>\n",
       "    </tr>\n",
       "    <tr>\n",
       "      <th>50410</th>\n",
       "      <td>18445407535914413204</td>\n",
       "      <td>2017-09</td>\n",
       "      <td>2017-09-24 23:48:00</td>\n",
       "      <td>0.24</td>\n",
       "      <td>38</td>\n",
       "    </tr>\n",
       "    <tr>\n",
       "      <th>50411</th>\n",
       "      <td>18445407535914413204</td>\n",
       "      <td>2017-09</td>\n",
       "      <td>2017-09-25 15:56:00</td>\n",
       "      <td>0.12</td>\n",
       "      <td>39</td>\n",
       "    </tr>\n",
       "    <tr>\n",
       "      <th>50412</th>\n",
       "      <td>18445601152732270159</td>\n",
       "      <td>2018-03</td>\n",
       "      <td>2018-03-26 22:54:00</td>\n",
       "      <td>4.22</td>\n",
       "      <td>13</td>\n",
       "    </tr>\n",
       "    <tr>\n",
       "      <th>50413</th>\n",
       "      <td>18446156210226471712</td>\n",
       "      <td>2018-02</td>\n",
       "      <td>2018-02-18 19:34:00</td>\n",
       "      <td>9.78</td>\n",
       "      <td>7</td>\n",
       "    </tr>\n",
       "    <tr>\n",
       "      <th>50414</th>\n",
       "      <td>18446167067214817906</td>\n",
       "      <td>2017-10</td>\n",
       "      <td>2017-10-17 10:16:00</td>\n",
       "      <td>7.94</td>\n",
       "      <td>42</td>\n",
       "    </tr>\n",
       "  </tbody>\n",
       "</table>\n",
       "<p>50415 rows × 5 columns</p>\n",
       "</div>"
      ],
      "text/plain": [
       "                        Uid  Cohorte              Buy Ts  Revenue  \\\n",
       "0           313578113262317  2018-01 2018-01-03 21:51:00     0.55   \n",
       "1          1575281904278712  2017-06 2017-06-03 10:13:00     1.22   \n",
       "2          1575281904278712  2017-06 2017-06-03 17:39:00     1.83   \n",
       "3          2429014661409475  2017-10 2017-10-11 18:33:00    73.33   \n",
       "4          2464366381792757  2018-01 2018-01-28 15:54:00     2.44   \n",
       "...                     ...      ...                 ...      ...   \n",
       "50410  18445407535914413204  2017-09 2017-09-24 23:48:00     0.24   \n",
       "50411  18445407535914413204  2017-09 2017-09-25 15:56:00     0.12   \n",
       "50412  18445601152732270159  2018-03 2018-03-26 22:54:00     4.22   \n",
       "50413  18446156210226471712  2018-02 2018-02-18 19:34:00     9.78   \n",
       "50414  18446167067214817906  2017-10 2017-10-17 10:16:00     7.94   \n",
       "\n",
       "       Semana_del_año  \n",
       "0                   1  \n",
       "1                  22  \n",
       "2                  22  \n",
       "3                  41  \n",
       "4                   4  \n",
       "...               ...  \n",
       "50410              38  \n",
       "50411              39  \n",
       "50412              13  \n",
       "50413               7  \n",
       "50414              42  \n",
       "\n",
       "[50415 rows x 5 columns]"
      ]
     },
     "metadata": {},
     "output_type": "display_data"
    },
    {
     "data": {
      "text/html": [
       "<div>\n",
       "<style scoped>\n",
       "    .dataframe tbody tr th:only-of-type {\n",
       "        vertical-align: middle;\n",
       "    }\n",
       "\n",
       "    .dataframe tbody tr th {\n",
       "        vertical-align: top;\n",
       "    }\n",
       "\n",
       "    .dataframe thead th {\n",
       "        text-align: right;\n",
       "    }\n",
       "</style>\n",
       "<table border=\"1\" class=\"dataframe\">\n",
       "  <thead>\n",
       "    <tr style=\"text-align: right;\">\n",
       "      <th></th>\n",
       "      <th>Uid</th>\n",
       "      <th>Cohorte</th>\n",
       "      <th>Buy Ts</th>\n",
       "      <th>Revenue</th>\n",
       "      <th>Semana_del_año</th>\n",
       "      <th>Mes_compra</th>\n",
       "    </tr>\n",
       "  </thead>\n",
       "  <tbody>\n",
       "    <tr>\n",
       "      <th>0</th>\n",
       "      <td>313578113262317</td>\n",
       "      <td>2018-01</td>\n",
       "      <td>2018-01-03 21:51:00</td>\n",
       "      <td>0.55</td>\n",
       "      <td>1</td>\n",
       "      <td>2018-01</td>\n",
       "    </tr>\n",
       "    <tr>\n",
       "      <th>1</th>\n",
       "      <td>1575281904278712</td>\n",
       "      <td>2017-06</td>\n",
       "      <td>2017-06-03 10:13:00</td>\n",
       "      <td>1.22</td>\n",
       "      <td>22</td>\n",
       "      <td>2017-06</td>\n",
       "    </tr>\n",
       "    <tr>\n",
       "      <th>2</th>\n",
       "      <td>1575281904278712</td>\n",
       "      <td>2017-06</td>\n",
       "      <td>2017-06-03 17:39:00</td>\n",
       "      <td>1.83</td>\n",
       "      <td>22</td>\n",
       "      <td>2017-06</td>\n",
       "    </tr>\n",
       "    <tr>\n",
       "      <th>3</th>\n",
       "      <td>2429014661409475</td>\n",
       "      <td>2017-10</td>\n",
       "      <td>2017-10-11 18:33:00</td>\n",
       "      <td>73.33</td>\n",
       "      <td>41</td>\n",
       "      <td>2017-10</td>\n",
       "    </tr>\n",
       "    <tr>\n",
       "      <th>4</th>\n",
       "      <td>2464366381792757</td>\n",
       "      <td>2018-01</td>\n",
       "      <td>2018-01-28 15:54:00</td>\n",
       "      <td>2.44</td>\n",
       "      <td>4</td>\n",
       "      <td>2018-01</td>\n",
       "    </tr>\n",
       "    <tr>\n",
       "      <th>...</th>\n",
       "      <td>...</td>\n",
       "      <td>...</td>\n",
       "      <td>...</td>\n",
       "      <td>...</td>\n",
       "      <td>...</td>\n",
       "      <td>...</td>\n",
       "    </tr>\n",
       "    <tr>\n",
       "      <th>50410</th>\n",
       "      <td>18445407535914413204</td>\n",
       "      <td>2017-09</td>\n",
       "      <td>2017-09-24 23:48:00</td>\n",
       "      <td>0.24</td>\n",
       "      <td>38</td>\n",
       "      <td>2017-09</td>\n",
       "    </tr>\n",
       "    <tr>\n",
       "      <th>50411</th>\n",
       "      <td>18445407535914413204</td>\n",
       "      <td>2017-09</td>\n",
       "      <td>2017-09-25 15:56:00</td>\n",
       "      <td>0.12</td>\n",
       "      <td>39</td>\n",
       "      <td>2017-09</td>\n",
       "    </tr>\n",
       "    <tr>\n",
       "      <th>50412</th>\n",
       "      <td>18445601152732270159</td>\n",
       "      <td>2018-03</td>\n",
       "      <td>2018-03-26 22:54:00</td>\n",
       "      <td>4.22</td>\n",
       "      <td>13</td>\n",
       "      <td>2018-03</td>\n",
       "    </tr>\n",
       "    <tr>\n",
       "      <th>50413</th>\n",
       "      <td>18446156210226471712</td>\n",
       "      <td>2018-02</td>\n",
       "      <td>2018-02-18 19:34:00</td>\n",
       "      <td>9.78</td>\n",
       "      <td>7</td>\n",
       "      <td>2018-02</td>\n",
       "    </tr>\n",
       "    <tr>\n",
       "      <th>50414</th>\n",
       "      <td>18446167067214817906</td>\n",
       "      <td>2017-10</td>\n",
       "      <td>2017-10-17 10:16:00</td>\n",
       "      <td>7.94</td>\n",
       "      <td>42</td>\n",
       "      <td>2017-10</td>\n",
       "    </tr>\n",
       "  </tbody>\n",
       "</table>\n",
       "<p>50415 rows × 6 columns</p>\n",
       "</div>"
      ],
      "text/plain": [
       "                        Uid  Cohorte              Buy Ts  Revenue  \\\n",
       "0           313578113262317  2018-01 2018-01-03 21:51:00     0.55   \n",
       "1          1575281904278712  2017-06 2017-06-03 10:13:00     1.22   \n",
       "2          1575281904278712  2017-06 2017-06-03 17:39:00     1.83   \n",
       "3          2429014661409475  2017-10 2017-10-11 18:33:00    73.33   \n",
       "4          2464366381792757  2018-01 2018-01-28 15:54:00     2.44   \n",
       "...                     ...      ...                 ...      ...   \n",
       "50410  18445407535914413204  2017-09 2017-09-24 23:48:00     0.24   \n",
       "50411  18445407535914413204  2017-09 2017-09-25 15:56:00     0.12   \n",
       "50412  18445601152732270159  2018-03 2018-03-26 22:54:00     4.22   \n",
       "50413  18446156210226471712  2018-02 2018-02-18 19:34:00     9.78   \n",
       "50414  18446167067214817906  2017-10 2017-10-17 10:16:00     7.94   \n",
       "\n",
       "       Semana_del_año Mes_compra  \n",
       "0                   1    2018-01  \n",
       "1                  22    2017-06  \n",
       "2                  22    2017-06  \n",
       "3                  41    2017-10  \n",
       "4                   4    2018-01  \n",
       "...               ...        ...  \n",
       "50410              38    2017-09  \n",
       "50411              39    2017-09  \n",
       "50412              13    2018-03  \n",
       "50413               7    2018-02  \n",
       "50414              42    2017-10  \n",
       "\n",
       "[50415 rows x 6 columns]"
      ]
     },
     "metadata": {},
     "output_type": "display_data"
    }
   ],
   "source": [
    "# Unir por id de usuario (Uid) la primera tabla con las compras. Calcular el mes de cada compra:\n",
    "compras = cohortes.merge(ordenes, on='Uid', how='left')\n",
    "display(compras)\n",
    "compras['Mes_compra'] = compras['Buy Ts'].dt.to_period('M')\n",
    "display(compras)"
   ]
  },
  {
   "cell_type": "markdown",
   "metadata": {},
   "source": [
    "<div class=\"alert alert-block alert-danger\">\n",
    "<b>Comentario de Reviewer v2</b> <a class=\"tocSkip\"></a>\n",
    "\n",
    "En esta parte no es necesario que hagas el merge con las visitas. De hecho, al realizar el merge con las visitas multiplicas las filas puesto que por cada visita de un usuario, se le unirán todas sus compras. Por lo tanto, si un usuario visitó n veces la página e hizo m compras, quedarás con n*m compras y el revenue total del usuario se habrá multiplicado por n, lo cual es incorrecto. \n",
    "    \n",
    "La corrección aquí es bastante directa, solamente realiza el merge de cohortes y compras, sin el merge de visitas. La idea de este merge es dejar un dataframe donde cada compra tenga asignada una cohorte para después agruparlas según el mes de ocurrencia y la cohorte.\n",
    "</div>"
   ]
  },
  {
   "cell_type": "markdown",
   "metadata": {},
   "source": [
    "<div class=\"alert alert-block alert-info\">\n",
    "<b>Respuesta estudiante.</b> <a class=\"tocSkip\"></a>\n",
    "    \n",
    "Oscar, elimino el merge con visitas\n",
    "</div>"
   ]
  },
  {
   "cell_type": "markdown",
   "metadata": {},
   "source": [
    "<div class=\"alert alert-block alert-success\">\n",
    "<b>Comentario de Reviewer v3</b> <a class=\"tocSkip\"></a>\n",
    "\n",
    "Muy bien!\n",
    "    \n",
    "</div>"
   ]
  },
  {
   "cell_type": "code",
   "execution_count": 37,
   "metadata": {},
   "outputs": [
    {
     "data": {
      "text/html": [
       "<div>\n",
       "<style scoped>\n",
       "    .dataframe tbody tr th:only-of-type {\n",
       "        vertical-align: middle;\n",
       "    }\n",
       "\n",
       "    .dataframe tbody tr th {\n",
       "        vertical-align: top;\n",
       "    }\n",
       "\n",
       "    .dataframe thead th {\n",
       "        text-align: right;\n",
       "    }\n",
       "</style>\n",
       "<table border=\"1\" class=\"dataframe\">\n",
       "  <thead>\n",
       "    <tr style=\"text-align: right;\">\n",
       "      <th></th>\n",
       "      <th>Cohorte</th>\n",
       "      <th>Mes_compra</th>\n",
       "      <th>Revenue</th>\n",
       "    </tr>\n",
       "  </thead>\n",
       "  <tbody>\n",
       "    <tr>\n",
       "      <th>0</th>\n",
       "      <td>2017-06</td>\n",
       "      <td>2017-06</td>\n",
       "      <td>9557.49</td>\n",
       "    </tr>\n",
       "    <tr>\n",
       "      <th>1</th>\n",
       "      <td>2017-06</td>\n",
       "      <td>2017-07</td>\n",
       "      <td>981.82</td>\n",
       "    </tr>\n",
       "    <tr>\n",
       "      <th>2</th>\n",
       "      <td>2017-06</td>\n",
       "      <td>2017-08</td>\n",
       "      <td>885.34</td>\n",
       "    </tr>\n",
       "    <tr>\n",
       "      <th>3</th>\n",
       "      <td>2017-06</td>\n",
       "      <td>2017-09</td>\n",
       "      <td>1931.30</td>\n",
       "    </tr>\n",
       "    <tr>\n",
       "      <th>4</th>\n",
       "      <td>2017-06</td>\n",
       "      <td>2017-10</td>\n",
       "      <td>2068.58</td>\n",
       "    </tr>\n",
       "    <tr>\n",
       "      <th>...</th>\n",
       "      <td>...</td>\n",
       "      <td>...</td>\n",
       "      <td>...</td>\n",
       "    </tr>\n",
       "    <tr>\n",
       "      <th>74</th>\n",
       "      <td>2018-03</td>\n",
       "      <td>2018-05</td>\n",
       "      <td>1114.87</td>\n",
       "    </tr>\n",
       "    <tr>\n",
       "      <th>75</th>\n",
       "      <td>2018-04</td>\n",
       "      <td>2018-04</td>\n",
       "      <td>10600.69</td>\n",
       "    </tr>\n",
       "    <tr>\n",
       "      <th>76</th>\n",
       "      <td>2018-04</td>\n",
       "      <td>2018-05</td>\n",
       "      <td>1209.92</td>\n",
       "    </tr>\n",
       "    <tr>\n",
       "      <th>77</th>\n",
       "      <td>2018-05</td>\n",
       "      <td>2018-05</td>\n",
       "      <td>13925.76</td>\n",
       "    </tr>\n",
       "    <tr>\n",
       "      <th>78</th>\n",
       "      <td>2018-06</td>\n",
       "      <td>2018-06</td>\n",
       "      <td>3.42</td>\n",
       "    </tr>\n",
       "  </tbody>\n",
       "</table>\n",
       "<p>79 rows × 3 columns</p>\n",
       "</div>"
      ],
      "text/plain": [
       "    Cohorte Mes_compra   Revenue\n",
       "0   2017-06    2017-06   9557.49\n",
       "1   2017-06    2017-07    981.82\n",
       "2   2017-06    2017-08    885.34\n",
       "3   2017-06    2017-09   1931.30\n",
       "4   2017-06    2017-10   2068.58\n",
       "..      ...        ...       ...\n",
       "74  2018-03    2018-05   1114.87\n",
       "75  2018-04    2018-04  10600.69\n",
       "76  2018-04    2018-05   1209.92\n",
       "77  2018-05    2018-05  13925.76\n",
       "78  2018-06    2018-06      3.42\n",
       "\n",
       "[79 rows x 3 columns]"
      ]
     },
     "metadata": {},
     "output_type": "display_data"
    }
   ],
   "source": [
    "# Agrupar la tabla anterior por mes de cohorte y mes de compra. Sumar la cantidad de Revenue\n",
    "\n",
    "ingresos = compras.groupby(['Cohorte', 'Mes_compra'])['Revenue'].sum().reset_index()\n",
    "display(ingresos)"
   ]
  },
  {
   "cell_type": "code",
   "execution_count": 38,
   "metadata": {
    "scrolled": true
   },
   "outputs": [
    {
     "data": {
      "text/html": [
       "<div>\n",
       "<style scoped>\n",
       "    .dataframe tbody tr th:only-of-type {\n",
       "        vertical-align: middle;\n",
       "    }\n",
       "\n",
       "    .dataframe tbody tr th {\n",
       "        vertical-align: top;\n",
       "    }\n",
       "\n",
       "    .dataframe thead th {\n",
       "        text-align: right;\n",
       "    }\n",
       "</style>\n",
       "<table border=\"1\" class=\"dataframe\">\n",
       "  <thead>\n",
       "    <tr style=\"text-align: right;\">\n",
       "      <th></th>\n",
       "      <th>Cohorte</th>\n",
       "      <th>Mes_compra</th>\n",
       "      <th>Revenue</th>\n",
       "      <th>Tiempo_para_la_compra</th>\n",
       "    </tr>\n",
       "  </thead>\n",
       "  <tbody>\n",
       "    <tr>\n",
       "      <th>0</th>\n",
       "      <td>2017-06</td>\n",
       "      <td>2017-06</td>\n",
       "      <td>9557.49</td>\n",
       "      <td>&lt;0 * MonthEnds&gt;</td>\n",
       "    </tr>\n",
       "    <tr>\n",
       "      <th>1</th>\n",
       "      <td>2017-06</td>\n",
       "      <td>2017-07</td>\n",
       "      <td>981.82</td>\n",
       "      <td>&lt;MonthEnd&gt;</td>\n",
       "    </tr>\n",
       "    <tr>\n",
       "      <th>2</th>\n",
       "      <td>2017-06</td>\n",
       "      <td>2017-08</td>\n",
       "      <td>885.34</td>\n",
       "      <td>&lt;2 * MonthEnds&gt;</td>\n",
       "    </tr>\n",
       "    <tr>\n",
       "      <th>3</th>\n",
       "      <td>2017-06</td>\n",
       "      <td>2017-09</td>\n",
       "      <td>1931.30</td>\n",
       "      <td>&lt;3 * MonthEnds&gt;</td>\n",
       "    </tr>\n",
       "    <tr>\n",
       "      <th>4</th>\n",
       "      <td>2017-06</td>\n",
       "      <td>2017-10</td>\n",
       "      <td>2068.58</td>\n",
       "      <td>&lt;4 * MonthEnds&gt;</td>\n",
       "    </tr>\n",
       "    <tr>\n",
       "      <th>...</th>\n",
       "      <td>...</td>\n",
       "      <td>...</td>\n",
       "      <td>...</td>\n",
       "      <td>...</td>\n",
       "    </tr>\n",
       "    <tr>\n",
       "      <th>74</th>\n",
       "      <td>2018-03</td>\n",
       "      <td>2018-05</td>\n",
       "      <td>1114.87</td>\n",
       "      <td>&lt;2 * MonthEnds&gt;</td>\n",
       "    </tr>\n",
       "    <tr>\n",
       "      <th>75</th>\n",
       "      <td>2018-04</td>\n",
       "      <td>2018-04</td>\n",
       "      <td>10600.69</td>\n",
       "      <td>&lt;0 * MonthEnds&gt;</td>\n",
       "    </tr>\n",
       "    <tr>\n",
       "      <th>76</th>\n",
       "      <td>2018-04</td>\n",
       "      <td>2018-05</td>\n",
       "      <td>1209.92</td>\n",
       "      <td>&lt;MonthEnd&gt;</td>\n",
       "    </tr>\n",
       "    <tr>\n",
       "      <th>77</th>\n",
       "      <td>2018-05</td>\n",
       "      <td>2018-05</td>\n",
       "      <td>13925.76</td>\n",
       "      <td>&lt;0 * MonthEnds&gt;</td>\n",
       "    </tr>\n",
       "    <tr>\n",
       "      <th>78</th>\n",
       "      <td>2018-06</td>\n",
       "      <td>2018-06</td>\n",
       "      <td>3.42</td>\n",
       "      <td>&lt;0 * MonthEnds&gt;</td>\n",
       "    </tr>\n",
       "  </tbody>\n",
       "</table>\n",
       "<p>79 rows × 4 columns</p>\n",
       "</div>"
      ],
      "text/plain": [
       "    Cohorte Mes_compra   Revenue Tiempo_para_la_compra\n",
       "0   2017-06    2017-06   9557.49       <0 * MonthEnds>\n",
       "1   2017-06    2017-07    981.82            <MonthEnd>\n",
       "2   2017-06    2017-08    885.34       <2 * MonthEnds>\n",
       "3   2017-06    2017-09   1931.30       <3 * MonthEnds>\n",
       "4   2017-06    2017-10   2068.58       <4 * MonthEnds>\n",
       "..      ...        ...       ...                   ...\n",
       "74  2018-03    2018-05   1114.87       <2 * MonthEnds>\n",
       "75  2018-04    2018-04  10600.69       <0 * MonthEnds>\n",
       "76  2018-04    2018-05   1209.92            <MonthEnd>\n",
       "77  2018-05    2018-05  13925.76       <0 * MonthEnds>\n",
       "78  2018-06    2018-06      3.42       <0 * MonthEnds>\n",
       "\n",
       "[79 rows x 4 columns]"
      ]
     },
     "metadata": {},
     "output_type": "display_data"
    }
   ],
   "source": [
    "# Calcular la edad\n",
    "ingresos['Tiempo_para_la_compra'] = ingresos['Mes_compra'] - ingresos['Cohorte']\n",
    "display(ingresos)"
   ]
  },
  {
   "cell_type": "code",
   "execution_count": 39,
   "metadata": {},
   "outputs": [
    {
     "name": "stdout",
     "output_type": "stream",
     "text": [
      "<class 'pandas.core.frame.DataFrame'>\n",
      "RangeIndex: 79 entries, 0 to 78\n",
      "Data columns (total 4 columns):\n",
      " #   Column                 Non-Null Count  Dtype    \n",
      "---  ------                 --------------  -----    \n",
      " 0   Cohorte                79 non-null     period[M]\n",
      " 1   Mes_compra             79 non-null     period[M]\n",
      " 2   Revenue                79 non-null     float64  \n",
      " 3   Tiempo_para_la_compra  79 non-null     object   \n",
      "dtypes: float64(1), object(1), period[M](2)\n",
      "memory usage: 2.6+ KB\n"
     ]
    }
   ],
   "source": [
    "ingresos.info()"
   ]
  },
  {
   "cell_type": "markdown",
   "metadata": {},
   "source": [
    "<div class=\"alert alert-block alert-danger\">\n",
    "<b>Comentario de Reviewer v2</b> <a class=\"tocSkip\"></a>\n",
    "\n",
    "Esto está muy bien y el revenue será el correcto una vez se corrija el punto anterior. De forma adicional, podrías calcular la cantidad de meses entre la cohorte y el mes_compra, es decir, la \"edad\" en que fue realizado ese revenue.\n",
    "</div>"
   ]
  },
  {
   "cell_type": "markdown",
   "metadata": {},
   "source": [
    "<div class=\"alert alert-block alert-info\">\n",
    "<b>Respuesta estudiante.</b> <a class=\"tocSkip\"></a>\n",
    "Se calcula la cantidad de meses entre la cohorte y el mes_compra\n",
    "</div>"
   ]
  },
  {
   "cell_type": "markdown",
   "metadata": {},
   "source": [
    "<div class=\"alert alert-block alert-warning\">\n",
    "<b>Comentario de Reviewer v3</b> <a class=\"tocSkip\"></a>\n",
    "\n",
    "Correcto, las diferencias calculadas son correctas, sin embargo, nota que la columna de edad no queda en un formato adecuado. Para incluirlo en los cálculos siguientes lo mejor es transformarlo a entero, de la siguiente forma:\n",
    "    \n",
    "</div>"
   ]
  },
  {
   "cell_type": "code",
   "execution_count": 40,
   "metadata": {},
   "outputs": [
    {
     "data": {
      "text/html": [
       "<div>\n",
       "<style scoped>\n",
       "    .dataframe tbody tr th:only-of-type {\n",
       "        vertical-align: middle;\n",
       "    }\n",
       "\n",
       "    .dataframe tbody tr th {\n",
       "        vertical-align: top;\n",
       "    }\n",
       "\n",
       "    .dataframe thead th {\n",
       "        text-align: right;\n",
       "    }\n",
       "</style>\n",
       "<table border=\"1\" class=\"dataframe\">\n",
       "  <thead>\n",
       "    <tr style=\"text-align: right;\">\n",
       "      <th></th>\n",
       "      <th>Cohorte</th>\n",
       "      <th>Mes_compra</th>\n",
       "      <th>Revenue</th>\n",
       "      <th>Tiempo_para_la_compra</th>\n",
       "      <th>age_month</th>\n",
       "    </tr>\n",
       "  </thead>\n",
       "  <tbody>\n",
       "    <tr>\n",
       "      <th>0</th>\n",
       "      <td>2017-06</td>\n",
       "      <td>2017-06</td>\n",
       "      <td>9557.49</td>\n",
       "      <td>&lt;0 * MonthEnds&gt;</td>\n",
       "      <td>0.0</td>\n",
       "    </tr>\n",
       "    <tr>\n",
       "      <th>1</th>\n",
       "      <td>2017-06</td>\n",
       "      <td>2017-07</td>\n",
       "      <td>981.82</td>\n",
       "      <td>&lt;MonthEnd&gt;</td>\n",
       "      <td>1.0</td>\n",
       "    </tr>\n",
       "    <tr>\n",
       "      <th>2</th>\n",
       "      <td>2017-06</td>\n",
       "      <td>2017-08</td>\n",
       "      <td>885.34</td>\n",
       "      <td>&lt;2 * MonthEnds&gt;</td>\n",
       "      <td>2.0</td>\n",
       "    </tr>\n",
       "    <tr>\n",
       "      <th>3</th>\n",
       "      <td>2017-06</td>\n",
       "      <td>2017-09</td>\n",
       "      <td>1931.30</td>\n",
       "      <td>&lt;3 * MonthEnds&gt;</td>\n",
       "      <td>3.0</td>\n",
       "    </tr>\n",
       "    <tr>\n",
       "      <th>4</th>\n",
       "      <td>2017-06</td>\n",
       "      <td>2017-10</td>\n",
       "      <td>2068.58</td>\n",
       "      <td>&lt;4 * MonthEnds&gt;</td>\n",
       "      <td>4.0</td>\n",
       "    </tr>\n",
       "    <tr>\n",
       "      <th>...</th>\n",
       "      <td>...</td>\n",
       "      <td>...</td>\n",
       "      <td>...</td>\n",
       "      <td>...</td>\n",
       "      <td>...</td>\n",
       "    </tr>\n",
       "    <tr>\n",
       "      <th>74</th>\n",
       "      <td>2018-03</td>\n",
       "      <td>2018-05</td>\n",
       "      <td>1114.87</td>\n",
       "      <td>&lt;2 * MonthEnds&gt;</td>\n",
       "      <td>2.0</td>\n",
       "    </tr>\n",
       "    <tr>\n",
       "      <th>75</th>\n",
       "      <td>2018-04</td>\n",
       "      <td>2018-04</td>\n",
       "      <td>10600.69</td>\n",
       "      <td>&lt;0 * MonthEnds&gt;</td>\n",
       "      <td>0.0</td>\n",
       "    </tr>\n",
       "    <tr>\n",
       "      <th>76</th>\n",
       "      <td>2018-04</td>\n",
       "      <td>2018-05</td>\n",
       "      <td>1209.92</td>\n",
       "      <td>&lt;MonthEnd&gt;</td>\n",
       "      <td>1.0</td>\n",
       "    </tr>\n",
       "    <tr>\n",
       "      <th>77</th>\n",
       "      <td>2018-05</td>\n",
       "      <td>2018-05</td>\n",
       "      <td>13925.76</td>\n",
       "      <td>&lt;0 * MonthEnds&gt;</td>\n",
       "      <td>0.0</td>\n",
       "    </tr>\n",
       "    <tr>\n",
       "      <th>78</th>\n",
       "      <td>2018-06</td>\n",
       "      <td>2018-06</td>\n",
       "      <td>3.42</td>\n",
       "      <td>&lt;0 * MonthEnds&gt;</td>\n",
       "      <td>0.0</td>\n",
       "    </tr>\n",
       "  </tbody>\n",
       "</table>\n",
       "<p>79 rows × 5 columns</p>\n",
       "</div>"
      ],
      "text/plain": [
       "    Cohorte Mes_compra   Revenue Tiempo_para_la_compra  age_month\n",
       "0   2017-06    2017-06   9557.49       <0 * MonthEnds>        0.0\n",
       "1   2017-06    2017-07    981.82            <MonthEnd>        1.0\n",
       "2   2017-06    2017-08    885.34       <2 * MonthEnds>        2.0\n",
       "3   2017-06    2017-09   1931.30       <3 * MonthEnds>        3.0\n",
       "4   2017-06    2017-10   2068.58       <4 * MonthEnds>        4.0\n",
       "..      ...        ...       ...                   ...        ...\n",
       "74  2018-03    2018-05   1114.87       <2 * MonthEnds>        2.0\n",
       "75  2018-04    2018-04  10600.69       <0 * MonthEnds>        0.0\n",
       "76  2018-04    2018-05   1209.92            <MonthEnd>        1.0\n",
       "77  2018-05    2018-05  13925.76       <0 * MonthEnds>        0.0\n",
       "78  2018-06    2018-06      3.42       <0 * MonthEnds>        0.0\n",
       "\n",
       "[79 rows x 5 columns]"
      ]
     },
     "execution_count": 40,
     "metadata": {},
     "output_type": "execute_result"
    }
   ],
   "source": [
    "## CÓDIGO REVISOR\n",
    "ingresos['age_month'] = (\n",
    "    (\n",
    "        (pd.to_datetime(ingresos['Mes_compra'].astype(str)+'-01') \n",
    "         - pd.to_datetime(ingresos['Cohorte'].astype(str)+'-01')) \n",
    "        /np.timedelta64(1,'M')\n",
    "    ).round()\n",
    ")\n",
    "ingresos"
   ]
  },
  {
   "cell_type": "code",
   "execution_count": 41,
   "metadata": {},
   "outputs": [],
   "source": [
    "# Unir por cohorte la tabla de ingresos con la cantidad de usuarios por cohorte\n",
    "ingresos = ingresos.merge(usuarios_por_cohorte, on='Cohorte', how='left')\n"
   ]
  },
  {
   "cell_type": "code",
   "execution_count": 42,
   "metadata": {},
   "outputs": [
    {
     "data": {
      "text/html": [
       "<div>\n",
       "<style scoped>\n",
       "    .dataframe tbody tr th:only-of-type {\n",
       "        vertical-align: middle;\n",
       "    }\n",
       "\n",
       "    .dataframe tbody tr th {\n",
       "        vertical-align: top;\n",
       "    }\n",
       "\n",
       "    .dataframe thead th {\n",
       "        text-align: right;\n",
       "    }\n",
       "</style>\n",
       "<table border=\"1\" class=\"dataframe\">\n",
       "  <thead>\n",
       "    <tr style=\"text-align: right;\">\n",
       "      <th></th>\n",
       "      <th>Cohorte</th>\n",
       "      <th>Mes_compra</th>\n",
       "      <th>Revenue</th>\n",
       "      <th>Tiempo_para_la_compra</th>\n",
       "      <th>age_month</th>\n",
       "      <th>Uid</th>\n",
       "      <th>Ingreso_promedio</th>\n",
       "    </tr>\n",
       "  </thead>\n",
       "  <tbody>\n",
       "    <tr>\n",
       "      <th>0</th>\n",
       "      <td>2017-06</td>\n",
       "      <td>2017-06</td>\n",
       "      <td>9557.49</td>\n",
       "      <td>&lt;0 * MonthEnds&gt;</td>\n",
       "      <td>0.0</td>\n",
       "      <td>2023</td>\n",
       "      <td>4.724414</td>\n",
       "    </tr>\n",
       "    <tr>\n",
       "      <th>1</th>\n",
       "      <td>2017-06</td>\n",
       "      <td>2017-07</td>\n",
       "      <td>981.82</td>\n",
       "      <td>&lt;MonthEnd&gt;</td>\n",
       "      <td>1.0</td>\n",
       "      <td>2023</td>\n",
       "      <td>0.485329</td>\n",
       "    </tr>\n",
       "    <tr>\n",
       "      <th>2</th>\n",
       "      <td>2017-06</td>\n",
       "      <td>2017-08</td>\n",
       "      <td>885.34</td>\n",
       "      <td>&lt;2 * MonthEnds&gt;</td>\n",
       "      <td>2.0</td>\n",
       "      <td>2023</td>\n",
       "      <td>0.437637</td>\n",
       "    </tr>\n",
       "    <tr>\n",
       "      <th>3</th>\n",
       "      <td>2017-06</td>\n",
       "      <td>2017-09</td>\n",
       "      <td>1931.30</td>\n",
       "      <td>&lt;3 * MonthEnds&gt;</td>\n",
       "      <td>3.0</td>\n",
       "      <td>2023</td>\n",
       "      <td>0.954671</td>\n",
       "    </tr>\n",
       "    <tr>\n",
       "      <th>4</th>\n",
       "      <td>2017-06</td>\n",
       "      <td>2017-10</td>\n",
       "      <td>2068.58</td>\n",
       "      <td>&lt;4 * MonthEnds&gt;</td>\n",
       "      <td>4.0</td>\n",
       "      <td>2023</td>\n",
       "      <td>1.022531</td>\n",
       "    </tr>\n",
       "    <tr>\n",
       "      <th>...</th>\n",
       "      <td>...</td>\n",
       "      <td>...</td>\n",
       "      <td>...</td>\n",
       "      <td>...</td>\n",
       "      <td>...</td>\n",
       "      <td>...</td>\n",
       "      <td>...</td>\n",
       "    </tr>\n",
       "    <tr>\n",
       "      <th>74</th>\n",
       "      <td>2018-03</td>\n",
       "      <td>2018-05</td>\n",
       "      <td>1114.87</td>\n",
       "      <td>&lt;2 * MonthEnds&gt;</td>\n",
       "      <td>2.0</td>\n",
       "      <td>3533</td>\n",
       "      <td>0.315559</td>\n",
       "    </tr>\n",
       "    <tr>\n",
       "      <th>75</th>\n",
       "      <td>2018-04</td>\n",
       "      <td>2018-04</td>\n",
       "      <td>10600.69</td>\n",
       "      <td>&lt;0 * MonthEnds&gt;</td>\n",
       "      <td>0.0</td>\n",
       "      <td>2276</td>\n",
       "      <td>4.657597</td>\n",
       "    </tr>\n",
       "    <tr>\n",
       "      <th>76</th>\n",
       "      <td>2018-04</td>\n",
       "      <td>2018-05</td>\n",
       "      <td>1209.92</td>\n",
       "      <td>&lt;MonthEnd&gt;</td>\n",
       "      <td>1.0</td>\n",
       "      <td>2276</td>\n",
       "      <td>0.531599</td>\n",
       "    </tr>\n",
       "    <tr>\n",
       "      <th>77</th>\n",
       "      <td>2018-05</td>\n",
       "      <td>2018-05</td>\n",
       "      <td>13925.76</td>\n",
       "      <td>&lt;0 * MonthEnds&gt;</td>\n",
       "      <td>0.0</td>\n",
       "      <td>2988</td>\n",
       "      <td>4.660562</td>\n",
       "    </tr>\n",
       "    <tr>\n",
       "      <th>78</th>\n",
       "      <td>2018-06</td>\n",
       "      <td>2018-06</td>\n",
       "      <td>3.42</td>\n",
       "      <td>&lt;0 * MonthEnds&gt;</td>\n",
       "      <td>0.0</td>\n",
       "      <td>1</td>\n",
       "      <td>3.420000</td>\n",
       "    </tr>\n",
       "  </tbody>\n",
       "</table>\n",
       "<p>79 rows × 7 columns</p>\n",
       "</div>"
      ],
      "text/plain": [
       "    Cohorte Mes_compra   Revenue Tiempo_para_la_compra  age_month   Uid  \\\n",
       "0   2017-06    2017-06   9557.49       <0 * MonthEnds>        0.0  2023   \n",
       "1   2017-06    2017-07    981.82            <MonthEnd>        1.0  2023   \n",
       "2   2017-06    2017-08    885.34       <2 * MonthEnds>        2.0  2023   \n",
       "3   2017-06    2017-09   1931.30       <3 * MonthEnds>        3.0  2023   \n",
       "4   2017-06    2017-10   2068.58       <4 * MonthEnds>        4.0  2023   \n",
       "..      ...        ...       ...                   ...        ...   ...   \n",
       "74  2018-03    2018-05   1114.87       <2 * MonthEnds>        2.0  3533   \n",
       "75  2018-04    2018-04  10600.69       <0 * MonthEnds>        0.0  2276   \n",
       "76  2018-04    2018-05   1209.92            <MonthEnd>        1.0  2276   \n",
       "77  2018-05    2018-05  13925.76       <0 * MonthEnds>        0.0  2988   \n",
       "78  2018-06    2018-06      3.42       <0 * MonthEnds>        0.0     1   \n",
       "\n",
       "    Ingreso_promedio  \n",
       "0           4.724414  \n",
       "1           0.485329  \n",
       "2           0.437637  \n",
       "3           0.954671  \n",
       "4           1.022531  \n",
       "..               ...  \n",
       "74          0.315559  \n",
       "75          4.657597  \n",
       "76          0.531599  \n",
       "77          4.660562  \n",
       "78          3.420000  \n",
       "\n",
       "[79 rows x 7 columns]"
      ]
     },
     "metadata": {},
     "output_type": "display_data"
    }
   ],
   "source": [
    "# Calcular el ingreso promedio por cohorte por mes\n",
    "ingresos['Ingreso_promedio'] = ingresos['Revenue'] / ingresos['Uid']\n",
    "display(ingresos)"
   ]
  },
  {
   "cell_type": "code",
   "execution_count": 43,
   "metadata": {},
   "outputs": [
    {
     "data": {
      "image/png": "[encoded data removed]",
      "text/plain": [
       "<Figure size 864x576 with 2 Axes>"
      ]
     },
     "metadata": {
      "needs_background": "light"
     },
     "output_type": "display_data"
    }
   ],
   "source": [
    "# Pivotear la tabla anterior y calcular el ingreso promedio acumulado\n",
    "tabla_pivot = ingresos.pivot_table(index='Cohorte', columns='Mes_compra', values='Ingreso_promedio', aggfunc='sum')\n",
    "ingreso_promedio_acumulado = tabla_pivot.cumsum(axis=1)\n",
    "\n",
    "# Crear el mapa de calor\n",
    "plt.figure(figsize=(12, 8))\n",
    "sns.heatmap(ingreso_promedio_acumulado, annot=True, cmap=\"YlOrRd\", fmt='.1f')\n",
    "plt.title('Ingreso promedio por cohorte por mes')\n",
    "plt.show()"
   ]
  },
  {
   "cell_type": "markdown",
   "metadata": {},
   "source": [
    "<div class=\"alert alert-block alert-success\">\n",
    "<b>Comentario de Reviewer v3</b> <a class=\"tocSkip\"></a>\n",
    "\n",
    "Excelente, el resultado es correcto. Aquí abajo te dejo el ejemplo donde las columnas son la edad.\n",
    "</div>"
   ]
  },
  {
   "cell_type": "code",
   "execution_count": 44,
   "metadata": {},
   "outputs": [
    {
     "data": {
      "image/png": "[encoded data removed]",
      "text/plain": [
       "<Figure size 864x576 with 2 Axes>"
      ]
     },
     "metadata": {
      "needs_background": "light"
     },
     "output_type": "display_data"
    }
   ],
   "source": [
    "## CÓDIGO REVISOR\n",
    "# Pivotear la tabla anterior y calcular el ingreso promedio acumulado\n",
    "tabla_pivot = ingresos.pivot_table(index='Cohorte', columns='age_month', values='Ingreso_promedio', aggfunc='sum')\n",
    "ingreso_promedio_acumulado = tabla_pivot.cumsum(axis=1)\n",
    "\n",
    "# Crear el mapa de calor\n",
    "plt.figure(figsize=(12, 8))\n",
    "sns.heatmap(ingreso_promedio_acumulado, annot=True, cmap=\"YlOrRd\", fmt='.1f')\n",
    "plt.title('Ingreso promedio por cohorte por mes')\n",
    "plt.show()"
   ]
  },
  {
   "cell_type": "markdown",
   "metadata": {},
   "source": [
    "<div class=\"alert alert-block alert-danger\">\n",
    "<b>Comentario de Reviewer v2</b> <a class=\"tocSkip\"></a>\n",
    "\n",
    "Muy bien, el código está todo correcto, los resultados numéricos son incorrectos debido al detalle inicial donde no se debe realizar el merge con visita. Una vez corregido esto, esta parte estará lista.\n",
    "    \n",
    "En esta parte, podrías usar también, en vez del mes de compra, la \"edad\" de las compras (el campo que indiqué más arriba). Eso te permitirá obtener un resultado más \"clásico\", aunque lo que obtuviste aquí también es correcto.\n",
    "</div>"
   ]
  },
  {
   "cell_type": "markdown",
   "metadata": {},
   "source": [
    "<div class=\"alert alert-block alert-info\">\n",
    "<b>Respuesta estudiante.</b> <a class=\"tocSkip\"></a>\n",
    "Oscar muchas gracias por tu observación, hago los cambios que pides en ente punto\n",
    "</div>"
   ]
  },
  {
   "cell_type": "markdown",
   "metadata": {},
   "source": [
    "<div class=\"alert alert-block alert-danger\">\n",
    "<b>Comentario de Reviewer</b> <a class=\"tocSkip\"></a>\n",
    "\n",
    "La idea es correcta, pero falta agregar más contenido al concepto de ltv. El análisis debe realizarse mediante cohortes y su comportamiento a través del tiempo. Una cohorte para el ltv es el grupo de usuarios que realizó su primera compra en determinado mes (por ejemplo 11-2017) y la \"edad\" de la cohorte son los meses que pasan desde el nacimiento de la cohorte (por ejemplo para la cohorte 11-2017, 11-2017 es el mes de edad 0, 12-2017 es el mes de edad 1, etc. pero para la cohorte 12-2017, el mes 12-2017 es el mes de edad 0 y el 1-2018 es el mes de edad 1). Ojo que la cantidad de usuarios es constante para cada cohorte: los usuarios de una cohorte son todos los que compraron por primera vez el mes de inicio de la cohorte. Si más adelante no vuelven a comprar, de todas formas consideramos que son parte de la cohorte, así podemos evaluar si el comportamiento de compra de la cohorte mejoró o empeoró.\n",
    "    \n",
    "Para esta parte calcula el ltv como una tabla que en cada fila tiene una cohorte y las columnas son los meses de edad. Debería verse similar al siguiente link: https://www.thedataschool.com.au/saqib-saeed/cohort-analysis-tableau/\n",
    "    \n",
    "Para ello debes tener:\n",
    "    \n",
    " - Tabla con usuarios y el mes de su primera compra (cohorte)\n",
    " - De la tabla anterior calcular la cantidad de usuarios por cohorte.\n",
    " - Unir por id de usuario la primera tabla con las compras. Calcular el mes de cada compra.\n",
    " - Agrupar la tabla anterior por mes de cohorte y mes de compra. Sumar la cantidad de revenue.\n",
    " - Unir por cohorte a esto último la tabla construida en el paso 2, para tener la cantidad de usuarios de cada cohorte. Dividir el revenue sumado por la cantidad de usuarios. Esto da el ingreso promedio por cohorte por mes\n",
    " - Finalmente, pivotear la tabla anterior (usar `.pivot_table(index='cohorte',columns='edad',values='rev_per_user', aggfunc='sum')` por ejemplo) y luego calcular el ingreso promedio acumulado (aplicar `.cumsum(axis=1)`)\n",
    "    \n",
    "    \n",
    "</div>"
   ]
  },
  {
   "cell_type": "markdown",
   "metadata": {},
   "source": [
    "<div class=\"alert alert-block alert-info\">\n",
    "<b>Respuesta estudiante.</b> <a class=\"tocSkip\"></a>\n",
    "    \n",
    "Se agrega más contenido al concepto de ltv\n",
    "</div>"
   ]
  },
  {
   "cell_type": "markdown",
   "metadata": {},
   "source": [
    "#### Total en ventas"
   ]
  },
  {
   "cell_type": "code",
   "execution_count": 45,
   "metadata": {},
   "outputs": [
    {
     "data": {
      "text/plain": [
       "'El total en ventas es de: 252057.19999999998'"
      ]
     },
     "metadata": {},
     "output_type": "display_data"
    }
   ],
   "source": [
    "# Calcular el total de ventas\n",
    "display(f'El total en ventas es de: {ordenes[\"Revenue\"].sum()}')"
   ]
  },
  {
   "cell_type": "markdown",
   "metadata": {},
   "source": [
    "### Marketing"
   ]
  },
  {
   "cell_type": "markdown",
   "metadata": {},
   "source": [
    "#### Gastos en marketing"
   ]
  },
  {
   "cell_type": "code",
   "execution_count": 46,
   "metadata": {},
   "outputs": [
    {
     "data": {
      "text/plain": [
       "'El gasto total es: 329131.62'"
      ]
     },
     "metadata": {},
     "output_type": "display_data"
    }
   ],
   "source": [
    "# Calcular gastos totales.\n",
    "\n",
    "total_gastos = costos['costs'].sum()\n",
    "display(f'El gasto total es: {total_gastos}')"
   ]
  },
  {
   "cell_type": "markdown",
   "metadata": {},
   "source": [
    "<div class=\"alert alert-block alert-success\">\n",
    "<b>Comentario de Reviewer</b> <a class=\"tocSkip\"></a>\n",
    "\n",
    "Correcto!\n",
    "    \n",
    "</div>"
   ]
  },
  {
   "cell_type": "code",
   "execution_count": 47,
   "metadata": {},
   "outputs": [
    {
     "data": {
      "text/plain": [
       "'Gasto por fuente:'"
      ]
     },
     "metadata": {},
     "output_type": "display_data"
    },
    {
     "data": {
      "text/html": [
       "<div>\n",
       "<style scoped>\n",
       "    .dataframe tbody tr th:only-of-type {\n",
       "        vertical-align: middle;\n",
       "    }\n",
       "\n",
       "    .dataframe tbody tr th {\n",
       "        vertical-align: top;\n",
       "    }\n",
       "\n",
       "    .dataframe thead th {\n",
       "        text-align: right;\n",
       "    }\n",
       "</style>\n",
       "<table border=\"1\" class=\"dataframe\">\n",
       "  <thead>\n",
       "    <tr style=\"text-align: right;\">\n",
       "      <th></th>\n",
       "      <th>source_id</th>\n",
       "      <th>costs</th>\n",
       "    </tr>\n",
       "  </thead>\n",
       "  <tbody>\n",
       "    <tr>\n",
       "      <th>0</th>\n",
       "      <td>1</td>\n",
       "      <td>20833.27</td>\n",
       "    </tr>\n",
       "    <tr>\n",
       "      <th>1</th>\n",
       "      <td>2</td>\n",
       "      <td>42806.04</td>\n",
       "    </tr>\n",
       "    <tr>\n",
       "      <th>2</th>\n",
       "      <td>3</td>\n",
       "      <td>141321.63</td>\n",
       "    </tr>\n",
       "    <tr>\n",
       "      <th>3</th>\n",
       "      <td>4</td>\n",
       "      <td>61073.60</td>\n",
       "    </tr>\n",
       "    <tr>\n",
       "      <th>4</th>\n",
       "      <td>5</td>\n",
       "      <td>51757.10</td>\n",
       "    </tr>\n",
       "    <tr>\n",
       "      <th>5</th>\n",
       "      <td>9</td>\n",
       "      <td>5517.49</td>\n",
       "    </tr>\n",
       "    <tr>\n",
       "      <th>6</th>\n",
       "      <td>10</td>\n",
       "      <td>5822.49</td>\n",
       "    </tr>\n",
       "  </tbody>\n",
       "</table>\n",
       "</div>"
      ],
      "text/plain": [
       "   source_id      costs\n",
       "0          1   20833.27\n",
       "1          2   42806.04\n",
       "2          3  141321.63\n",
       "3          4   61073.60\n",
       "4          5   51757.10\n",
       "5          9    5517.49\n",
       "6         10    5822.49"
      ]
     },
     "metadata": {},
     "output_type": "display_data"
    }
   ],
   "source": [
    "# Calcular los gastos por cada fuente\n",
    "\n",
    "gastos_por_fuente = costos.groupby('source_id')['costs'].sum().reset_index()\n",
    "display(\"Gasto por fuente:\")\n",
    "display(gastos_por_fuente)"
   ]
  },
  {
   "cell_type": "markdown",
   "metadata": {},
   "source": [
    "<div class=\"alert alert-block alert-success\">\n",
    "<b>Comentario de Reviewer</b> <a class=\"tocSkip\"></a>\n",
    "\n",
    "Muy bien también\n",
    "    \n",
    "</div>"
   ]
  },
  {
   "cell_type": "code",
   "execution_count": 48,
   "metadata": {},
   "outputs": [
    {
     "data": {
      "text/plain": [
       "'Gasto a lo largo del tiempo:'"
      ]
     },
     "metadata": {},
     "output_type": "display_data"
    },
    {
     "data": {
      "text/plain": [
       "dt\n",
       "2017-06-01     735.26\n",
       "2017-06-02     721.19\n",
       "2017-06-03     450.85\n",
       "2017-06-04     761.16\n",
       "2017-06-05     821.44\n",
       "               ...   \n",
       "2018-05-27     532.87\n",
       "2018-05-28     619.44\n",
       "2018-05-29     784.79\n",
       "2018-05-30    1183.00\n",
       "2018-05-31    2153.70\n",
       "Name: costs, Length: 364, dtype: float64"
      ]
     },
     "metadata": {},
     "output_type": "display_data"
    },
    {
     "data": {
      "text/plain": [
       "'El promedio de gasto diario en marketing es de: 904.2077472527473'"
      ]
     },
     "metadata": {},
     "output_type": "display_data"
    }
   ],
   "source": [
    "# Calcular los gastos por dia\n",
    "\n",
    "gastos_tiempo = costos.groupby('dt')['costs'].sum()\n",
    "display(\"Gasto a lo largo del tiempo:\")\n",
    "display(gastos_tiempo)\n",
    "display(f'El promedio de gasto diario en marketing es de: {gastos_tiempo.mean()}')"
   ]
  },
  {
   "cell_type": "markdown",
   "metadata": {},
   "source": [
    "<div class=\"alert alert-block alert-success\">\n",
    "<b>Comentario de Reviewer</b> <a class=\"tocSkip\"></a>\n",
    "\n",
    "Ok, otra forma de responder esta pregunta es mostrar un gráfico con el costo por fuente.\n",
    "    \n",
    "</div>"
   ]
  },
  {
   "cell_type": "markdown",
   "metadata": {},
   "source": [
    "#### Costos de adquisición de clientes"
   ]
  },
  {
   "cell_type": "code",
   "execution_count": 49,
   "metadata": {},
   "outputs": [],
   "source": [
    "# Obtener para cada usuario (Uid) la fuente (source_id) de su primera visita\n",
    "primera_visita = visitas.sort_values('Start Ts').groupby('Uid').first()['source_id'].reset_index()\n"
   ]
  },
  {
   "cell_type": "code",
   "execution_count": 50,
   "metadata": {},
   "outputs": [],
   "source": [
    "# Obtener para cada usuario (Uid) la fecha de su primera compra (Buy Ts)\n",
    "primera_compra = ordenes.sort_values('Buy Ts').groupby('Uid').first()['Buy Ts']"
   ]
  },
  {
   "cell_type": "code",
   "execution_count": 51,
   "metadata": {
    "scrolled": true
   },
   "outputs": [],
   "source": [
    "# Hacer merge de los dos primeros, por uid (tipo inner) para dejar solamente los usuarios que compraron\n",
    "merge_primera_visita_compra = pd.merge(primera_visita, primera_compra, on='Uid', how='inner').reset_index()\n"
   ]
  },
  {
   "cell_type": "code",
   "execution_count": 52,
   "metadata": {},
   "outputs": [],
   "source": [
    "# Agrupar por 'source_id' y 'Buy Ts', luego contar la cantidad de Uid para cada grupo\n",
    "usuarios_dia = merge_primera_visita_compra.groupby(['source_id', merge_primera_visita_compra['Buy Ts'].dt.date])['Uid'].count().reset_index(name='Cantidad_de_compradores')\n"
   ]
  },
  {
   "cell_type": "code",
   "execution_count": 53,
   "metadata": {},
   "outputs": [],
   "source": [
    "# Calcular los costos diarios de las fuentes\n",
    "costos_diarios = costos.groupby(['source_id', 'dt']).agg({'costs': 'sum'}).reset_index()\n",
    "costos_diarios = costos_diarios.rename(columns={'dt': 'Buy Ts'})\n"
   ]
  },
  {
   "cell_type": "code",
   "execution_count": 54,
   "metadata": {
    "scrolled": true
   },
   "outputs": [],
   "source": [
    "# Hacer merge con una tabla que contenga los costos (costs) diarios, por fuente y fecha\n",
    "usuarios_dia['Buy Ts'] = pd.to_datetime(usuarios_dia['Buy Ts'])\n",
    "merge_costos = pd.merge(usuarios_dia, costos_diarios, on=['source_id', 'Buy Ts'], how='left')\n"
   ]
  },
  {
   "cell_type": "code",
   "execution_count": 55,
   "metadata": {},
   "outputs": [
    {
     "data": {
      "text/html": [
       "<div>\n",
       "<style scoped>\n",
       "    .dataframe tbody tr th:only-of-type {\n",
       "        vertical-align: middle;\n",
       "    }\n",
       "\n",
       "    .dataframe tbody tr th {\n",
       "        vertical-align: top;\n",
       "    }\n",
       "\n",
       "    .dataframe thead th {\n",
       "        text-align: right;\n",
       "    }\n",
       "</style>\n",
       "<table border=\"1\" class=\"dataframe\">\n",
       "  <thead>\n",
       "    <tr style=\"text-align: right;\">\n",
       "      <th></th>\n",
       "      <th>source_id</th>\n",
       "      <th>Buy Ts</th>\n",
       "      <th>Cantidad_de_compradores</th>\n",
       "      <th>costs</th>\n",
       "      <th>CAC_diario</th>\n",
       "    </tr>\n",
       "  </thead>\n",
       "  <tbody>\n",
       "    <tr>\n",
       "      <th>0</th>\n",
       "      <td>1</td>\n",
       "      <td>2017-06-01</td>\n",
       "      <td>14</td>\n",
       "      <td>75.20</td>\n",
       "      <td>5.371429</td>\n",
       "    </tr>\n",
       "    <tr>\n",
       "      <th>1</th>\n",
       "      <td>1</td>\n",
       "      <td>2017-06-02</td>\n",
       "      <td>7</td>\n",
       "      <td>62.25</td>\n",
       "      <td>8.892857</td>\n",
       "    </tr>\n",
       "    <tr>\n",
       "      <th>2</th>\n",
       "      <td>1</td>\n",
       "      <td>2017-06-03</td>\n",
       "      <td>7</td>\n",
       "      <td>36.53</td>\n",
       "      <td>5.218571</td>\n",
       "    </tr>\n",
       "    <tr>\n",
       "      <th>3</th>\n",
       "      <td>1</td>\n",
       "      <td>2017-06-04</td>\n",
       "      <td>3</td>\n",
       "      <td>55.00</td>\n",
       "      <td>18.333333</td>\n",
       "    </tr>\n",
       "    <tr>\n",
       "      <th>4</th>\n",
       "      <td>1</td>\n",
       "      <td>2017-06-05</td>\n",
       "      <td>18</td>\n",
       "      <td>57.08</td>\n",
       "      <td>3.171111</td>\n",
       "    </tr>\n",
       "    <tr>\n",
       "      <th>...</th>\n",
       "      <td>...</td>\n",
       "      <td>...</td>\n",
       "      <td>...</td>\n",
       "      <td>...</td>\n",
       "      <td>...</td>\n",
       "    </tr>\n",
       "    <tr>\n",
       "      <th>2430</th>\n",
       "      <td>10</td>\n",
       "      <td>2018-05-27</td>\n",
       "      <td>2</td>\n",
       "      <td>9.92</td>\n",
       "      <td>4.960000</td>\n",
       "    </tr>\n",
       "    <tr>\n",
       "      <th>2431</th>\n",
       "      <td>10</td>\n",
       "      <td>2018-05-28</td>\n",
       "      <td>10</td>\n",
       "      <td>21.26</td>\n",
       "      <td>2.126000</td>\n",
       "    </tr>\n",
       "    <tr>\n",
       "      <th>2432</th>\n",
       "      <td>10</td>\n",
       "      <td>2018-05-29</td>\n",
       "      <td>7</td>\n",
       "      <td>11.32</td>\n",
       "      <td>1.617143</td>\n",
       "    </tr>\n",
       "    <tr>\n",
       "      <th>2433</th>\n",
       "      <td>10</td>\n",
       "      <td>2018-05-30</td>\n",
       "      <td>5</td>\n",
       "      <td>33.15</td>\n",
       "      <td>6.630000</td>\n",
       "    </tr>\n",
       "    <tr>\n",
       "      <th>2434</th>\n",
       "      <td>10</td>\n",
       "      <td>2018-05-31</td>\n",
       "      <td>35</td>\n",
       "      <td>17.60</td>\n",
       "      <td>0.502857</td>\n",
       "    </tr>\n",
       "  </tbody>\n",
       "</table>\n",
       "<p>2435 rows × 5 columns</p>\n",
       "</div>"
      ],
      "text/plain": [
       "      source_id     Buy Ts  Cantidad_de_compradores  costs  CAC_diario\n",
       "0             1 2017-06-01                       14  75.20    5.371429\n",
       "1             1 2017-06-02                        7  62.25    8.892857\n",
       "2             1 2017-06-03                        7  36.53    5.218571\n",
       "3             1 2017-06-04                        3  55.00   18.333333\n",
       "4             1 2017-06-05                       18  57.08    3.171111\n",
       "...         ...        ...                      ...    ...         ...\n",
       "2430         10 2018-05-27                        2   9.92    4.960000\n",
       "2431         10 2018-05-28                       10  21.26    2.126000\n",
       "2432         10 2018-05-29                        7  11.32    1.617143\n",
       "2433         10 2018-05-30                        5  33.15    6.630000\n",
       "2434         10 2018-05-31                       35  17.60    0.502857\n",
       "\n",
       "[2435 rows x 5 columns]"
      ]
     },
     "metadata": {},
     "output_type": "display_data"
    }
   ],
   "source": [
    "# Calcular el costo por adquisición (CAC) diario\n",
    "merge_costos['CAC_diario'] = merge_costos['costs'] / merge_costos['Cantidad_de_compradores']\n",
    "\n",
    "display(merge_costos)"
   ]
  },
  {
   "cell_type": "code",
   "execution_count": 56,
   "metadata": {
    "scrolled": true
   },
   "outputs": [
    {
     "data": {
      "text/html": [
       "<div>\n",
       "<style scoped>\n",
       "    .dataframe tbody tr th:only-of-type {\n",
       "        vertical-align: middle;\n",
       "    }\n",
       "\n",
       "    .dataframe tbody tr th {\n",
       "        vertical-align: top;\n",
       "    }\n",
       "\n",
       "    .dataframe thead th {\n",
       "        text-align: right;\n",
       "    }\n",
       "</style>\n",
       "<table border=\"1\" class=\"dataframe\">\n",
       "  <thead>\n",
       "    <tr style=\"text-align: right;\">\n",
       "      <th></th>\n",
       "      <th>source_id</th>\n",
       "      <th>CAC_diario</th>\n",
       "    </tr>\n",
       "  </thead>\n",
       "  <tbody>\n",
       "    <tr>\n",
       "      <th>0</th>\n",
       "      <td>1</td>\n",
       "      <td>9.489732</td>\n",
       "    </tr>\n",
       "    <tr>\n",
       "      <th>1</th>\n",
       "      <td>2</td>\n",
       "      <td>16.287024</td>\n",
       "    </tr>\n",
       "    <tr>\n",
       "      <th>2</th>\n",
       "      <td>3</td>\n",
       "      <td>15.580474</td>\n",
       "    </tr>\n",
       "    <tr>\n",
       "      <th>3</th>\n",
       "      <td>4</td>\n",
       "      <td>7.271743</td>\n",
       "    </tr>\n",
       "    <tr>\n",
       "      <th>4</th>\n",
       "      <td>5</td>\n",
       "      <td>8.336731</td>\n",
       "    </tr>\n",
       "    <tr>\n",
       "      <th>5</th>\n",
       "      <td>7</td>\n",
       "      <td>NaN</td>\n",
       "    </tr>\n",
       "    <tr>\n",
       "      <th>6</th>\n",
       "      <td>9</td>\n",
       "      <td>6.842532</td>\n",
       "    </tr>\n",
       "    <tr>\n",
       "      <th>7</th>\n",
       "      <td>10</td>\n",
       "      <td>6.555415</td>\n",
       "    </tr>\n",
       "  </tbody>\n",
       "</table>\n",
       "</div>"
      ],
      "text/plain": [
       "   source_id  CAC_diario\n",
       "0          1    9.489732\n",
       "1          2   16.287024\n",
       "2          3   15.580474\n",
       "3          4    7.271743\n",
       "4          5    8.336731\n",
       "5          7         NaN\n",
       "6          9    6.842532\n",
       "7         10    6.555415"
      ]
     },
     "metadata": {},
     "output_type": "display_data"
    }
   ],
   "source": [
    "# Calcular el CAC promedio diario para cada fuente\n",
    "cac_promedio_diario_por_fuente = merge_costos.groupby('source_id')['CAC_diario'].mean().reset_index()\n",
    "\n",
    "display(cac_promedio_diario_por_fuente)"
   ]
  },
  {
   "cell_type": "markdown",
   "metadata": {},
   "source": [
    "<div class=\"alert alert-block alert-success\">\n",
    "<b>Comentario de Reviewer v3</b> <a class=\"tocSkip\"></a>\n",
    "\n",
    "Excelente, el resultado es correcto\n",
    "</div>"
   ]
  },
  {
   "cell_type": "markdown",
   "metadata": {},
   "source": [
    "<div class=\"alert alert-block alert-danger\">\n",
    "<b>Comentario de Reviewer v2</b> <a class=\"tocSkip\"></a>\n",
    "\n",
    "En esta parte, el merge de visitas con ordenes también multiplican innecesariamente las compras realizadas por los usuarios. Debes juntar solamente datos de cada usuario, en este caso, juntar un dataframe que tenga para cada usuario el source de su primera visita y la fecha de su primera compra. Te dejo un procedimiento para calcular el cac diario promedio de cada fuente:\n",
    "    \n",
    " - Obtener para cada usuario la fuente de su primera visita\n",
    " - Obtener para cada usuario la fecha de su primera compra\n",
    " - Hacer merge de los dos primeros, por uid (tipo inner). Esto deja solamente los usuarios que compraron.\n",
    " - Agrupar por fuente y por fecha y contar la cantidad de usuarios, esto nos da la cantidad de compradores que llegaron por cada fuente y que compraron por primera vez en cada fecha.\n",
    " - A esto último, le haces merge con los costos diarios, por fuente y fecha. Luego divides costo por cantidad de usuarios y tendras el cac diario.\n",
    " - Si agrupas por fuente y haces un promedio, tendrás el cac diario promedio para cada fuente\n",
    "\n",
    "Este procedimiento incluye más detalles de la variabilidad de inversión según los días, puesto que en vez de agrupar todo de una vez, considera que cada día se realizó una inversión diferente y se tuvo una adquisición diferente.\n",
    "</div>"
   ]
  },
  {
   "cell_type": "markdown",
   "metadata": {},
   "source": [
    "<div class=\"alert alert-block alert-info\">\n",
    "<b>Respuesta estudiante.</b> <a class=\"tocSkip\"></a>\n",
    "    \n",
    "Se realizan los cambios solicitados\n",
    "</div>"
   ]
  },
  {
   "cell_type": "markdown",
   "metadata": {},
   "source": [
    "<div class=\"alert alert-block alert-danger\">\n",
    "<b>Comentario de Reviewer</b> <a class=\"tocSkip\"></a>\n",
    "\n",
    "Solamente los usuarios que compraron son los adquiridos, por lo tanto debes filtrar los usuarios que no hicieron compras antes de calular el cac. Para ello debes juntar primera visita y primera compra, quedarte solamente con los usuarios que compraron y usar el primer source de un usuario.\n",
    "        \n",
    "    \n",
    "</div>"
   ]
  },
  {
   "cell_type": "markdown",
   "metadata": {},
   "source": [
    "<div class=\"alert alert-block alert-info\">\n",
    "<b>Respuesta estudiante.</b> <a class=\"tocSkip\"></a>\n",
    "\n",
    "Se hacen las correcciones solicitadas\n",
    "\n",
    "</div>"
   ]
  },
  {
   "cell_type": "markdown",
   "metadata": {},
   "source": [
    "#### Ganancias por fuente de anuncios"
   ]
  },
  {
   "cell_type": "code",
   "execution_count": 57,
   "metadata": {},
   "outputs": [
    {
     "data": {
      "text/html": [
       "<div>\n",
       "<style scoped>\n",
       "    .dataframe tbody tr th:only-of-type {\n",
       "        vertical-align: middle;\n",
       "    }\n",
       "\n",
       "    .dataframe tbody tr th {\n",
       "        vertical-align: top;\n",
       "    }\n",
       "\n",
       "    .dataframe thead th {\n",
       "        text-align: right;\n",
       "    }\n",
       "</style>\n",
       "<table border=\"1\" class=\"dataframe\">\n",
       "  <thead>\n",
       "    <tr style=\"text-align: right;\">\n",
       "      <th></th>\n",
       "      <th>Uid</th>\n",
       "      <th>source_id</th>\n",
       "      <th>Cohorte</th>\n",
       "      <th>Buy Ts</th>\n",
       "      <th>Revenue</th>\n",
       "      <th>Semana_del_año</th>\n",
       "      <th>Mes_compra</th>\n",
       "    </tr>\n",
       "  </thead>\n",
       "  <tbody>\n",
       "    <tr>\n",
       "      <th>0</th>\n",
       "      <td>313578113262317</td>\n",
       "      <td>2</td>\n",
       "      <td>2018-01</td>\n",
       "      <td>2018-01-03 21:51:00</td>\n",
       "      <td>0.55</td>\n",
       "      <td>1</td>\n",
       "      <td>2018-01</td>\n",
       "    </tr>\n",
       "    <tr>\n",
       "      <th>1</th>\n",
       "      <td>1575281904278712</td>\n",
       "      <td>10</td>\n",
       "      <td>2017-06</td>\n",
       "      <td>2017-06-03 10:13:00</td>\n",
       "      <td>1.22</td>\n",
       "      <td>22</td>\n",
       "      <td>2017-06</td>\n",
       "    </tr>\n",
       "    <tr>\n",
       "      <th>2</th>\n",
       "      <td>1575281904278712</td>\n",
       "      <td>10</td>\n",
       "      <td>2017-06</td>\n",
       "      <td>2017-06-03 17:39:00</td>\n",
       "      <td>1.83</td>\n",
       "      <td>22</td>\n",
       "      <td>2017-06</td>\n",
       "    </tr>\n",
       "    <tr>\n",
       "      <th>3</th>\n",
       "      <td>2429014661409475</td>\n",
       "      <td>3</td>\n",
       "      <td>2017-10</td>\n",
       "      <td>2017-10-11 18:33:00</td>\n",
       "      <td>73.33</td>\n",
       "      <td>41</td>\n",
       "      <td>2017-10</td>\n",
       "    </tr>\n",
       "    <tr>\n",
       "      <th>4</th>\n",
       "      <td>2464366381792757</td>\n",
       "      <td>5</td>\n",
       "      <td>2018-01</td>\n",
       "      <td>2018-01-28 15:54:00</td>\n",
       "      <td>2.44</td>\n",
       "      <td>4</td>\n",
       "      <td>2018-01</td>\n",
       "    </tr>\n",
       "    <tr>\n",
       "      <th>...</th>\n",
       "      <td>...</td>\n",
       "      <td>...</td>\n",
       "      <td>...</td>\n",
       "      <td>...</td>\n",
       "      <td>...</td>\n",
       "      <td>...</td>\n",
       "      <td>...</td>\n",
       "    </tr>\n",
       "    <tr>\n",
       "      <th>50410</th>\n",
       "      <td>18445407535914413204</td>\n",
       "      <td>3</td>\n",
       "      <td>2017-09</td>\n",
       "      <td>2017-09-24 23:48:00</td>\n",
       "      <td>0.24</td>\n",
       "      <td>38</td>\n",
       "      <td>2017-09</td>\n",
       "    </tr>\n",
       "    <tr>\n",
       "      <th>50411</th>\n",
       "      <td>18445407535914413204</td>\n",
       "      <td>3</td>\n",
       "      <td>2017-09</td>\n",
       "      <td>2017-09-25 15:56:00</td>\n",
       "      <td>0.12</td>\n",
       "      <td>39</td>\n",
       "      <td>2017-09</td>\n",
       "    </tr>\n",
       "    <tr>\n",
       "      <th>50412</th>\n",
       "      <td>18445601152732270159</td>\n",
       "      <td>2</td>\n",
       "      <td>2018-03</td>\n",
       "      <td>2018-03-26 22:54:00</td>\n",
       "      <td>4.22</td>\n",
       "      <td>13</td>\n",
       "      <td>2018-03</td>\n",
       "    </tr>\n",
       "    <tr>\n",
       "      <th>50413</th>\n",
       "      <td>18446156210226471712</td>\n",
       "      <td>3</td>\n",
       "      <td>2018-02</td>\n",
       "      <td>2018-02-18 19:34:00</td>\n",
       "      <td>9.78</td>\n",
       "      <td>7</td>\n",
       "      <td>2018-02</td>\n",
       "    </tr>\n",
       "    <tr>\n",
       "      <th>50414</th>\n",
       "      <td>18446167067214817906</td>\n",
       "      <td>5</td>\n",
       "      <td>2017-10</td>\n",
       "      <td>2017-10-17 10:16:00</td>\n",
       "      <td>7.94</td>\n",
       "      <td>42</td>\n",
       "      <td>2017-10</td>\n",
       "    </tr>\n",
       "  </tbody>\n",
       "</table>\n",
       "<p>50415 rows × 7 columns</p>\n",
       "</div>"
      ],
      "text/plain": [
       "                        Uid  source_id  Cohorte              Buy Ts  Revenue  \\\n",
       "0           313578113262317          2  2018-01 2018-01-03 21:51:00     0.55   \n",
       "1          1575281904278712         10  2017-06 2017-06-03 10:13:00     1.22   \n",
       "2          1575281904278712         10  2017-06 2017-06-03 17:39:00     1.83   \n",
       "3          2429014661409475          3  2017-10 2017-10-11 18:33:00    73.33   \n",
       "4          2464366381792757          5  2018-01 2018-01-28 15:54:00     2.44   \n",
       "...                     ...        ...      ...                 ...      ...   \n",
       "50410  18445407535914413204          3  2017-09 2017-09-24 23:48:00     0.24   \n",
       "50411  18445407535914413204          3  2017-09 2017-09-25 15:56:00     0.12   \n",
       "50412  18445601152732270159          2  2018-03 2018-03-26 22:54:00     4.22   \n",
       "50413  18446156210226471712          3  2018-02 2018-02-18 19:34:00     9.78   \n",
       "50414  18446167067214817906          5  2017-10 2017-10-17 10:16:00     7.94   \n",
       "\n",
       "       Semana_del_año Mes_compra  \n",
       "0                   1    2018-01  \n",
       "1                  22    2017-06  \n",
       "2                  22    2017-06  \n",
       "3                  41    2017-10  \n",
       "4                   4    2018-01  \n",
       "...               ...        ...  \n",
       "50410              38    2017-09  \n",
       "50411              39    2017-09  \n",
       "50412              13    2018-03  \n",
       "50413               7    2018-02  \n",
       "50414              42    2017-10  \n",
       "\n",
       "[50415 rows x 7 columns]"
      ]
     },
     "metadata": {},
     "output_type": "display_data"
    }
   ],
   "source": [
    "# Crear tabla con todos los datos necesarios para calcular el ROI\n",
    "datos_roi = pd.merge(primera_visita, compras, on='Uid')\n",
    "display(datos_roi)"
   ]
  },
  {
   "cell_type": "code",
   "execution_count": 58,
   "metadata": {},
   "outputs": [],
   "source": [
    "# calcular la cantidad de usuarios por fuente\n",
    "usuarios_por_fuente_roi = datos_roi.groupby('source_id')['Uid'].count().reset_index()"
   ]
  },
  {
   "cell_type": "code",
   "execution_count": 59,
   "metadata": {},
   "outputs": [],
   "source": [
    "# calcular los ingresos por cada fuente\n",
    "gancias_por_fuente_roi = datos_roi.groupby('source_id')['Revenue'].sum().reset_index()"
   ]
  },
  {
   "cell_type": "code",
   "execution_count": 60,
   "metadata": {},
   "outputs": [],
   "source": [
    "# unir la dos tablas y dividir las ganancias por usuario\n",
    "ganancia_usuario_roi = pd.merge(gancias_por_fuente_roi, usuarios_por_fuente_roi, on=\"source_id\")\n",
    "ganancia_usuario_roi['LTV'] = ganancia_usuario_roi['Revenue'] / ganancia_usuario_roi['Uid']"
   ]
  },
  {
   "cell_type": "code",
   "execution_count": 61,
   "metadata": {},
   "outputs": [
    {
     "data": {
      "text/html": [
       "<div>\n",
       "<style scoped>\n",
       "    .dataframe tbody tr th:only-of-type {\n",
       "        vertical-align: middle;\n",
       "    }\n",
       "\n",
       "    .dataframe tbody tr th {\n",
       "        vertical-align: top;\n",
       "    }\n",
       "\n",
       "    .dataframe thead th {\n",
       "        text-align: right;\n",
       "    }\n",
       "</style>\n",
       "<table border=\"1\" class=\"dataframe\">\n",
       "  <thead>\n",
       "    <tr style=\"text-align: right;\">\n",
       "      <th></th>\n",
       "      <th>source_id</th>\n",
       "      <th>Revenue</th>\n",
       "      <th>Uid</th>\n",
       "      <th>LTV</th>\n",
       "      <th>CAC_diario</th>\n",
       "    </tr>\n",
       "  </thead>\n",
       "  <tbody>\n",
       "    <tr>\n",
       "      <th>0</th>\n",
       "      <td>1</td>\n",
       "      <td>31090.55</td>\n",
       "      <td>5223</td>\n",
       "      <td>5.952623</td>\n",
       "      <td>9.489732</td>\n",
       "    </tr>\n",
       "    <tr>\n",
       "      <th>1</th>\n",
       "      <td>2</td>\n",
       "      <td>46923.61</td>\n",
       "      <td>6392</td>\n",
       "      <td>7.340990</td>\n",
       "      <td>16.287024</td>\n",
       "    </tr>\n",
       "    <tr>\n",
       "      <th>2</th>\n",
       "      <td>3</td>\n",
       "      <td>54511.24</td>\n",
       "      <td>13289</td>\n",
       "      <td>4.101982</td>\n",
       "      <td>15.580474</td>\n",
       "    </tr>\n",
       "    <tr>\n",
       "      <th>3</th>\n",
       "      <td>4</td>\n",
       "      <td>56696.83</td>\n",
       "      <td>12895</td>\n",
       "      <td>4.396807</td>\n",
       "      <td>7.271743</td>\n",
       "    </tr>\n",
       "    <tr>\n",
       "      <th>4</th>\n",
       "      <td>5</td>\n",
       "      <td>52624.02</td>\n",
       "      <td>9406</td>\n",
       "      <td>5.594729</td>\n",
       "      <td>8.336731</td>\n",
       "    </tr>\n",
       "    <tr>\n",
       "      <th>5</th>\n",
       "      <td>7</td>\n",
       "      <td>1.22</td>\n",
       "      <td>1</td>\n",
       "      <td>1.220000</td>\n",
       "      <td>NaN</td>\n",
       "    </tr>\n",
       "    <tr>\n",
       "      <th>6</th>\n",
       "      <td>9</td>\n",
       "      <td>5759.40</td>\n",
       "      <td>1647</td>\n",
       "      <td>3.496903</td>\n",
       "      <td>6.842532</td>\n",
       "    </tr>\n",
       "    <tr>\n",
       "      <th>7</th>\n",
       "      <td>10</td>\n",
       "      <td>4450.33</td>\n",
       "      <td>1562</td>\n",
       "      <td>2.849123</td>\n",
       "      <td>6.555415</td>\n",
       "    </tr>\n",
       "  </tbody>\n",
       "</table>\n",
       "</div>"
      ],
      "text/plain": [
       "   source_id   Revenue    Uid       LTV  CAC_diario\n",
       "0          1  31090.55   5223  5.952623    9.489732\n",
       "1          2  46923.61   6392  7.340990   16.287024\n",
       "2          3  54511.24  13289  4.101982   15.580474\n",
       "3          4  56696.83  12895  4.396807    7.271743\n",
       "4          5  52624.02   9406  5.594729    8.336731\n",
       "5          7      1.22      1  1.220000         NaN\n",
       "6          9   5759.40   1647  3.496903    6.842532\n",
       "7         10   4450.33   1562  2.849123    6.555415"
      ]
     },
     "metadata": {},
     "output_type": "display_data"
    }
   ],
   "source": [
    "# agregar a la tabla el cac\n",
    "ganancia_usuario_roi_cac = pd.merge(ganancia_usuario_roi, cac_promedio_diario_por_fuente, on=\"source_id\")\n",
    "display(ganancia_usuario_roi_cac)"
   ]
  },
  {
   "cell_type": "code",
   "execution_count": 62,
   "metadata": {},
   "outputs": [
    {
     "data": {
      "text/html": [
       "<div>\n",
       "<style scoped>\n",
       "    .dataframe tbody tr th:only-of-type {\n",
       "        vertical-align: middle;\n",
       "    }\n",
       "\n",
       "    .dataframe tbody tr th {\n",
       "        vertical-align: top;\n",
       "    }\n",
       "\n",
       "    .dataframe thead th {\n",
       "        text-align: right;\n",
       "    }\n",
       "</style>\n",
       "<table border=\"1\" class=\"dataframe\">\n",
       "  <thead>\n",
       "    <tr style=\"text-align: right;\">\n",
       "      <th></th>\n",
       "      <th>source_id</th>\n",
       "      <th>Revenue</th>\n",
       "      <th>Cantidad de Usuarios</th>\n",
       "      <th>LTV</th>\n",
       "      <th>CAC_diario</th>\n",
       "      <th>ROI</th>\n",
       "    </tr>\n",
       "  </thead>\n",
       "  <tbody>\n",
       "    <tr>\n",
       "      <th>0</th>\n",
       "      <td>1</td>\n",
       "      <td>31090.55</td>\n",
       "      <td>5223</td>\n",
       "      <td>5.952623</td>\n",
       "      <td>9.489732</td>\n",
       "      <td>0.627270</td>\n",
       "    </tr>\n",
       "    <tr>\n",
       "      <th>1</th>\n",
       "      <td>2</td>\n",
       "      <td>46923.61</td>\n",
       "      <td>6392</td>\n",
       "      <td>7.340990</td>\n",
       "      <td>16.287024</td>\n",
       "      <td>0.450726</td>\n",
       "    </tr>\n",
       "    <tr>\n",
       "      <th>2</th>\n",
       "      <td>3</td>\n",
       "      <td>54511.24</td>\n",
       "      <td>13289</td>\n",
       "      <td>4.101982</td>\n",
       "      <td>15.580474</td>\n",
       "      <td>0.263277</td>\n",
       "    </tr>\n",
       "    <tr>\n",
       "      <th>3</th>\n",
       "      <td>4</td>\n",
       "      <td>56696.83</td>\n",
       "      <td>12895</td>\n",
       "      <td>4.396807</td>\n",
       "      <td>7.271743</td>\n",
       "      <td>0.604643</td>\n",
       "    </tr>\n",
       "    <tr>\n",
       "      <th>4</th>\n",
       "      <td>5</td>\n",
       "      <td>52624.02</td>\n",
       "      <td>9406</td>\n",
       "      <td>5.594729</td>\n",
       "      <td>8.336731</td>\n",
       "      <td>0.671094</td>\n",
       "    </tr>\n",
       "    <tr>\n",
       "      <th>5</th>\n",
       "      <td>7</td>\n",
       "      <td>1.22</td>\n",
       "      <td>1</td>\n",
       "      <td>1.220000</td>\n",
       "      <td>NaN</td>\n",
       "      <td>NaN</td>\n",
       "    </tr>\n",
       "    <tr>\n",
       "      <th>6</th>\n",
       "      <td>9</td>\n",
       "      <td>5759.40</td>\n",
       "      <td>1647</td>\n",
       "      <td>3.496903</td>\n",
       "      <td>6.842532</td>\n",
       "      <td>0.511054</td>\n",
       "    </tr>\n",
       "    <tr>\n",
       "      <th>7</th>\n",
       "      <td>10</td>\n",
       "      <td>4450.33</td>\n",
       "      <td>1562</td>\n",
       "      <td>2.849123</td>\n",
       "      <td>6.555415</td>\n",
       "      <td>0.434621</td>\n",
       "    </tr>\n",
       "  </tbody>\n",
       "</table>\n",
       "</div>"
      ],
      "text/plain": [
       "   source_id   Revenue  Cantidad de Usuarios       LTV  CAC_diario       ROI\n",
       "0          1  31090.55                  5223  5.952623    9.489732  0.627270\n",
       "1          2  46923.61                  6392  7.340990   16.287024  0.450726\n",
       "2          3  54511.24                 13289  4.101982   15.580474  0.263277\n",
       "3          4  56696.83                 12895  4.396807    7.271743  0.604643\n",
       "4          5  52624.02                  9406  5.594729    8.336731  0.671094\n",
       "5          7      1.22                     1  1.220000         NaN       NaN\n",
       "6          9   5759.40                  1647  3.496903    6.842532  0.511054\n",
       "7         10   4450.33                  1562  2.849123    6.555415  0.434621"
      ]
     },
     "metadata": {},
     "output_type": "display_data"
    }
   ],
   "source": [
    "# calcular el roi por fuente\n",
    "ganancia_usuario_roi_cac['ROI'] = ganancia_usuario_roi_cac['LTV'] / ganancia_usuario_roi_cac['CAC_diario']\n",
    "ganancia_usuario_roi_cac = ganancia_usuario_roi_cac.rename(columns={'Uid': 'Cantidad de Usuarios'})\n",
    "display(ganancia_usuario_roi_cac)"
   ]
  },
  {
   "cell_type": "markdown",
   "metadata": {},
   "source": [
    "#### LTV por Cohorte"
   ]
  },
  {
   "cell_type": "code",
   "execution_count": 63,
   "metadata": {},
   "outputs": [],
   "source": [
    "# calcular la cantidad de usuarios por cohorte\n",
    "usuarios_por_cohorte_roi = datos_roi.groupby('Cohorte')['Uid'].count().reset_index()\n"
   ]
  },
  {
   "cell_type": "code",
   "execution_count": 64,
   "metadata": {
    "scrolled": true
   },
   "outputs": [],
   "source": [
    "# calcular los ingresos por cada fuente\n",
    "gancias_por_cohorte_roi = datos_roi.groupby('Cohorte')['Revenue'].sum().reset_index()\n"
   ]
  },
  {
   "cell_type": "code",
   "execution_count": 65,
   "metadata": {
    "scrolled": false
   },
   "outputs": [
    {
     "data": {
      "text/html": [
       "<div>\n",
       "<style scoped>\n",
       "    .dataframe tbody tr th:only-of-type {\n",
       "        vertical-align: middle;\n",
       "    }\n",
       "\n",
       "    .dataframe tbody tr th {\n",
       "        vertical-align: top;\n",
       "    }\n",
       "\n",
       "    .dataframe thead th {\n",
       "        text-align: right;\n",
       "    }\n",
       "</style>\n",
       "<table border=\"1\" class=\"dataframe\">\n",
       "  <thead>\n",
       "    <tr style=\"text-align: right;\">\n",
       "      <th></th>\n",
       "      <th>Cohorte</th>\n",
       "      <th>Revenue</th>\n",
       "      <th>Uid</th>\n",
       "      <th>LTV</th>\n",
       "    </tr>\n",
       "  </thead>\n",
       "  <tbody>\n",
       "    <tr>\n",
       "      <th>0</th>\n",
       "      <td>2017-06</td>\n",
       "      <td>24031.69</td>\n",
       "      <td>4438</td>\n",
       "      <td>5.952623</td>\n",
       "    </tr>\n",
       "    <tr>\n",
       "      <th>1</th>\n",
       "      <td>2017-07</td>\n",
       "      <td>16127.92</td>\n",
       "      <td>2910</td>\n",
       "      <td>7.340990</td>\n",
       "    </tr>\n",
       "    <tr>\n",
       "      <th>2</th>\n",
       "      <td>2017-08</td>\n",
       "      <td>11606.26</td>\n",
       "      <td>2188</td>\n",
       "      <td>4.101982</td>\n",
       "    </tr>\n",
       "    <tr>\n",
       "      <th>3</th>\n",
       "      <td>2017-09</td>\n",
       "      <td>34676.32</td>\n",
       "      <td>3878</td>\n",
       "      <td>4.396807</td>\n",
       "    </tr>\n",
       "    <tr>\n",
       "      <th>4</th>\n",
       "      <td>2017-10</td>\n",
       "      <td>27603.45</td>\n",
       "      <td>6005</td>\n",
       "      <td>5.594729</td>\n",
       "    </tr>\n",
       "    <tr>\n",
       "      <th>5</th>\n",
       "      <td>2017-11</td>\n",
       "      <td>26098.99</td>\n",
       "      <td>5900</td>\n",
       "      <td>1.220000</td>\n",
       "    </tr>\n",
       "    <tr>\n",
       "      <th>6</th>\n",
       "      <td>2017-12</td>\n",
       "      <td>33485.74</td>\n",
       "      <td>5894</td>\n",
       "      <td>3.496903</td>\n",
       "    </tr>\n",
       "    <tr>\n",
       "      <th>7</th>\n",
       "      <td>2018-01</td>\n",
       "      <td>16663.13</td>\n",
       "      <td>4308</td>\n",
       "      <td>2.849123</td>\n",
       "    </tr>\n",
       "    <tr>\n",
       "      <th>8</th>\n",
       "      <td>2018-02</td>\n",
       "      <td>16750.50</td>\n",
       "      <td>4470</td>\n",
       "      <td>NaN</td>\n",
       "    </tr>\n",
       "    <tr>\n",
       "      <th>9</th>\n",
       "      <td>2018-03</td>\n",
       "      <td>19273.41</td>\n",
       "      <td>4484</td>\n",
       "      <td>NaN</td>\n",
       "    </tr>\n",
       "    <tr>\n",
       "      <th>10</th>\n",
       "      <td>2018-04</td>\n",
       "      <td>11810.61</td>\n",
       "      <td>2690</td>\n",
       "      <td>NaN</td>\n",
       "    </tr>\n",
       "    <tr>\n",
       "      <th>11</th>\n",
       "      <td>2018-05</td>\n",
       "      <td>13925.76</td>\n",
       "      <td>3249</td>\n",
       "      <td>NaN</td>\n",
       "    </tr>\n",
       "    <tr>\n",
       "      <th>12</th>\n",
       "      <td>2018-06</td>\n",
       "      <td>3.42</td>\n",
       "      <td>1</td>\n",
       "      <td>NaN</td>\n",
       "    </tr>\n",
       "  </tbody>\n",
       "</table>\n",
       "</div>"
      ],
      "text/plain": [
       "    Cohorte   Revenue   Uid       LTV\n",
       "0   2017-06  24031.69  4438  5.952623\n",
       "1   2017-07  16127.92  2910  7.340990\n",
       "2   2017-08  11606.26  2188  4.101982\n",
       "3   2017-09  34676.32  3878  4.396807\n",
       "4   2017-10  27603.45  6005  5.594729\n",
       "5   2017-11  26098.99  5900  1.220000\n",
       "6   2017-12  33485.74  5894  3.496903\n",
       "7   2018-01  16663.13  4308  2.849123\n",
       "8   2018-02  16750.50  4470       NaN\n",
       "9   2018-03  19273.41  4484       NaN\n",
       "10  2018-04  11810.61  2690       NaN\n",
       "11  2018-05  13925.76  3249       NaN\n",
       "12  2018-06      3.42     1       NaN"
      ]
     },
     "metadata": {},
     "output_type": "display_data"
    }
   ],
   "source": [
    "# unir la dos tablas y dividir las ganancias por cohorte\n",
    "ganancia_cohorte_roi = pd.merge(gancias_por_cohorte_roi, usuarios_por_cohorte_roi, on=\"Cohorte\")\n",
    "ganancia_cohorte_roi['LTV'] = ganancia_usuario_roi['Revenue'] / ganancia_usuario_roi['Uid']\n",
    "display(ganancia_cohorte_roi)"
   ]
  },
  {
   "cell_type": "markdown",
   "metadata": {},
   "source": [
    "**respuesta Comentario de Reviewer v3**"
   ]
  },
  {
   "cell_type": "code",
   "execution_count": 66,
   "metadata": {},
   "outputs": [],
   "source": [
    "# mes de la compra y orden\n",
    "ordenes['mes_de_compra'] = ordenes['Buy Ts'].astype('datetime64[M]')\n",
    "costos['mes'] = costos['dt'].astype('datetime64[M]') "
   ]
  },
  {
   "cell_type": "code",
   "execution_count": 67,
   "metadata": {
    "scrolled": false
   },
   "outputs": [],
   "source": [
    "# mes de la primera compra de cada cliente\n",
    "primera_orden = ordenes.groupby('Uid').agg({'mes_de_compra': 'min'}).reset_index()\n",
    "primera_orden.columns = ['Uid', 'primer_mes_de_compra']"
   ]
  },
  {
   "cell_type": "code",
   "execution_count": 68,
   "metadata": {},
   "outputs": [],
   "source": [
    "# Calcular el número de nuevos clientes para cada mes\n",
    "tamaños_cohorte = primera_orden.groupby('primer_mes_de_compra').agg({'Uid': 'nunique'}).reset_index()\n",
    "tamaños_cohorte.columns = ['primer_mes_de_compra', 'numero_de_clientes']\n"
   ]
  },
  {
   "cell_type": "code",
   "execution_count": 69,
   "metadata": {
    "scrolled": true
   },
   "outputs": [],
   "source": [
    "# agregar los meses de la primera compra a la tabla de ordenes\n",
    "ordenes_ = pd.merge(ordenes,primera_orden, on='Uid')\n"
   ]
  },
  {
   "cell_type": "code",
   "execution_count": 70,
   "metadata": {},
   "outputs": [],
   "source": [
    "# Crear cohortes\n",
    "cohortes_roi = ordenes_.groupby(['primer_mes_de_compra','mes_de_compra']).agg({'Revenue': 'sum'}).reset_index()"
   ]
  },
  {
   "cell_type": "code",
   "execution_count": 71,
   "metadata": {},
   "outputs": [],
   "source": [
    "# Agrego datos sobre cuántos usuarios realizaron sus primeras compras en cada mes\n",
    "reporte = pd.merge(tamaños_cohorte, cohortes_roi, on='primer_mes_de_compra')"
   ]
  },
  {
   "cell_type": "code",
   "execution_count": 72,
   "metadata": {},
   "outputs": [],
   "source": [
    "# Calcular la edad de la cohorte\n",
    "reporte['Edad_cohorte'] = (reporte['mes_de_compra'] - reporte['primer_mes_de_compra']) / np.timedelta64(1, 'M')\n",
    "reporte['Edad_cohorte'] = reporte['Edad_cohorte'].round().astype('int')\n"
   ]
  },
  {
   "cell_type": "code",
   "execution_count": 73,
   "metadata": {},
   "outputs": [],
   "source": [
    "# calcular el ltv\n",
    "reporte['LTV'] = reporte['Revenue'] / reporte['numero_de_clientes']\n"
   ]
  },
  {
   "cell_type": "code",
   "execution_count": 74,
   "metadata": {},
   "outputs": [
    {
     "data": {
      "text/html": [
       "<div>\n",
       "<style scoped>\n",
       "    .dataframe tbody tr th:only-of-type {\n",
       "        vertical-align: middle;\n",
       "    }\n",
       "\n",
       "    .dataframe tbody tr th {\n",
       "        vertical-align: top;\n",
       "    }\n",
       "\n",
       "    .dataframe thead th {\n",
       "        text-align: right;\n",
       "    }\n",
       "</style>\n",
       "<table border=\"1\" class=\"dataframe\">\n",
       "  <thead>\n",
       "    <tr style=\"text-align: right;\">\n",
       "      <th>Edad_cohorte</th>\n",
       "      <th>0</th>\n",
       "      <th>1</th>\n",
       "      <th>2</th>\n",
       "      <th>3</th>\n",
       "      <th>4</th>\n",
       "      <th>5</th>\n",
       "      <th>6</th>\n",
       "      <th>7</th>\n",
       "      <th>8</th>\n",
       "      <th>9</th>\n",
       "      <th>10</th>\n",
       "      <th>11</th>\n",
       "    </tr>\n",
       "    <tr>\n",
       "      <th>primer_mes_de_compra</th>\n",
       "      <th></th>\n",
       "      <th></th>\n",
       "      <th></th>\n",
       "      <th></th>\n",
       "      <th></th>\n",
       "      <th></th>\n",
       "      <th></th>\n",
       "      <th></th>\n",
       "      <th></th>\n",
       "      <th></th>\n",
       "      <th></th>\n",
       "      <th></th>\n",
       "    </tr>\n",
       "  </thead>\n",
       "  <tbody>\n",
       "    <tr>\n",
       "      <th>2017-06-01</th>\n",
       "      <td>5.0</td>\n",
       "      <td>0.0</td>\n",
       "      <td>0.0</td>\n",
       "      <td>1.0</td>\n",
       "      <td>1.0</td>\n",
       "      <td>1.0</td>\n",
       "      <td>1.0</td>\n",
       "      <td>1.0</td>\n",
       "      <td>1.0</td>\n",
       "      <td>1.0</td>\n",
       "      <td>1.0</td>\n",
       "      <td>0.0</td>\n",
       "    </tr>\n",
       "    <tr>\n",
       "      <th>2017-07-01</th>\n",
       "      <td>6.0</td>\n",
       "      <td>0.0</td>\n",
       "      <td>1.0</td>\n",
       "      <td>0.0</td>\n",
       "      <td>0.0</td>\n",
       "      <td>0.0</td>\n",
       "      <td>0.0</td>\n",
       "      <td>0.0</td>\n",
       "      <td>0.0</td>\n",
       "      <td>0.0</td>\n",
       "      <td>0.0</td>\n",
       "      <td></td>\n",
       "    </tr>\n",
       "    <tr>\n",
       "      <th>2017-08-01</th>\n",
       "      <td>5.0</td>\n",
       "      <td>0.0</td>\n",
       "      <td>0.0</td>\n",
       "      <td>0.0</td>\n",
       "      <td>0.0</td>\n",
       "      <td>0.0</td>\n",
       "      <td>0.0</td>\n",
       "      <td>0.0</td>\n",
       "      <td>0.0</td>\n",
       "      <td>0.0</td>\n",
       "      <td></td>\n",
       "      <td></td>\n",
       "    </tr>\n",
       "    <tr>\n",
       "      <th>2017-09-01</th>\n",
       "      <td>6.0</td>\n",
       "      <td>1.0</td>\n",
       "      <td>1.0</td>\n",
       "      <td>4.0</td>\n",
       "      <td>0.0</td>\n",
       "      <td>1.0</td>\n",
       "      <td>1.0</td>\n",
       "      <td>0.0</td>\n",
       "      <td>0.0</td>\n",
       "      <td></td>\n",
       "      <td></td>\n",
       "      <td></td>\n",
       "    </tr>\n",
       "    <tr>\n",
       "      <th>2017-10-01</th>\n",
       "      <td>5.0</td>\n",
       "      <td>1.0</td>\n",
       "      <td>0.0</td>\n",
       "      <td>0.0</td>\n",
       "      <td>0.0</td>\n",
       "      <td>0.0</td>\n",
       "      <td>0.0</td>\n",
       "      <td>0.0</td>\n",
       "      <td></td>\n",
       "      <td></td>\n",
       "      <td></td>\n",
       "      <td></td>\n",
       "    </tr>\n",
       "    <tr>\n",
       "      <th>2017-11-01</th>\n",
       "      <td>5.0</td>\n",
       "      <td>0.0</td>\n",
       "      <td>0.0</td>\n",
       "      <td>0.0</td>\n",
       "      <td>0.0</td>\n",
       "      <td>0.0</td>\n",
       "      <td>0.0</td>\n",
       "      <td></td>\n",
       "      <td></td>\n",
       "      <td></td>\n",
       "      <td></td>\n",
       "      <td></td>\n",
       "    </tr>\n",
       "    <tr>\n",
       "      <th>2017-12-01</th>\n",
       "      <td>5.0</td>\n",
       "      <td>0.0</td>\n",
       "      <td>1.0</td>\n",
       "      <td>1.0</td>\n",
       "      <td>0.0</td>\n",
       "      <td>0.0</td>\n",
       "      <td></td>\n",
       "      <td></td>\n",
       "      <td></td>\n",
       "      <td></td>\n",
       "      <td></td>\n",
       "      <td></td>\n",
       "    </tr>\n",
       "    <tr>\n",
       "      <th>2018-01-01</th>\n",
       "      <td>4.0</td>\n",
       "      <td>0.0</td>\n",
       "      <td>0.0</td>\n",
       "      <td>0.0</td>\n",
       "      <td>0.0</td>\n",
       "      <td></td>\n",
       "      <td></td>\n",
       "      <td></td>\n",
       "      <td></td>\n",
       "      <td></td>\n",
       "      <td></td>\n",
       "      <td></td>\n",
       "    </tr>\n",
       "    <tr>\n",
       "      <th>2018-02-01</th>\n",
       "      <td>4.0</td>\n",
       "      <td>0.0</td>\n",
       "      <td>0.0</td>\n",
       "      <td>0.0</td>\n",
       "      <td></td>\n",
       "      <td></td>\n",
       "      <td></td>\n",
       "      <td></td>\n",
       "      <td></td>\n",
       "      <td></td>\n",
       "      <td></td>\n",
       "      <td></td>\n",
       "    </tr>\n",
       "    <tr>\n",
       "      <th>2018-03-01</th>\n",
       "      <td>5.0</td>\n",
       "      <td>0.0</td>\n",
       "      <td>0.0</td>\n",
       "      <td></td>\n",
       "      <td></td>\n",
       "      <td></td>\n",
       "      <td></td>\n",
       "      <td></td>\n",
       "      <td></td>\n",
       "      <td></td>\n",
       "      <td></td>\n",
       "      <td></td>\n",
       "    </tr>\n",
       "    <tr>\n",
       "      <th>2018-04-01</th>\n",
       "      <td>5.0</td>\n",
       "      <td>1.0</td>\n",
       "      <td></td>\n",
       "      <td></td>\n",
       "      <td></td>\n",
       "      <td></td>\n",
       "      <td></td>\n",
       "      <td></td>\n",
       "      <td></td>\n",
       "      <td></td>\n",
       "      <td></td>\n",
       "      <td></td>\n",
       "    </tr>\n",
       "    <tr>\n",
       "      <th>2018-05-01</th>\n",
       "      <td>5.0</td>\n",
       "      <td></td>\n",
       "      <td></td>\n",
       "      <td></td>\n",
       "      <td></td>\n",
       "      <td></td>\n",
       "      <td></td>\n",
       "      <td></td>\n",
       "      <td></td>\n",
       "      <td></td>\n",
       "      <td></td>\n",
       "      <td></td>\n",
       "    </tr>\n",
       "    <tr>\n",
       "      <th>2018-06-01</th>\n",
       "      <td>3.0</td>\n",
       "      <td></td>\n",
       "      <td></td>\n",
       "      <td></td>\n",
       "      <td></td>\n",
       "      <td></td>\n",
       "      <td></td>\n",
       "      <td></td>\n",
       "      <td></td>\n",
       "      <td></td>\n",
       "      <td></td>\n",
       "      <td></td>\n",
       "    </tr>\n",
       "  </tbody>\n",
       "</table>\n",
       "</div>"
      ],
      "text/plain": [
       "Edad_cohorte           0    1    2    3    4    5    6    7    8    9    10  \\\n",
       "primer_mes_de_compra                                                          \n",
       "2017-06-01            5.0  0.0  0.0  1.0  1.0  1.0  1.0  1.0  1.0  1.0  1.0   \n",
       "2017-07-01            6.0  0.0  1.0  0.0  0.0  0.0  0.0  0.0  0.0  0.0  0.0   \n",
       "2017-08-01            5.0  0.0  0.0  0.0  0.0  0.0  0.0  0.0  0.0  0.0        \n",
       "2017-09-01            6.0  1.0  1.0  4.0  0.0  1.0  1.0  0.0  0.0             \n",
       "2017-10-01            5.0  1.0  0.0  0.0  0.0  0.0  0.0  0.0                  \n",
       "2017-11-01            5.0  0.0  0.0  0.0  0.0  0.0  0.0                       \n",
       "2017-12-01            5.0  0.0  1.0  1.0  0.0  0.0                            \n",
       "2018-01-01            4.0  0.0  0.0  0.0  0.0                                 \n",
       "2018-02-01            4.0  0.0  0.0  0.0                                      \n",
       "2018-03-01            5.0  0.0  0.0                                           \n",
       "2018-04-01            5.0  1.0                                                \n",
       "2018-05-01            5.0                                                     \n",
       "2018-06-01            3.0                                                     \n",
       "\n",
       "Edad_cohorte           11  \n",
       "primer_mes_de_compra       \n",
       "2017-06-01            0.0  \n",
       "2017-07-01                 \n",
       "2017-08-01                 \n",
       "2017-09-01                 \n",
       "2017-10-01                 \n",
       "2017-11-01                 \n",
       "2017-12-01                 \n",
       "2018-01-01                 \n",
       "2018-02-01                 \n",
       "2018-03-01                 \n",
       "2018-04-01                 \n",
       "2018-05-01                 \n",
       "2018-06-01                 "
      ]
     },
     "execution_count": 74,
     "metadata": {},
     "output_type": "execute_result"
    }
   ],
   "source": [
    "output = reporte.pivot_table(index='primer_mes_de_compra', columns='Edad_cohorte', values='LTV', aggfunc='mean').round()\n",
    "\n",
    "output.fillna('')"
   ]
  },
  {
   "cell_type": "markdown",
   "metadata": {},
   "source": [
    "<div class=\"alert alert-block alert-success\">\n",
    "<b>Comentario de Reviewer v4</b> <a class=\"tocSkip\"></a>\n",
    "\n",
    "Ok, esto es lo mismo que el ltv calculado en 2.2.\n",
    "</div>"
   ]
  },
  {
   "cell_type": "code",
   "execution_count": 75,
   "metadata": {},
   "outputs": [
    {
     "data": {
      "text/plain": [
       "13.0"
      ]
     },
     "metadata": {},
     "output_type": "display_data"
    }
   ],
   "source": [
    "# calcular el lvt para una cohorte especifica \n",
    "ltv_20170601 = output.loc['2017-06-01'].sum()\n",
    "display(ltv_20170601)"
   ]
  },
  {
   "cell_type": "code",
   "execution_count": 76,
   "metadata": {},
   "outputs": [],
   "source": [
    "# calcular los costos por mes\n",
    "costos_ = costos[['mes', 'costs']]\n",
    "costos_mes = costos_.groupby('mes').sum()\n"
   ]
  },
  {
   "cell_type": "code",
   "execution_count": 77,
   "metadata": {},
   "outputs": [
    {
     "data": {
      "text/html": [
       "<div>\n",
       "<style scoped>\n",
       "    .dataframe tbody tr th:only-of-type {\n",
       "        vertical-align: middle;\n",
       "    }\n",
       "\n",
       "    .dataframe tbody tr th {\n",
       "        vertical-align: top;\n",
       "    }\n",
       "\n",
       "    .dataframe thead th {\n",
       "        text-align: right;\n",
       "    }\n",
       "</style>\n",
       "<table border=\"1\" class=\"dataframe\">\n",
       "  <thead>\n",
       "    <tr style=\"text-align: right;\">\n",
       "      <th></th>\n",
       "      <th>primer_mes_de_compra</th>\n",
       "      <th>numero_de_clientes</th>\n",
       "      <th>mes_de_compra</th>\n",
       "      <th>Revenue</th>\n",
       "      <th>Edad_cohorte</th>\n",
       "      <th>LTV</th>\n",
       "      <th>costs</th>\n",
       "      <th>CAC</th>\n",
       "    </tr>\n",
       "  </thead>\n",
       "  <tbody>\n",
       "    <tr>\n",
       "      <th>0</th>\n",
       "      <td>2017-06-01</td>\n",
       "      <td>2023</td>\n",
       "      <td>2017-06-01</td>\n",
       "      <td>9557.49</td>\n",
       "      <td>0</td>\n",
       "      <td>4.724414</td>\n",
       "      <td>18015.0</td>\n",
       "      <td>8.905091</td>\n",
       "    </tr>\n",
       "    <tr>\n",
       "      <th>1</th>\n",
       "      <td>2017-06-01</td>\n",
       "      <td>2023</td>\n",
       "      <td>2017-07-01</td>\n",
       "      <td>981.82</td>\n",
       "      <td>1</td>\n",
       "      <td>0.485329</td>\n",
       "      <td>18015.0</td>\n",
       "      <td>8.905091</td>\n",
       "    </tr>\n",
       "    <tr>\n",
       "      <th>2</th>\n",
       "      <td>2017-06-01</td>\n",
       "      <td>2023</td>\n",
       "      <td>2017-08-01</td>\n",
       "      <td>885.34</td>\n",
       "      <td>2</td>\n",
       "      <td>0.437637</td>\n",
       "      <td>18015.0</td>\n",
       "      <td>8.905091</td>\n",
       "    </tr>\n",
       "    <tr>\n",
       "      <th>3</th>\n",
       "      <td>2017-06-01</td>\n",
       "      <td>2023</td>\n",
       "      <td>2017-09-01</td>\n",
       "      <td>1931.30</td>\n",
       "      <td>3</td>\n",
       "      <td>0.954671</td>\n",
       "      <td>18015.0</td>\n",
       "      <td>8.905091</td>\n",
       "    </tr>\n",
       "    <tr>\n",
       "      <th>4</th>\n",
       "      <td>2017-06-01</td>\n",
       "      <td>2023</td>\n",
       "      <td>2017-10-01</td>\n",
       "      <td>2068.58</td>\n",
       "      <td>4</td>\n",
       "      <td>1.022531</td>\n",
       "      <td>18015.0</td>\n",
       "      <td>8.905091</td>\n",
       "    </tr>\n",
       "  </tbody>\n",
       "</table>\n",
       "</div>"
      ],
      "text/plain": [
       "  primer_mes_de_compra  numero_de_clientes mes_de_compra  Revenue  \\\n",
       "0           2017-06-01                2023    2017-06-01  9557.49   \n",
       "1           2017-06-01                2023    2017-07-01   981.82   \n",
       "2           2017-06-01                2023    2017-08-01   885.34   \n",
       "3           2017-06-01                2023    2017-09-01  1931.30   \n",
       "4           2017-06-01                2023    2017-10-01  2068.58   \n",
       "\n",
       "   Edad_cohorte       LTV    costs       CAC  \n",
       "0             0  4.724414  18015.0  8.905091  \n",
       "1             1  0.485329  18015.0  8.905091  \n",
       "2             2  0.437637  18015.0  8.905091  \n",
       "3             3  0.954671  18015.0  8.905091  \n",
       "4             4  1.022531  18015.0  8.905091  "
      ]
     },
     "metadata": {},
     "output_type": "display_data"
    }
   ],
   "source": [
    "# Añadir costos por mes y calcular cac\n",
    "reporte_ = pd.merge(reporte, costos_mes, left_on='primer_mes_de_compra', right_on='mes')\n",
    "reporte_['CAC'] = reporte_['costs'] / reporte_['numero_de_clientes']\n",
    "\n",
    "display(reporte_.head())"
   ]
  },
  {
   "cell_type": "markdown",
   "metadata": {},
   "source": [
    "<div class=\"alert alert-block alert-danger\">\n",
    "<b>Comentario de Reviewer v4</b> <a class=\"tocSkip\"></a>\n",
    "\n",
    "Estos costos están mezclando todas las fuentes, debido a que la inversión es diferente para cada fuente, no se pueden juntar.\n",
    "    \n",
    "Te dejo el código para calcular el roi de cada fuente. Solo debes completar las dos partes que están comentadas.\n",
    "</div>"
   ]
  },
  {
   "cell_type": "markdown",
   "metadata": {},
   "source": [
    "<div class=\"alert alert-block alert-info\">\n",
    "<b>Respuesta estudiante.</b> <a class=\"tocSkip\"></a>\n",
    "\n",
    "Completo las partes comentadas\n",
    "</div>"
   ]
  },
  {
   "cell_type": "code",
   "execution_count": 78,
   "metadata": {},
   "outputs": [],
   "source": [
    "# creo la tabla buyers\n",
    "visitas = visitas.sort_values(by='Start Ts')\n",
    "fuente_usuario = visitas.groupby('Uid').first()[['source_id']]\n",
    "fuente_usuario = fuente_usuario.reset_index()\n",
    "buyers = pd.merge(fuente_usuario, ordenes_, on='Uid')\n"
   ]
  },
  {
   "cell_type": "code",
   "execution_count": 79,
   "metadata": {},
   "outputs": [
    {
     "name": "stdout",
     "output_type": "stream",
     "text": [
      "El ROMI de la fuente 2 es 46%\n",
      "El ROMI de la fuente 10 es 50%\n",
      "El ROMI de la fuente 3 es 28%\n",
      "El ROMI de la fuente 5 es 74%\n",
      "El ROMI de la fuente 4 es 60%\n",
      "El ROMI de la fuente 1 es 57%\n",
      "El ROMI de la fuente 9 es 48%\n"
     ]
    }
   ],
   "source": [
    "for source_i in buyers.source_id.unique():\n",
    "    df_i = buyers[buyers['source_id']==source_i]\n",
    "    costs_i=costos[costos['source_id']==source_i]\n",
    "\n",
    "\n",
    "    cohorts_data_month = (\n",
    "        df_i.groupby([\"primer_mes_de_compra\", \"mes_de_compra\"])\n",
    "    [\"Revenue\"].sum()\n",
    "    .reset_index()\n",
    "        # Agrupa y calcula el revenue por primer_mes_de_compra y mes_de_compra\n",
    "    )\n",
    "\n",
    "    cohorts_data_month['age_month'] = (\n",
    "        (cohorts_data_month['mes_de_compra'] - cohorts_data_month['primer_mes_de_compra'])\n",
    "        /np.timedelta64(1,'M')\n",
    "    ).round().astype(int)\n",
    "\n",
    "    cohort_sizes = (\n",
    "        df_i.groupby('primer_mes_de_compra').size().rename('n_buyers').reset_index()\n",
    "    )\n",
    "        # Agrupa y calcula el tamaño de las cohortes por mes de primera compra. Renombra la columna como n_buyers\n",
    "\n",
    "\n",
    "    cohorts_report = pd.merge(cohort_sizes , cohorts_data_month, on = 'primer_mes_de_compra')\n",
    "    cohorts_report['rev_per_buyer'] = cohorts_report['Revenue'] / cohorts_report['n_buyers']\n",
    "    \n",
    "\n",
    "    cohorts_age = cohorts_report.pivot_table(\n",
    "        index='primer_mes_de_compra', \n",
    "        columns='age_month', \n",
    "        values='rev_per_buyer', \n",
    "        aggfunc='sum'\n",
    "    ).cumsum(axis=1)\n",
    "    \n",
    "    \n",
    "    try:\n",
    "        ltv_i = cohorts_age[5].mean()\n",
    "        cac_i = cac_promedio_diario_por_fuente.loc[cac_promedio_diario_por_fuente['source_id']==source_i,'CAC_diario'].values[0]\n",
    "        print('El ROMI de la fuente {0} es {1:.0%}'.format(source_i,ltv_i/cac_i))\n",
    "\n",
    "    except:\n",
    "        pass"
   ]
  },
  {
   "cell_type": "markdown",
   "metadata": {},
   "source": [
    "<div class=\"alert alert-block alert-warning\">\n",
    "<b>Comentario de Reviewer v5</b> <a class=\"tocSkip\"></a>\n",
    "\n",
    "Ok, está casi correcto, el único problema fue que el tamaño de las cohortes tiene que ser la cantida única de usuarios. En realidad quedaría así:\n",
    "    \n",
    "    \n",
    "</div>"
   ]
  },
  {
   "cell_type": "code",
   "execution_count": 85,
   "metadata": {},
   "outputs": [
    {
     "name": "stdout",
     "output_type": "stream",
     "text": [
      "El ROMI de la fuente 2 es 95%\n",
      "El ROMI de la fuente 10 es 60%\n",
      "El ROMI de la fuente 3 es 37%\n",
      "El ROMI de la fuente 5 es 112%\n",
      "El ROMI de la fuente 4 es 83%\n",
      "El ROMI de la fuente 1 es 127%\n",
      "El ROMI de la fuente 9 es 85%\n"
     ]
    }
   ],
   "source": [
    "for source_i in buyers.source_id.unique():\n",
    "    df_i = buyers[buyers['source_id']==source_i]\n",
    "    costs_i=costos[costos['source_id']==source_i]\n",
    "\n",
    "\n",
    "    cohorts_data_month = (\n",
    "        df_i.groupby([\"primer_mes_de_compra\", \"mes_de_compra\"])\n",
    "    [\"Revenue\"].sum()\n",
    "    .reset_index()\n",
    "        # Agrupa y calcula el revenue por primer_mes_de_compra y mes_de_compra\n",
    "    )\n",
    "\n",
    "    cohorts_data_month['age_month'] = (\n",
    "        (cohorts_data_month['mes_de_compra'] - cohorts_data_month['primer_mes_de_compra'])\n",
    "        /np.timedelta64(1,'M')\n",
    "    ).round().astype(int)\n",
    "\n",
    "    cohort_sizes = (\n",
    "        df_i.groupby('primer_mes_de_compra')['Uid'].nunique().rename('n_buyers').reset_index()\n",
    "    )\n",
    "        # Agrupa y calcula el tamaño de las cohortes por mes de primera compra. Renombra la columna como n_buyers\n",
    "\n",
    "\n",
    "    cohorts_report = pd.merge(cohort_sizes, cohorts_data_month, on = 'primer_mes_de_compra')\n",
    "    cohorts_report['rev_per_buyer'] = cohorts_report['Revenue'] / cohorts_report['n_buyers']\n",
    "    \n",
    "\n",
    "    cohorts_age = cohorts_report.pivot_table(\n",
    "        index='primer_mes_de_compra', \n",
    "        columns='age_month', \n",
    "        values='rev_per_buyer', \n",
    "        aggfunc='sum'\n",
    "    ).cumsum(axis=1)\n",
    "    \n",
    "    \n",
    "    try:\n",
    "        ltv_i = cohorts_age[5].mean()\n",
    "        cac_i = cac_promedio_diario_por_fuente.loc[cac_promedio_diario_por_fuente['source_id']==source_i,'CAC_diario'].values[0]\n",
    "        print('El ROMI de la fuente {0} es {1:.0%}'.format(source_i,ltv_i/cac_i))\n",
    "\n",
    "    except:\n",
    "        pass"
   ]
  },
  {
   "cell_type": "code",
   "execution_count": null,
   "metadata": {},
   "outputs": [],
   "source": [
    "# calcular el ROMI\n",
    "reporte_['ROMI'] = reporte_['LTV'] / reporte_['CAC']"
   ]
  },
  {
   "cell_type": "code",
   "execution_count": null,
   "metadata": {},
   "outputs": [],
   "source": [
    "output = reporte_.pivot_table(index='primer_mes_de_compra', columns='Edad_cohorte', values='ROMI', aggfunc='mean')\n",
    "\n",
    "output.cumsum(axis=1).round(2)"
   ]
  },
  {
   "cell_type": "markdown",
   "metadata": {},
   "source": [
    "<div class=\"alert alert-block alert-danger\">\n",
    "<b>Comentario de Reviewer v3</b> <a class=\"tocSkip\"></a>\n",
    "\n",
    "Ok, la solución va por camino correcto pero en realidad debes considerar calcular el ltv por cohorte. ¿Por qué es necesario por cohorte? Nota que hay usuarios que tienen mucha antigüedad desde que compraron por primera vez y otros que recién están comenzando. El análisis por cohorte permite calcular el ltv por \"edad\" de los usuarios (según su cohorte), es decir, compara a los usuarios en condiciones similares (misma \"edad\" de madurez).\n",
    "\n",
    "Te dejo un esquema de cómo calcularlo\n",
    "    \n",
    "- Debes tener para cada usuario su source de primera visita, mes de primera compra y todas sus compras. Es decir, una tabla con una fila para cada compra y en cada fila tener el source de la 1era visita y mes de 1era compra del usuario correspondiente.    \n",
    "- Debes hacer un loop sobre las source. \n",
    "  - Supongamos estamos iterando sobre la source i.\n",
    "  - Filtra la tabla por la source i, de manera que solamente te quedan los usuarios que llegaron por la source i.\n",
    "  - Con esta data filtrada, calcular el tamaño inicial de cada cohorte y por otro lado, el revenue por mes de cada cohorte (hay que agregar la edad si aún no estaba calculada)\n",
    "  - Con eso calculamos un revenue por comprador de cada mes para cada cohorte\n",
    "  - Creas el reporte pivote (como en la sección de ltv, con la edad como columna) y obtén la media de revenue por comprador al 5to mes (se usa el 4to o 5to mes porque así cada cohorte está suficientemente madura)\n",
    "- Luego de terminar el loop deberás tener un ltv_promedio para cada source. Esto lo divides por el cac (que se calculó en la sección anterior) de la source correspondiente y obtendrás un roi.\n",
    "\n",
    "\n",
    "</div>"
   ]
  },
  {
   "cell_type": "markdown",
   "metadata": {},
   "source": [
    "<div class=\"alert alert-block alert-info\">\n",
    "<b>Respuesta estudiante.</b> <a class=\"tocSkip\"></a>\n",
    "\n",
    "Hago los cambios sugeridos guiándome de tus comentarios y la teoría que encuentro en el curso\n",
    "\n",
    "</div>\n"
   ]
  },
  {
   "cell_type": "markdown",
   "metadata": {},
   "source": [
    "<div class=\"alert alert-block alert-danger\">\n",
    "<b>Comentario de Reviewer</b> <a class=\"tocSkip\"></a>\n",
    "\n",
    "Para calcular el roi debemos mezclar los cálculos del LTV por fuente y juntar con el cac para la fuente correspondiente. De esta forma se puede calcular un roi promedio para cada fuente. Ahondaremos más en esto en la siguiente iteración.\n",
    "    \n",
    "</div>"
   ]
  },
  {
   "cell_type": "markdown",
   "metadata": {},
   "source": [
    "<div class=\"alert alert-block alert-danger\">\n",
    "<b>Comentario de Reviewer v2</b> <a class=\"tocSkip\"></a>\n",
    "\n",
    "Debes tener listo un dataframe con la data de las compras (user_id, order_month, cohorte, revenue) junto con la fuente de la primera visita del usuario. Con ese dataframe, debes iterar sobre las fuentes. \n",
    "    \n",
    "Para cada fuente, seleccionamos solo los usuarios que llegaron por esa fuente y repetimos el cálculo del LTV (calcular cantidad de usuarios por cohorte, sumar el revenue de cada [cohorte,mes de compra], calcular la edad de compra (mes de compra - cohorte), unir la cantidad de usuarios a esto último para poder dividir el revenue por la cantidad de usuarios). \n",
    "    \n",
    "Luego con ese LTV, obtenemos un valor representativo, digamos el promedio del valor acumulado de las cohortes al 5to mes (el promedio de la 5ta columna del ltv) y ese valor lo dividimos por el cac diario promedio de la fuente correspondiente. \n",
    "    \n",
    "</div>"
   ]
  },
  {
   "cell_type": "markdown",
   "metadata": {},
   "source": [
    "<div class=\"alert alert-block alert-info\">\n",
    "<b>Respuesta estudiante.</b> <a class=\"tocSkip\"></a>\n",
    "\n",
    "Creo que seguí todas las instrucciones que me haz dado, no sé si así este correcto.\n",
    "</div>"
   ]
  },
  {
   "cell_type": "markdown",
   "metadata": {},
   "source": [
    "#### Calcular el ROMI"
   ]
  },
  {
   "cell_type": "code",
   "execution_count": null,
   "metadata": {},
   "outputs": [],
   "source": [
    "# Calcular el total de ingresos\n",
    "total_ingresos = ordenes['Revenue'].sum()\n",
    "\n",
    "# Calcular el total de gastos\n",
    "total_gastos = costos['costs'].sum()\n",
    "\n",
    "# Calcular el ROMI\n",
    "ROMI = total_ingresos / total_gastos * 100\n",
    "display(f' La rentabilidad de la inversión en publicidad es de: {ROMI}')"
   ]
  },
  {
   "cell_type": "markdown",
   "metadata": {},
   "source": [
    "### Graficos"
   ]
  },
  {
   "cell_type": "markdown",
   "metadata": {},
   "source": [
    "#### Uso de dispositivos"
   ]
  },
  {
   "cell_type": "code",
   "execution_count": null,
   "metadata": {
    "scrolled": true
   },
   "outputs": [],
   "source": [
    "device_usage = visitas.groupby([visitas['Start Ts'].dt.to_period('M'), 'Device']).size().unstack().plot(kind='bar', stacked=True)\n",
    "\n",
    "plt.title('Uso de dispositivo por mes')\n",
    "plt.xlabel('Mes')\n",
    "plt.ylabel('Cantidad de usuarios')\n",
    "plt.show()"
   ]
  },
  {
   "cell_type": "markdown",
   "metadata": {},
   "source": [
    "#### Cantidad de inicios de sesión por fuente de anuncios"
   ]
  },
  {
   "cell_type": "code",
   "execution_count": null,
   "metadata": {},
   "outputs": [],
   "source": [
    "# Calcular el numero de inicios de sesión por fuente de anuncios\n",
    "\n",
    "sesion_por_fuente = visitas.groupby('source_id')['Start Ts'].count()\n",
    "display(sesion_por_fuente)"
   ]
  },
  {
   "cell_type": "code",
   "execution_count": null,
   "metadata": {
    "scrolled": true
   },
   "outputs": [],
   "source": [
    "# Grafico de cantidad de inicios de sesión por fuente de anuncios\n",
    "sesion_por_fuente.plot(kind='bar')\n",
    "plt.title('Cantidad de inicios de sesión por fuente de anuncios')\n",
    "plt.xlabel('Fuente de anuncios')\n",
    "plt.ylabel('Cantidad de inicios de sesión')\n",
    "plt.show()"
   ]
  },
  {
   "cell_type": "markdown",
   "metadata": {},
   "source": [
    "#### Cantidad de inicios de sesión por mes y fuente de anuncios"
   ]
  },
  {
   "cell_type": "code",
   "execution_count": null,
   "metadata": {},
   "outputs": [],
   "source": [
    "# Crea una nueva columna con el mes de la fecha de inicio de sesión\n",
    "visitas['Month'] = visitas['Start Ts'].dt.month\n",
    "\n",
    "# Agrupa los datos por mes y source_id, contando la cantidad de inicios de sesión\n",
    "grupo = visitas.groupby(['Month', 'source_id']).size()\n",
    "\n",
    "# Utiliza el método unstack para desapilar los niveles de índice\n",
    "grupo = grupo.unstack()\n",
    "\n",
    "# Crea un gráfico de barras para visualizar la comparación de la cantidad de inicios de sesión\n",
    "grupo.plot(kind='bar', stacked=True)\n",
    "plt.xlabel('Mes')\n",
    "plt.ylabel('Cantidad de inicios de sesión')\n",
    "plt.title('Cantidad de inicios de sesión por mes y fuente de anuncios')\n",
    "plt.show()"
   ]
  },
  {
   "cell_type": "markdown",
   "metadata": {},
   "source": [
    "## Conclusiones generales"
   ]
  },
  {
   "cell_type": "markdown",
   "metadata": {},
   "source": [
    "Luego del análisis de los datos para el Proyecto del departamento analítico de Y.Afisha. Con el propósito de ayudar a optimizar los gastos de marketing podemos concluir que:\n",
    "-\tEl promedio de visitas por días es: 908.\n",
    "-\tEl promedio de visitas por semana es: 5716.\n",
    "-\tEl promedio de visitas por mes es: 23228\n",
    "-\tA partir de agosto del 2017 hay un aumento exponencial de las visitas, el cual tiene su pico más alto en diciembre y luego empiezan a disminuir.\n",
    "-\tEn promedio se abren 987 sesiones al día.\n",
    "-\tLa duración promedio de la sesión es de 10 minutos.\n",
    "-\tEl 22% de los usuarios vuelve a iniciar sesión y en promedio los usuarios que regresan lo hacen 27 días luego de su primera sesión.\n",
    "En cuanto a ventas podemos concluir que:\n",
    "-\tEl mayor grado de conversión de logra en el mismo primer día de registro.\n",
    "-\tLa fuente de anuncios con mayor recaudo contando solo la primera compra es la fuente numero 4 con un total de 41914.99 en ingresos, seguida de la 3 con 41706.46 y la fuente 10 con 3737.82, la peor fuente de anuncios es la 6 con cero ingresos y la 7 con 1.22.\n",
    "-\tEl promedio de pedidos por semana es de: 969.51\n",
    "-\tEl tamaño promedio de las compras de los usuarios es de: 4.99\n",
    "-\tEl promedio de ingreso total por usuario es: 6.90\n",
    "-\tEl ingreso total en ventas es: 252057.20 \n",
    "\n",
    "Para el marketing encontramos que:\n",
    "-\tEl gasto total en marketing es: 329131.62\n",
    "-\tLa fuente con mayor gasto es la 3 con 141321.63, seguida de la 4 con 61073.60 y la 5 con 51757.10 las fuentes 6 y 7 no generan ningún gasto.\n",
    "-\tEl promedio de gasto diario en marketing es de: 904.20\n",
    "-\tEl precio de adquisición de cliente con la fuente 4 es de 1.890439 (el precio más alto por cliente), seguido por la fuente 2 con un costo por usuario de 1.631017. El cliente más económico de adquirir es el que proviene de la fuente 9 con un costo de 0.595584. El cliente de la categoría 4 cuesta 0.731201 (La fuente de anuncios con mayor recaudo contando solo la primera compra)\n",
    "-\tLa mejor fuente de adquisición de clientes por su porcentaje ROI es la 1 con un 185, seguida de 2 con 152 y la 9 con un 128. \n",
    "-\tLa rentabilidad total de la inversión en publicidad es de: % 76.58.\n",
    "\n",
    "\n",
    "En base a los datos analizados, se aconseja a los expertos de marketing:\n",
    "-\tAumentar el gasto en la fuente 1, ya que tiene el mejor ROI.\n",
    "-\tConsiderar reducir el gasto en la fuente 4, ya que tiene el precio de adquisición de cliente más alto.\n",
    "-\tSe recomienda que la empresa continúe invirtiendo en marketing, ya que la rentabilidad total de la inversión es de %76.58.\n",
    "-\tLa Fuente 1: Esta fuente tiene el mejor ROI, por lo que se recomienda aumentar el gasto en ella.\n",
    "-\tLa Fuente 2: Esta fuente tiene un ROI alto y un precio de adquisición de cliente relativamente bajo. Por lo que se recomienda aumentar el gasto en ella.\n",
    "-\tLa Fuente 9: Esta fuente tiene un ROI alto y un precio de adquisición de cliente muy bajo. Por lo que se recomienda aumentar el gasto en ella.\n",
    "-\tConsiderar reducir el gasto en la fuente 4.\n"
   ]
  }
 ],
 "metadata": {
  "kernelspec": {
   "display_name": "Python 3 (ipykernel)",
   "language": "python",
   "name": "python3"
  },
  "language_info": {
   "codemirror_mode": {
    "name": "ipython",
    "version": 3
   },
   "file_extension": ".py",
   "mimetype": "text/x-python",
   "name": "python",
   "nbconvert_exporter": "python",
   "pygments_lexer": "ipython3",
   "version": "3.9.5"
  },
  "toc": {
   "base_numbering": 1,
   "nav_menu": {},
   "number_sections": true,
   "sideBar": true,
   "skip_h1_title": true,
   "title_cell": "Table of Contents",
   "title_sidebar": "Contents",
   "toc_cell": false,
   "toc_position": {
    "height": "calc(100% - 180px)",
    "left": "10px",
    "top": "150px",
    "width": "270.391px"
   },
   "toc_section_display": true,
   "toc_window_display": false
  }
 },
 "nbformat": 4,
 "nbformat_minor": 2
}
