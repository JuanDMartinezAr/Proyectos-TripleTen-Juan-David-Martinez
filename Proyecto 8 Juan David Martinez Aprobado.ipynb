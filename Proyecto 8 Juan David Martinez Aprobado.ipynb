{
 "cells": [
  {
   "cell_type": "markdown",
   "metadata": {},
   "source": [
    "# Hola Juan!\n",
    "\n",
    "Mi nombre es David Bautista, soy code reviewer de Tripleten y hoy tengo el gusto de revisar tu proyecto.\n",
    "\n",
    "Cuando vea un error laa primera vez, lo señalaré. Deberás encontrarlo y arreglarlo. La intención es que te prepares para un espacio real de trabajo. En un trabajo, el líder de tu equipo hará lo mismo. Si no puedes solucionar el error, te daré más información en la próxima ocasión.\n",
    "\n",
    "Encontrarás mis comentarios más abajo - por favor, no los muevas, no los modifiques ni los borres.\n",
    "\n",
    "¿Cómo lo voy a hacer? Voy a leer detenidamente cada una de las implementaciones que has llevado a cabo para cumplir con lo solicitado. Verás los comentarios de esta forma:\n",
    "\n",
    "<div class=\"alert alert-block alert-success\">\n",
    "<b>Comentario del revisor</b> <a class=\"tocSkip\"></a>\n",
    "    \n",
    "Si todo está perfecto.\n",
    "</div>\n",
    "\n",
    "\n",
    "<div class=\"alert alert-block alert-warning\">\n",
    "<b>Comentario del revisor</b> <a class=\"tocSkip\"></a>\n",
    "    \n",
    "Si tu código está bien pero se puede mejorar o hay algún detalle que le hace falta.\n",
    "</div>\n",
    "\n",
    "\n",
    "<div class=\"alert alert-block alert-danger\">\n",
    "    \n",
    "<b>Comentario del revisor</b> <a class=\"tocSkip\"></a>\n",
    "    \n",
    "Si de pronto hace falta algo o existe algún problema con tu código o conclusiones.\n",
    "</div>\n",
    "\n",
    "\n",
    "Puedes responderme de esta forma: \n",
    "\n",
    "<div class=\"alert alert-block alert-info\">\n",
    "<b>Respuesta del estudiante</b> <a class=\"tocSkip\"></a>\n",
    "</div>\n",
    "\n",
    "¡Empecemos!"
   ]
  },
  {
   "cell_type": "markdown",
   "metadata": {},
   "source": [
    "# Descripción del Proyecto"
   ]
  },
  {
   "cell_type": "markdown",
   "metadata": {},
   "source": [
    "El siguiente proyecto se realiza para una tienda en línea donde en conjunto con el departamento de marketing se ha recopilado una lista de hipótesis que pueden ayudar a aumentar los ingresos.\n",
    "\n",
    "El propósito general es priorizar estas hipótesis, lanzar un test A/B y analizar los resultados.\n",
    "\n",
    "Se presentan un total de 9 hipótesis, las cuales se priorizan bajo dos criterios ICE y RICE.\n",
    "\n",
    "Partiendo de los datos obtenidos con la prueba se realizarán diferentes pruebas y análisis comparativos entre los dos grupos que permitan tomar una decisión.\n",
    "\n",
    "Estas pruebas se realizan comparando los ingresos generados y el número de pedidos por cada uno de los grupos.\n",
    "\n"
   ]
  },
  {
   "cell_type": "markdown",
   "metadata": {},
   "source": [
    "<div class=\"alert alert-block alert-danger\">\n",
    "<b>Comentario del revisor</b> <a class=\"tocSkip\"></a>\n",
    "   \n",
    "~~Hola, Juan, sería interesante generar una introducción un poco más extensa para el proyecto.~~ </div>"
   ]
  },
  {
   "cell_type": "markdown",
   "metadata": {},
   "source": [
    "<div class=\"alert alert-block alert-info\">\n",
    "<b>Respuesta estudiante.</b> <a class=\"tocSkip\"></a>\n",
    "    \n",
    "David Muchas gracias por observación, amplio un poco más la introducción. \n",
    "</div>"
   ]
  },
  {
   "cell_type": "markdown",
   "metadata": {},
   "source": [
    "<div class=\"alert alert-block alert-success\">\n",
    "<b>Comentario del revisor #2</b> <a class=\"tocSkip\"></a>\n",
    "   \n",
    "Gracias por tener en cuenta la observación Juan, muy buen trabajo.  </div>"
   ]
  },
  {
   "cell_type": "markdown",
   "metadata": {},
   "source": [
    "## Preparación de los datos"
   ]
  },
  {
   "cell_type": "code",
   "execution_count": 1,
   "metadata": {},
   "outputs": [],
   "source": [
    "# Cargo todas las librerías\n",
    "import pandas as pd\n",
    "import matplotlib.pyplot as plt\n",
    "from scipy import stats as st\n",
    "from scipy.stats import ttest_ind\n",
    "import seaborn as sns\n",
    "import numpy as np\n"
   ]
  },
  {
   "cell_type": "markdown",
   "metadata": {},
   "source": [
    "<div class=\"alert alert-block alert-success\">\n",
    "<b>Comentario del revisor</b> <a class=\"tocSkip\"></a>\n",
    "   \n",
    "Buen trabajo importado las librerías necesarias para el desarrollo del proyecto.  </div>"
   ]
  },
  {
   "cell_type": "code",
   "execution_count": 2,
   "metadata": {},
   "outputs": [],
   "source": [
    "# Cargo los archivo de datos en DataFrame\n",
    "\n",
    "hipotesis = pd.read_csv('/datasets/hypotheses_us.csv', sep=\";\")\n",
    "ordenes = pd.read_csv('/datasets/orders_us.csv')\n",
    "visitas = pd.read_csv('/datasets/visits_us.csv')"
   ]
  },
  {
   "cell_type": "markdown",
   "metadata": {},
   "source": [
    "<div class=\"alert alert-block alert-success\">\n",
    "<b>Comentario del revisor</b> <a class=\"tocSkip\"></a>\n",
    "   \n",
    "Buen trabajo cargando los datos necesarios para el desarrollo del proyecto.</div>"
   ]
  },
  {
   "cell_type": "markdown",
   "metadata": {},
   "source": [
    "**A continuación, se visualizan los datos para una comprensión inicial y se hacen las correcciones pertinentes.**"
   ]
  },
  {
   "cell_type": "code",
   "execution_count": 3,
   "metadata": {},
   "outputs": [
    {
     "data": {
      "text/html": [
       "<div>\n",
       "<style scoped>\n",
       "    .dataframe tbody tr th:only-of-type {\n",
       "        vertical-align: middle;\n",
       "    }\n",
       "\n",
       "    .dataframe tbody tr th {\n",
       "        vertical-align: top;\n",
       "    }\n",
       "\n",
       "    .dataframe thead th {\n",
       "        text-align: right;\n",
       "    }\n",
       "</style>\n",
       "<table border=\"1\" class=\"dataframe\">\n",
       "  <thead>\n",
       "    <tr style=\"text-align: right;\">\n",
       "      <th></th>\n",
       "      <th>Hypothesis</th>\n",
       "      <th>Reach</th>\n",
       "      <th>Impact</th>\n",
       "      <th>Confidence</th>\n",
       "      <th>Effort</th>\n",
       "    </tr>\n",
       "  </thead>\n",
       "  <tbody>\n",
       "    <tr>\n",
       "      <th>0</th>\n",
       "      <td>Add two new channels for attracting traffic. T...</td>\n",
       "      <td>3</td>\n",
       "      <td>10</td>\n",
       "      <td>8</td>\n",
       "      <td>6</td>\n",
       "    </tr>\n",
       "    <tr>\n",
       "      <th>1</th>\n",
       "      <td>Launch your own delivery service. This will sh...</td>\n",
       "      <td>2</td>\n",
       "      <td>5</td>\n",
       "      <td>4</td>\n",
       "      <td>10</td>\n",
       "    </tr>\n",
       "    <tr>\n",
       "      <th>2</th>\n",
       "      <td>Add product recommendation blocks to the store...</td>\n",
       "      <td>8</td>\n",
       "      <td>3</td>\n",
       "      <td>7</td>\n",
       "      <td>3</td>\n",
       "    </tr>\n",
       "    <tr>\n",
       "      <th>3</th>\n",
       "      <td>Change the category structure. This will incre...</td>\n",
       "      <td>8</td>\n",
       "      <td>3</td>\n",
       "      <td>3</td>\n",
       "      <td>8</td>\n",
       "    </tr>\n",
       "    <tr>\n",
       "      <th>4</th>\n",
       "      <td>Change the background color on the main page. ...</td>\n",
       "      <td>3</td>\n",
       "      <td>1</td>\n",
       "      <td>1</td>\n",
       "      <td>1</td>\n",
       "    </tr>\n",
       "  </tbody>\n",
       "</table>\n",
       "</div>"
      ],
      "text/plain": [
       "                                          Hypothesis  Reach  Impact  \\\n",
       "0  Add two new channels for attracting traffic. T...      3      10   \n",
       "1  Launch your own delivery service. This will sh...      2       5   \n",
       "2  Add product recommendation blocks to the store...      8       3   \n",
       "3  Change the category structure. This will incre...      8       3   \n",
       "4  Change the background color on the main page. ...      3       1   \n",
       "\n",
       "   Confidence  Effort  \n",
       "0           8       6  \n",
       "1           4      10  \n",
       "2           7       3  \n",
       "3           3       8  \n",
       "4           1       1  "
      ]
     },
     "metadata": {},
     "output_type": "display_data"
    },
    {
     "name": "stdout",
     "output_type": "stream",
     "text": [
      "<class 'pandas.core.frame.DataFrame'>\n",
      "RangeIndex: 9 entries, 0 to 8\n",
      "Data columns (total 5 columns):\n",
      " #   Column      Non-Null Count  Dtype \n",
      "---  ------      --------------  ----- \n",
      " 0   Hypothesis  9 non-null      object\n",
      " 1   Reach       9 non-null      int64 \n",
      " 2   Impact      9 non-null      int64 \n",
      " 3   Confidence  9 non-null      int64 \n",
      " 4   Effort      9 non-null      int64 \n",
      "dtypes: int64(4), object(1)\n",
      "memory usage: 488.0+ bytes\n"
     ]
    }
   ],
   "source": [
    "display(hipotesis.head())\n",
    "hipotesis.info()"
   ]
  },
  {
   "cell_type": "code",
   "execution_count": 4,
   "metadata": {},
   "outputs": [
    {
     "data": {
      "text/html": [
       "<div>\n",
       "<style scoped>\n",
       "    .dataframe tbody tr th:only-of-type {\n",
       "        vertical-align: middle;\n",
       "    }\n",
       "\n",
       "    .dataframe tbody tr th {\n",
       "        vertical-align: top;\n",
       "    }\n",
       "\n",
       "    .dataframe thead th {\n",
       "        text-align: right;\n",
       "    }\n",
       "</style>\n",
       "<table border=\"1\" class=\"dataframe\">\n",
       "  <thead>\n",
       "    <tr style=\"text-align: right;\">\n",
       "      <th></th>\n",
       "      <th>transactionId</th>\n",
       "      <th>visitorId</th>\n",
       "      <th>date</th>\n",
       "      <th>revenue</th>\n",
       "      <th>group</th>\n",
       "    </tr>\n",
       "  </thead>\n",
       "  <tbody>\n",
       "    <tr>\n",
       "      <th>0</th>\n",
       "      <td>3667963787</td>\n",
       "      <td>3312258926</td>\n",
       "      <td>2019-08-15</td>\n",
       "      <td>30.4</td>\n",
       "      <td>B</td>\n",
       "    </tr>\n",
       "    <tr>\n",
       "      <th>1</th>\n",
       "      <td>2804400009</td>\n",
       "      <td>3642806036</td>\n",
       "      <td>2019-08-15</td>\n",
       "      <td>15.2</td>\n",
       "      <td>B</td>\n",
       "    </tr>\n",
       "    <tr>\n",
       "      <th>2</th>\n",
       "      <td>2961555356</td>\n",
       "      <td>4069496402</td>\n",
       "      <td>2019-08-15</td>\n",
       "      <td>10.2</td>\n",
       "      <td>A</td>\n",
       "    </tr>\n",
       "    <tr>\n",
       "      <th>3</th>\n",
       "      <td>3797467345</td>\n",
       "      <td>1196621759</td>\n",
       "      <td>2019-08-15</td>\n",
       "      <td>155.1</td>\n",
       "      <td>B</td>\n",
       "    </tr>\n",
       "    <tr>\n",
       "      <th>4</th>\n",
       "      <td>2282983706</td>\n",
       "      <td>2322279887</td>\n",
       "      <td>2019-08-15</td>\n",
       "      <td>40.5</td>\n",
       "      <td>B</td>\n",
       "    </tr>\n",
       "  </tbody>\n",
       "</table>\n",
       "</div>"
      ],
      "text/plain": [
       "   transactionId   visitorId        date  revenue group\n",
       "0     3667963787  3312258926  2019-08-15     30.4     B\n",
       "1     2804400009  3642806036  2019-08-15     15.2     B\n",
       "2     2961555356  4069496402  2019-08-15     10.2     A\n",
       "3     3797467345  1196621759  2019-08-15    155.1     B\n",
       "4     2282983706  2322279887  2019-08-15     40.5     B"
      ]
     },
     "metadata": {},
     "output_type": "display_data"
    },
    {
     "name": "stdout",
     "output_type": "stream",
     "text": [
      "<class 'pandas.core.frame.DataFrame'>\n",
      "RangeIndex: 1197 entries, 0 to 1196\n",
      "Data columns (total 5 columns):\n",
      " #   Column         Non-Null Count  Dtype  \n",
      "---  ------         --------------  -----  \n",
      " 0   transactionId  1197 non-null   int64  \n",
      " 1   visitorId      1197 non-null   int64  \n",
      " 2   date           1197 non-null   object \n",
      " 3   revenue        1197 non-null   float64\n",
      " 4   group          1197 non-null   object \n",
      "dtypes: float64(1), int64(2), object(2)\n",
      "memory usage: 46.9+ KB\n"
     ]
    }
   ],
   "source": [
    "display(ordenes.head())\n",
    "ordenes.info()"
   ]
  },
  {
   "cell_type": "code",
   "execution_count": 5,
   "metadata": {},
   "outputs": [
    {
     "data": {
      "text/html": [
       "<div>\n",
       "<style scoped>\n",
       "    .dataframe tbody tr th:only-of-type {\n",
       "        vertical-align: middle;\n",
       "    }\n",
       "\n",
       "    .dataframe tbody tr th {\n",
       "        vertical-align: top;\n",
       "    }\n",
       "\n",
       "    .dataframe thead th {\n",
       "        text-align: right;\n",
       "    }\n",
       "</style>\n",
       "<table border=\"1\" class=\"dataframe\">\n",
       "  <thead>\n",
       "    <tr style=\"text-align: right;\">\n",
       "      <th></th>\n",
       "      <th>date</th>\n",
       "      <th>group</th>\n",
       "      <th>visits</th>\n",
       "    </tr>\n",
       "  </thead>\n",
       "  <tbody>\n",
       "    <tr>\n",
       "      <th>0</th>\n",
       "      <td>2019-08-01</td>\n",
       "      <td>A</td>\n",
       "      <td>719</td>\n",
       "    </tr>\n",
       "    <tr>\n",
       "      <th>1</th>\n",
       "      <td>2019-08-02</td>\n",
       "      <td>A</td>\n",
       "      <td>619</td>\n",
       "    </tr>\n",
       "    <tr>\n",
       "      <th>2</th>\n",
       "      <td>2019-08-03</td>\n",
       "      <td>A</td>\n",
       "      <td>507</td>\n",
       "    </tr>\n",
       "    <tr>\n",
       "      <th>3</th>\n",
       "      <td>2019-08-04</td>\n",
       "      <td>A</td>\n",
       "      <td>717</td>\n",
       "    </tr>\n",
       "    <tr>\n",
       "      <th>4</th>\n",
       "      <td>2019-08-05</td>\n",
       "      <td>A</td>\n",
       "      <td>756</td>\n",
       "    </tr>\n",
       "  </tbody>\n",
       "</table>\n",
       "</div>"
      ],
      "text/plain": [
       "         date group  visits\n",
       "0  2019-08-01     A     719\n",
       "1  2019-08-02     A     619\n",
       "2  2019-08-03     A     507\n",
       "3  2019-08-04     A     717\n",
       "4  2019-08-05     A     756"
      ]
     },
     "metadata": {},
     "output_type": "display_data"
    },
    {
     "name": "stdout",
     "output_type": "stream",
     "text": [
      "<class 'pandas.core.frame.DataFrame'>\n",
      "RangeIndex: 62 entries, 0 to 61\n",
      "Data columns (total 3 columns):\n",
      " #   Column  Non-Null Count  Dtype \n",
      "---  ------  --------------  ----- \n",
      " 0   date    62 non-null     object\n",
      " 1   group   62 non-null     object\n",
      " 2   visits  62 non-null     int64 \n",
      "dtypes: int64(1), object(2)\n",
      "memory usage: 1.6+ KB\n"
     ]
    }
   ],
   "source": [
    "display(visitas.head())\n",
    "visitas.info()"
   ]
  },
  {
   "cell_type": "markdown",
   "metadata": {},
   "source": [
    "<div class=\"alert alert-block alert-success\">\n",
    "<b>Comentario del revisor</b> <a class=\"tocSkip\"></a>\n",
    "   \n",
    "Perfecto, muy buen trabajo desarrollando la exploración inicial de los datos.  </div>"
   ]
  },
  {
   "cell_type": "markdown",
   "metadata": {},
   "source": [
    "### Cambio el tipo de datos acorde con la descripción de cada columna"
   ]
  },
  {
   "cell_type": "code",
   "execution_count": 6,
   "metadata": {},
   "outputs": [],
   "source": [
    "# Convertir la columna 'date' al formato de fecha \n",
    "\n",
    "ordenes['date'] = pd.to_datetime(ordenes['date'], format='%Y-%m-%d')\n",
    "visitas['date'] = pd.to_datetime(visitas['date'], format='%Y-%m-%d')"
   ]
  },
  {
   "cell_type": "code",
   "execution_count": 7,
   "metadata": {},
   "outputs": [],
   "source": [
    "# Convertir la columna 'group' al formato de categoria\n",
    "\n",
    "ordenes['group'] = ordenes['group'].astype('category')\n",
    "visitas['group'] = visitas['group'].astype('category')\n",
    " "
   ]
  },
  {
   "cell_type": "code",
   "execution_count": 8,
   "metadata": {},
   "outputs": [],
   "source": [
    "# Convertir la columna 'visitorId' al formato objeto\n",
    "ordenes['visitorId'] = ordenes['visitorId'].astype(object)"
   ]
  },
  {
   "cell_type": "code",
   "execution_count": 9,
   "metadata": {},
   "outputs": [
    {
     "name": "stdout",
     "output_type": "stream",
     "text": [
      "<class 'pandas.core.frame.DataFrame'>\n",
      "RangeIndex: 1197 entries, 0 to 1196\n",
      "Data columns (total 5 columns):\n",
      " #   Column         Non-Null Count  Dtype         \n",
      "---  ------         --------------  -----         \n",
      " 0   transactionId  1197 non-null   int64         \n",
      " 1   visitorId      1197 non-null   object        \n",
      " 2   date           1197 non-null   datetime64[ns]\n",
      " 3   revenue        1197 non-null   float64       \n",
      " 4   group          1197 non-null   category      \n",
      "dtypes: category(1), datetime64[ns](1), float64(1), int64(1), object(1)\n",
      "memory usage: 38.8+ KB\n"
     ]
    }
   ],
   "source": [
    "ordenes.info()"
   ]
  },
  {
   "cell_type": "code",
   "execution_count": 10,
   "metadata": {
    "scrolled": false
   },
   "outputs": [
    {
     "name": "stdout",
     "output_type": "stream",
     "text": [
      "<class 'pandas.core.frame.DataFrame'>\n",
      "RangeIndex: 62 entries, 0 to 61\n",
      "Data columns (total 3 columns):\n",
      " #   Column  Non-Null Count  Dtype         \n",
      "---  ------  --------------  -----         \n",
      " 0   date    62 non-null     datetime64[ns]\n",
      " 1   group   62 non-null     category      \n",
      " 2   visits  62 non-null     int64         \n",
      "dtypes: category(1), datetime64[ns](1), int64(1)\n",
      "memory usage: 1.3 KB\n"
     ]
    }
   ],
   "source": [
    "visitas.info()"
   ]
  },
  {
   "cell_type": "markdown",
   "metadata": {},
   "source": [
    "<div class=\"alert alert-block alert-success\">\n",
    "<b>Comentario del revisor</b> <a class=\"tocSkip\"></a>\n",
    "   \n",
    "Perfecto, buen trabajo realizando modificaciones a los datos.  </div>"
   ]
  },
  {
   "cell_type": "markdown",
   "metadata": {},
   "source": [
    "**Se revisa que un usuario no pertenezca a varios grupos a la vez**"
   ]
  },
  {
   "cell_type": "code",
   "execution_count": 11,
   "metadata": {
    "scrolled": true
   },
   "outputs": [
    {
     "data": {
      "text/html": [
       "<div>\n",
       "<style scoped>\n",
       "    .dataframe tbody tr th:only-of-type {\n",
       "        vertical-align: middle;\n",
       "    }\n",
       "\n",
       "    .dataframe tbody tr th {\n",
       "        vertical-align: top;\n",
       "    }\n",
       "\n",
       "    .dataframe thead th {\n",
       "        text-align: right;\n",
       "    }\n",
       "</style>\n",
       "<table border=\"1\" class=\"dataframe\">\n",
       "  <thead>\n",
       "    <tr style=\"text-align: right;\">\n",
       "      <th></th>\n",
       "      <th>visitorId</th>\n",
       "      <th>group</th>\n",
       "    </tr>\n",
       "  </thead>\n",
       "  <tbody>\n",
       "    <tr>\n",
       "      <th>2</th>\n",
       "      <td>8300375</td>\n",
       "      <td>2</td>\n",
       "    </tr>\n",
       "    <tr>\n",
       "      <th>44</th>\n",
       "      <td>199603092</td>\n",
       "      <td>2</td>\n",
       "    </tr>\n",
       "    <tr>\n",
       "      <th>51</th>\n",
       "      <td>232979603</td>\n",
       "      <td>2</td>\n",
       "    </tr>\n",
       "    <tr>\n",
       "      <th>55</th>\n",
       "      <td>237748145</td>\n",
       "      <td>2</td>\n",
       "    </tr>\n",
       "    <tr>\n",
       "      <th>66</th>\n",
       "      <td>276558944</td>\n",
       "      <td>2</td>\n",
       "    </tr>\n",
       "  </tbody>\n",
       "</table>\n",
       "</div>"
      ],
      "text/plain": [
       "    visitorId  group\n",
       "2     8300375      2\n",
       "44  199603092      2\n",
       "51  232979603      2\n",
       "55  237748145      2\n",
       "66  276558944      2"
      ]
     },
     "metadata": {},
     "output_type": "display_data"
    },
    {
     "name": "stdout",
     "output_type": "stream",
     "text": [
      "<class 'pandas.core.frame.DataFrame'>\n",
      "Int64Index: 58 entries, 2 to 1026\n",
      "Data columns (total 2 columns):\n",
      " #   Column     Non-Null Count  Dtype\n",
      "---  ------     --------------  -----\n",
      " 0   visitorId  58 non-null     int64\n",
      " 1   group      58 non-null     int64\n",
      "dtypes: int64(2)\n",
      "memory usage: 1.4 KB\n"
     ]
    }
   ],
   "source": [
    "# Agrupar los datos por visitorId y group, y contar la cantidad de grupos únicos\n",
    "recuentos_grupo = ordenes.groupby('visitorId')['group'].nunique().reset_index()\n",
    "\n",
    "# Filtrar los usuarios que pertenecen a más de un grupo\n",
    "usuarios_varios_grupos = recuentos_grupo[recuentos_grupo['group'] > 1]\n",
    "\n",
    "display(usuarios_varios_grupos.head())\n",
    "usuarios_varios_grupos.info()"
   ]
  },
  {
   "cell_type": "code",
   "execution_count": 12,
   "metadata": {},
   "outputs": [
    {
     "data": {
      "text/html": [
       "<div>\n",
       "<style scoped>\n",
       "    .dataframe tbody tr th:only-of-type {\n",
       "        vertical-align: middle;\n",
       "    }\n",
       "\n",
       "    .dataframe tbody tr th {\n",
       "        vertical-align: top;\n",
       "    }\n",
       "\n",
       "    .dataframe thead th {\n",
       "        text-align: right;\n",
       "    }\n",
       "</style>\n",
       "<table border=\"1\" class=\"dataframe\">\n",
       "  <thead>\n",
       "    <tr style=\"text-align: right;\">\n",
       "      <th></th>\n",
       "      <th>transactionId</th>\n",
       "      <th>visitorId</th>\n",
       "      <th>date</th>\n",
       "      <th>revenue</th>\n",
       "      <th>group</th>\n",
       "    </tr>\n",
       "  </thead>\n",
       "  <tbody>\n",
       "    <tr>\n",
       "      <th>71</th>\n",
       "      <td>3679129301</td>\n",
       "      <td>8300375</td>\n",
       "      <td>2019-08-01</td>\n",
       "      <td>165.7</td>\n",
       "      <td>B</td>\n",
       "    </tr>\n",
       "    <tr>\n",
       "      <th>703</th>\n",
       "      <td>4293855558</td>\n",
       "      <td>8300375</td>\n",
       "      <td>2019-08-07</td>\n",
       "      <td>30.5</td>\n",
       "      <td>A</td>\n",
       "    </tr>\n",
       "  </tbody>\n",
       "</table>\n",
       "</div>"
      ],
      "text/plain": [
       "     transactionId visitorId       date  revenue group\n",
       "71      3679129301   8300375 2019-08-01    165.7     B\n",
       "703     4293855558   8300375 2019-08-07     30.5     A"
      ]
     },
     "metadata": {},
     "output_type": "display_data"
    }
   ],
   "source": [
    "usuario8300375 =  ordenes[ordenes['visitorId'] == 8300375]\n",
    "\n",
    "display(usuario8300375)"
   ]
  },
  {
   "cell_type": "markdown",
   "metadata": {},
   "source": [
    "### Eliminar los usuarios que pertenecen a dos grupos"
   ]
  },
  {
   "cell_type": "code",
   "execution_count": 13,
   "metadata": {},
   "outputs": [
    {
     "data": {
      "text/html": [
       "<div>\n",
       "<style scoped>\n",
       "    .dataframe tbody tr th:only-of-type {\n",
       "        vertical-align: middle;\n",
       "    }\n",
       "\n",
       "    .dataframe tbody tr th {\n",
       "        vertical-align: top;\n",
       "    }\n",
       "\n",
       "    .dataframe thead th {\n",
       "        text-align: right;\n",
       "    }\n",
       "</style>\n",
       "<table border=\"1\" class=\"dataframe\">\n",
       "  <thead>\n",
       "    <tr style=\"text-align: right;\">\n",
       "      <th></th>\n",
       "      <th>transactionId</th>\n",
       "      <th>visitorId</th>\n",
       "      <th>date</th>\n",
       "      <th>revenue</th>\n",
       "      <th>group</th>\n",
       "    </tr>\n",
       "  </thead>\n",
       "  <tbody>\n",
       "    <tr>\n",
       "      <th>0</th>\n",
       "      <td>3667963787</td>\n",
       "      <td>3312258926</td>\n",
       "      <td>2019-08-15</td>\n",
       "      <td>30.4</td>\n",
       "      <td>B</td>\n",
       "    </tr>\n",
       "    <tr>\n",
       "      <th>1</th>\n",
       "      <td>2804400009</td>\n",
       "      <td>3642806036</td>\n",
       "      <td>2019-08-15</td>\n",
       "      <td>15.2</td>\n",
       "      <td>B</td>\n",
       "    </tr>\n",
       "    <tr>\n",
       "      <th>3</th>\n",
       "      <td>3797467345</td>\n",
       "      <td>1196621759</td>\n",
       "      <td>2019-08-15</td>\n",
       "      <td>155.1</td>\n",
       "      <td>B</td>\n",
       "    </tr>\n",
       "    <tr>\n",
       "      <th>4</th>\n",
       "      <td>2282983706</td>\n",
       "      <td>2322279887</td>\n",
       "      <td>2019-08-15</td>\n",
       "      <td>40.5</td>\n",
       "      <td>B</td>\n",
       "    </tr>\n",
       "    <tr>\n",
       "      <th>5</th>\n",
       "      <td>182168103</td>\n",
       "      <td>935554773</td>\n",
       "      <td>2019-08-15</td>\n",
       "      <td>35.0</td>\n",
       "      <td>B</td>\n",
       "    </tr>\n",
       "    <tr>\n",
       "      <th>...</th>\n",
       "      <td>...</td>\n",
       "      <td>...</td>\n",
       "      <td>...</td>\n",
       "      <td>...</td>\n",
       "      <td>...</td>\n",
       "    </tr>\n",
       "    <tr>\n",
       "      <th>1191</th>\n",
       "      <td>3592955527</td>\n",
       "      <td>608641596</td>\n",
       "      <td>2019-08-14</td>\n",
       "      <td>255.7</td>\n",
       "      <td>B</td>\n",
       "    </tr>\n",
       "    <tr>\n",
       "      <th>1192</th>\n",
       "      <td>2662137336</td>\n",
       "      <td>3733762160</td>\n",
       "      <td>2019-08-14</td>\n",
       "      <td>100.8</td>\n",
       "      <td>B</td>\n",
       "    </tr>\n",
       "    <tr>\n",
       "      <th>1193</th>\n",
       "      <td>2203539145</td>\n",
       "      <td>370388673</td>\n",
       "      <td>2019-08-14</td>\n",
       "      <td>50.1</td>\n",
       "      <td>A</td>\n",
       "    </tr>\n",
       "    <tr>\n",
       "      <th>1194</th>\n",
       "      <td>1807773912</td>\n",
       "      <td>573423106</td>\n",
       "      <td>2019-08-14</td>\n",
       "      <td>165.3</td>\n",
       "      <td>A</td>\n",
       "    </tr>\n",
       "    <tr>\n",
       "      <th>1196</th>\n",
       "      <td>3936777065</td>\n",
       "      <td>2108080724</td>\n",
       "      <td>2019-08-15</td>\n",
       "      <td>3120.1</td>\n",
       "      <td>B</td>\n",
       "    </tr>\n",
       "  </tbody>\n",
       "</table>\n",
       "<p>1016 rows × 5 columns</p>\n",
       "</div>"
      ],
      "text/plain": [
       "      transactionId   visitorId       date  revenue group\n",
       "0        3667963787  3312258926 2019-08-15     30.4     B\n",
       "1        2804400009  3642806036 2019-08-15     15.2     B\n",
       "3        3797467345  1196621759 2019-08-15    155.1     B\n",
       "4        2282983706  2322279887 2019-08-15     40.5     B\n",
       "5         182168103   935554773 2019-08-15     35.0     B\n",
       "...             ...         ...        ...      ...   ...\n",
       "1191     3592955527   608641596 2019-08-14    255.7     B\n",
       "1192     2662137336  3733762160 2019-08-14    100.8     B\n",
       "1193     2203539145   370388673 2019-08-14     50.1     A\n",
       "1194     1807773912   573423106 2019-08-14    165.3     A\n",
       "1196     3936777065  2108080724 2019-08-15   3120.1     B\n",
       "\n",
       "[1016 rows x 5 columns]"
      ]
     },
     "metadata": {},
     "output_type": "display_data"
    },
    {
     "name": "stdout",
     "output_type": "stream",
     "text": [
      "<class 'pandas.core.frame.DataFrame'>\n",
      "Int64Index: 1016 entries, 0 to 1196\n",
      "Data columns (total 5 columns):\n",
      " #   Column         Non-Null Count  Dtype         \n",
      "---  ------         --------------  -----         \n",
      " 0   transactionId  1016 non-null   int64         \n",
      " 1   visitorId      1016 non-null   object        \n",
      " 2   date           1016 non-null   datetime64[ns]\n",
      " 3   revenue        1016 non-null   float64       \n",
      " 4   group          1016 non-null   category      \n",
      "dtypes: category(1), datetime64[ns](1), float64(1), int64(1), object(1)\n",
      "memory usage: 40.8+ KB\n"
     ]
    }
   ],
   "source": [
    "#crear un nuevo DataFrame que contiene solo las filas de \"ordenes\" cuyos \"visitorId\" estén presentes en \"usuarios_varios_grupos\".\n",
    "ordenes_filtradas = ordenes.merge(usuarios_varios_grupos, on='visitorId', how='left', indicator=True)\n",
    "\n",
    "ordenes_filtradas = ordenes_filtradas[ordenes_filtradas['_merge'] == 'left_only']\n",
    "\n",
    "ordenes_filtradas = ordenes_filtradas.drop(['_merge', 'group_y'], axis=1)\n",
    "\n",
    "ordenes_filtradas = ordenes_filtradas.rename(columns={\"group_x\" : \"group\"})\n",
    "\n",
    "display(ordenes_filtradas)\n",
    "ordenes_filtradas.info()"
   ]
  },
  {
   "cell_type": "code",
   "execution_count": 14,
   "metadata": {},
   "outputs": [
    {
     "data": {
      "text/plain": [
       "1"
      ]
     },
     "metadata": {},
     "output_type": "display_data"
    }
   ],
   "source": [
    "# rectificar que se eliminaron los usuarios en dos grupos \n",
    "recuentos_grupo_1 = ordenes_filtradas.groupby('visitorId')['group'].nunique().reset_index()\n",
    "\n",
    "display(recuentos_grupo_1['group'].max())\n"
   ]
  },
  {
   "cell_type": "markdown",
   "metadata": {},
   "source": [
    "<div class=\"alert alert-block alert-success\">\n",
    "<b>Comentario del revisor</b> <a class=\"tocSkip\"></a>\n",
    "   \n",
    "Muy buen trabajo, Juan. Esta sección de identificación y eliminación de los individuos que estaban en los dos grupos es clave para el desarrollo del proyecto.  </div>"
   ]
  },
  {
   "cell_type": "markdown",
   "metadata": {},
   "source": [
    "### Resumen preparación de los datos\n",
    "\n",
    "Se revisan nuevamente las bases de datos obtenidas y se hacen las correcciones necesarias para trabajar con ellas en Python, por ejemplo se corrige el tipo de datos de algunas columnas, al no encontrar ningún valor nulo no es necesario hacer modificaciones a ninguna de las bases de datos, pero se encuentra que 58 usuarios pertenecen a los dos grupos, se procede a eliminar estos usuarios de la base de datos."
   ]
  },
  {
   "cell_type": "markdown",
   "metadata": {},
   "source": [
    "<div class=\"alert alert-block alert-success\">\n",
    "<b>Comentario del revisor</b> <a class=\"tocSkip\"></a>\n",
    "   \n",
    "Muy buen trabajo con la sección de preparación de los datos, perfecto Juan. </div>"
   ]
  },
  {
   "cell_type": "markdown",
   "metadata": {},
   "source": [
    "## Analisis de los datos"
   ]
  },
  {
   "cell_type": "markdown",
   "metadata": {},
   "source": [
    "### Priorizar hipótesis"
   ]
  },
  {
   "cell_type": "markdown",
   "metadata": {},
   "source": [
    "#### Aplicar el framework ICE para priorizar hipótesis"
   ]
  },
  {
   "cell_type": "code",
   "execution_count": 15,
   "metadata": {},
   "outputs": [
    {
     "name": "stdout",
     "output_type": "stream",
     "text": [
      "<class 'pandas.core.frame.DataFrame'>\n",
      "RangeIndex: 9 entries, 0 to 8\n",
      "Data columns (total 5 columns):\n",
      " #   Column      Non-Null Count  Dtype \n",
      "---  ------      --------------  ----- \n",
      " 0   Hypothesis  9 non-null      object\n",
      " 1   Reach       9 non-null      int64 \n",
      " 2   Impact      9 non-null      int64 \n",
      " 3   Confidence  9 non-null      int64 \n",
      " 4   Effort      9 non-null      int64 \n",
      "dtypes: int64(4), object(1)\n",
      "memory usage: 488.0+ bytes\n"
     ]
    }
   ],
   "source": [
    "hipotesis.info()"
   ]
  },
  {
   "cell_type": "code",
   "execution_count": 16,
   "metadata": {
    "scrolled": true
   },
   "outputs": [
    {
     "data": {
      "text/html": [
       "<div>\n",
       "<style scoped>\n",
       "    .dataframe tbody tr th:only-of-type {\n",
       "        vertical-align: middle;\n",
       "    }\n",
       "\n",
       "    .dataframe tbody tr th {\n",
       "        vertical-align: top;\n",
       "    }\n",
       "\n",
       "    .dataframe thead th {\n",
       "        text-align: right;\n",
       "    }\n",
       "</style>\n",
       "<table border=\"1\" class=\"dataframe\">\n",
       "  <thead>\n",
       "    <tr style=\"text-align: right;\">\n",
       "      <th></th>\n",
       "      <th>Hypothesis</th>\n",
       "      <th>ICE</th>\n",
       "    </tr>\n",
       "  </thead>\n",
       "  <tbody>\n",
       "    <tr>\n",
       "      <th>8</th>\n",
       "      <td>Launch a promotion that gives users discounts ...</td>\n",
       "      <td>16.200000</td>\n",
       "    </tr>\n",
       "    <tr>\n",
       "      <th>0</th>\n",
       "      <td>Add two new channels for attracting traffic. T...</td>\n",
       "      <td>13.333333</td>\n",
       "    </tr>\n",
       "    <tr>\n",
       "      <th>7</th>\n",
       "      <td>Add a subscription form to all the main pages....</td>\n",
       "      <td>11.200000</td>\n",
       "    </tr>\n",
       "    <tr>\n",
       "      <th>6</th>\n",
       "      <td>Show banners with current offers and sales on ...</td>\n",
       "      <td>8.000000</td>\n",
       "    </tr>\n",
       "    <tr>\n",
       "      <th>2</th>\n",
       "      <td>Add product recommendation blocks to the store...</td>\n",
       "      <td>7.000000</td>\n",
       "    </tr>\n",
       "    <tr>\n",
       "      <th>1</th>\n",
       "      <td>Launch your own delivery service. This will sh...</td>\n",
       "      <td>2.000000</td>\n",
       "    </tr>\n",
       "    <tr>\n",
       "      <th>5</th>\n",
       "      <td>Add a customer review page. This will increase...</td>\n",
       "      <td>1.333333</td>\n",
       "    </tr>\n",
       "    <tr>\n",
       "      <th>3</th>\n",
       "      <td>Change the category structure. This will incre...</td>\n",
       "      <td>1.125000</td>\n",
       "    </tr>\n",
       "    <tr>\n",
       "      <th>4</th>\n",
       "      <td>Change the background color on the main page. ...</td>\n",
       "      <td>1.000000</td>\n",
       "    </tr>\n",
       "  </tbody>\n",
       "</table>\n",
       "</div>"
      ],
      "text/plain": [
       "                                          Hypothesis        ICE\n",
       "8  Launch a promotion that gives users discounts ...  16.200000\n",
       "0  Add two new channels for attracting traffic. T...  13.333333\n",
       "7  Add a subscription form to all the main pages....  11.200000\n",
       "6  Show banners with current offers and sales on ...   8.000000\n",
       "2  Add product recommendation blocks to the store...   7.000000\n",
       "1  Launch your own delivery service. This will sh...   2.000000\n",
       "5  Add a customer review page. This will increase...   1.333333\n",
       "3  Change the category structure. This will incre...   1.125000\n",
       "4  Change the background color on the main page. ...   1.000000"
      ]
     },
     "metadata": {},
     "output_type": "display_data"
    }
   ],
   "source": [
    "# Calcular ICE\n",
    "hipotesis['ICE'] = (hipotesis['Confidence'] * hipotesis['Impact']) / hipotesis['Effort']\n",
    "\n",
    "display(hipotesis[['Hypothesis', 'ICE']].sort_values(by='ICE', ascending=False))"
   ]
  },
  {
   "cell_type": "markdown",
   "metadata": {},
   "source": [
    "#### Aplicar el framework RICE para priorizar hipótesis"
   ]
  },
  {
   "cell_type": "code",
   "execution_count": 17,
   "metadata": {},
   "outputs": [
    {
     "data": {
      "text/html": [
       "<div>\n",
       "<style scoped>\n",
       "    .dataframe tbody tr th:only-of-type {\n",
       "        vertical-align: middle;\n",
       "    }\n",
       "\n",
       "    .dataframe tbody tr th {\n",
       "        vertical-align: top;\n",
       "    }\n",
       "\n",
       "    .dataframe thead th {\n",
       "        text-align: right;\n",
       "    }\n",
       "</style>\n",
       "<table border=\"1\" class=\"dataframe\">\n",
       "  <thead>\n",
       "    <tr style=\"text-align: right;\">\n",
       "      <th></th>\n",
       "      <th>Hypothesis</th>\n",
       "      <th>RICE</th>\n",
       "    </tr>\n",
       "  </thead>\n",
       "  <tbody>\n",
       "    <tr>\n",
       "      <th>7</th>\n",
       "      <td>Add a subscription form to all the main pages....</td>\n",
       "      <td>112.0</td>\n",
       "    </tr>\n",
       "    <tr>\n",
       "      <th>2</th>\n",
       "      <td>Add product recommendation blocks to the store...</td>\n",
       "      <td>56.0</td>\n",
       "    </tr>\n",
       "    <tr>\n",
       "      <th>0</th>\n",
       "      <td>Add two new channels for attracting traffic. T...</td>\n",
       "      <td>40.0</td>\n",
       "    </tr>\n",
       "    <tr>\n",
       "      <th>6</th>\n",
       "      <td>Show banners with current offers and sales on ...</td>\n",
       "      <td>40.0</td>\n",
       "    </tr>\n",
       "    <tr>\n",
       "      <th>8</th>\n",
       "      <td>Launch a promotion that gives users discounts ...</td>\n",
       "      <td>16.2</td>\n",
       "    </tr>\n",
       "    <tr>\n",
       "      <th>3</th>\n",
       "      <td>Change the category structure. This will incre...</td>\n",
       "      <td>9.0</td>\n",
       "    </tr>\n",
       "    <tr>\n",
       "      <th>1</th>\n",
       "      <td>Launch your own delivery service. This will sh...</td>\n",
       "      <td>4.0</td>\n",
       "    </tr>\n",
       "    <tr>\n",
       "      <th>5</th>\n",
       "      <td>Add a customer review page. This will increase...</td>\n",
       "      <td>4.0</td>\n",
       "    </tr>\n",
       "    <tr>\n",
       "      <th>4</th>\n",
       "      <td>Change the background color on the main page. ...</td>\n",
       "      <td>3.0</td>\n",
       "    </tr>\n",
       "  </tbody>\n",
       "</table>\n",
       "</div>"
      ],
      "text/plain": [
       "                                          Hypothesis   RICE\n",
       "7  Add a subscription form to all the main pages....  112.0\n",
       "2  Add product recommendation blocks to the store...   56.0\n",
       "0  Add two new channels for attracting traffic. T...   40.0\n",
       "6  Show banners with current offers and sales on ...   40.0\n",
       "8  Launch a promotion that gives users discounts ...   16.2\n",
       "3  Change the category structure. This will incre...    9.0\n",
       "1  Launch your own delivery service. This will sh...    4.0\n",
       "5  Add a customer review page. This will increase...    4.0\n",
       "4  Change the background color on the main page. ...    3.0"
      ]
     },
     "metadata": {},
     "output_type": "display_data"
    }
   ],
   "source": [
    "# Calcular RICE\n",
    "hipotesis['RICE'] = (hipotesis['Reach'] * hipotesis['Impact'] * hipotesis['Confidence']) / hipotesis['Effort']\n",
    "\n",
    "display(hipotesis[['Hypothesis', 'RICE']].sort_values(by='RICE', ascending=False ))"
   ]
  },
  {
   "cell_type": "code",
   "execution_count": 18,
   "metadata": {
    "scrolled": false
   },
   "outputs": [
    {
     "data": {
      "text/html": [
       "<div>\n",
       "<style scoped>\n",
       "    .dataframe tbody tr th:only-of-type {\n",
       "        vertical-align: middle;\n",
       "    }\n",
       "\n",
       "    .dataframe tbody tr th {\n",
       "        vertical-align: top;\n",
       "    }\n",
       "\n",
       "    .dataframe thead th {\n",
       "        text-align: right;\n",
       "    }\n",
       "</style>\n",
       "<table border=\"1\" class=\"dataframe\">\n",
       "  <thead>\n",
       "    <tr style=\"text-align: right;\">\n",
       "      <th></th>\n",
       "      <th>Hypothesis</th>\n",
       "      <th>Reach</th>\n",
       "      <th>Impact</th>\n",
       "      <th>Confidence</th>\n",
       "      <th>Effort</th>\n",
       "      <th>ICE</th>\n",
       "      <th>RICE</th>\n",
       "    </tr>\n",
       "  </thead>\n",
       "  <tbody>\n",
       "    <tr>\n",
       "      <th>0</th>\n",
       "      <td>Add two new channels for attracting traffic. T...</td>\n",
       "      <td>3</td>\n",
       "      <td>10</td>\n",
       "      <td>8</td>\n",
       "      <td>6</td>\n",
       "      <td>13.333333</td>\n",
       "      <td>40.0</td>\n",
       "    </tr>\n",
       "    <tr>\n",
       "      <th>1</th>\n",
       "      <td>Launch your own delivery service. This will sh...</td>\n",
       "      <td>2</td>\n",
       "      <td>5</td>\n",
       "      <td>4</td>\n",
       "      <td>10</td>\n",
       "      <td>2.000000</td>\n",
       "      <td>4.0</td>\n",
       "    </tr>\n",
       "    <tr>\n",
       "      <th>2</th>\n",
       "      <td>Add product recommendation blocks to the store...</td>\n",
       "      <td>8</td>\n",
       "      <td>3</td>\n",
       "      <td>7</td>\n",
       "      <td>3</td>\n",
       "      <td>7.000000</td>\n",
       "      <td>56.0</td>\n",
       "    </tr>\n",
       "    <tr>\n",
       "      <th>3</th>\n",
       "      <td>Change the category structure. This will incre...</td>\n",
       "      <td>8</td>\n",
       "      <td>3</td>\n",
       "      <td>3</td>\n",
       "      <td>8</td>\n",
       "      <td>1.125000</td>\n",
       "      <td>9.0</td>\n",
       "    </tr>\n",
       "    <tr>\n",
       "      <th>4</th>\n",
       "      <td>Change the background color on the main page. ...</td>\n",
       "      <td>3</td>\n",
       "      <td>1</td>\n",
       "      <td>1</td>\n",
       "      <td>1</td>\n",
       "      <td>1.000000</td>\n",
       "      <td>3.0</td>\n",
       "    </tr>\n",
       "    <tr>\n",
       "      <th>5</th>\n",
       "      <td>Add a customer review page. This will increase...</td>\n",
       "      <td>3</td>\n",
       "      <td>2</td>\n",
       "      <td>2</td>\n",
       "      <td>3</td>\n",
       "      <td>1.333333</td>\n",
       "      <td>4.0</td>\n",
       "    </tr>\n",
       "    <tr>\n",
       "      <th>6</th>\n",
       "      <td>Show banners with current offers and sales on ...</td>\n",
       "      <td>5</td>\n",
       "      <td>3</td>\n",
       "      <td>8</td>\n",
       "      <td>3</td>\n",
       "      <td>8.000000</td>\n",
       "      <td>40.0</td>\n",
       "    </tr>\n",
       "    <tr>\n",
       "      <th>7</th>\n",
       "      <td>Add a subscription form to all the main pages....</td>\n",
       "      <td>10</td>\n",
       "      <td>7</td>\n",
       "      <td>8</td>\n",
       "      <td>5</td>\n",
       "      <td>11.200000</td>\n",
       "      <td>112.0</td>\n",
       "    </tr>\n",
       "    <tr>\n",
       "      <th>8</th>\n",
       "      <td>Launch a promotion that gives users discounts ...</td>\n",
       "      <td>1</td>\n",
       "      <td>9</td>\n",
       "      <td>9</td>\n",
       "      <td>5</td>\n",
       "      <td>16.200000</td>\n",
       "      <td>16.2</td>\n",
       "    </tr>\n",
       "  </tbody>\n",
       "</table>\n",
       "</div>"
      ],
      "text/plain": [
       "                                          Hypothesis  Reach  Impact  \\\n",
       "0  Add two new channels for attracting traffic. T...      3      10   \n",
       "1  Launch your own delivery service. This will sh...      2       5   \n",
       "2  Add product recommendation blocks to the store...      8       3   \n",
       "3  Change the category structure. This will incre...      8       3   \n",
       "4  Change the background color on the main page. ...      3       1   \n",
       "5  Add a customer review page. This will increase...      3       2   \n",
       "6  Show banners with current offers and sales on ...      5       3   \n",
       "7  Add a subscription form to all the main pages....     10       7   \n",
       "8  Launch a promotion that gives users discounts ...      1       9   \n",
       "\n",
       "   Confidence  Effort        ICE   RICE  \n",
       "0           8       6  13.333333   40.0  \n",
       "1           4      10   2.000000    4.0  \n",
       "2           7       3   7.000000   56.0  \n",
       "3           3       8   1.125000    9.0  \n",
       "4           1       1   1.000000    3.0  \n",
       "5           2       3   1.333333    4.0  \n",
       "6           8       3   8.000000   40.0  \n",
       "7           8       5  11.200000  112.0  \n",
       "8           9       5  16.200000   16.2  "
      ]
     },
     "metadata": {},
     "output_type": "display_data"
    }
   ],
   "source": [
    "display(hipotesis)"
   ]
  },
  {
   "cell_type": "markdown",
   "metadata": {},
   "source": [
    "<div class=\"alert alert-block alert-success\">\n",
    "<b>Comentario del revisor</b> <a class=\"tocSkip\"></a>\n",
    "   \n",
    "Muy buen trabajo manejando los datos y aplicando la lógica de los f\n",
    "Frameworks ``ICE`` y ``RICE``, esplendido trabajo en la sección.  </div>"
   ]
  },
  {
   "cell_type": "markdown",
   "metadata": {},
   "source": [
    "#### Cambio de la priorización de las hipótesis "
   ]
  },
  {
   "cell_type": "code",
   "execution_count": 19,
   "metadata": {},
   "outputs": [],
   "source": [
    "# Ordenar el DataFrame por la columna 'ICE' de mayor a menor\n",
    "hipotesis_ordenado_ICE = hipotesis.sort_values(by='ICE', ascending=False)\n",
    "\n",
    "# Ordenar el DataFrame por la columna 'RICE' de mayor a menor\n",
    "hipotesis_ordenado_RICE = hipotesis.sort_values(by='RICE', ascending=False)"
   ]
  },
  {
   "cell_type": "code",
   "execution_count": 20,
   "metadata": {
    "scrolled": false
   },
   "outputs": [
    {
     "data": {
      "image/png": "[encoded data removed]",
      "text/plain": [
       "<Figure size 720x432 with 1 Axes>"
      ]
     },
     "metadata": {
      "needs_background": "light"
     },
     "output_type": "display_data"
    },
    {
     "data": {
      "image/png": "[encoded data removed]",
      "text/plain": [
       "<Figure size 720x432 with 1 Axes>"
      ]
     },
     "metadata": {
      "needs_background": "light"
     },
     "output_type": "display_data"
    }
   ],
   "source": [
    "# Graficar el orden de las hipótesis basado en ICE\n",
    "plt.figure(figsize=(10, 6))\n",
    "plt.barh(hipotesis_ordenado_ICE['Hypothesis'], hipotesis_ordenado_ICE['ICE'])\n",
    "plt.xlabel('Priorización ICE')\n",
    "plt.ylabel('Hipótesis')\n",
    "plt.title('Priorización ICE de las hipótesis')\n",
    "plt.show()\n",
    "\n",
    "# Graficar el orden de las hipótesis basado en RICE\n",
    "plt.figure(figsize=(10, 6))\n",
    "plt.barh(hipotesis_ordenado_RICE['Hypothesis'], hipotesis_ordenado_RICE['RICE'])\n",
    "plt.xlabel('Priorización RICE')\n",
    "plt.ylabel('Hipótesis')\n",
    "plt.title('Priorización RICE de las hipótesis')\n",
    "plt.show()"
   ]
  },
  {
   "cell_type": "markdown",
   "metadata": {},
   "source": [
    "A partir de la clasificación ICE y RICE las hipótesis planteadas toman diferentes relevancias, ejemplo de esto:\n",
    "La hipótesis de Lanzar una promoción que ofrezca descuentos a los usuarios es la primera en prioridad partiendo de la clasificación ICE con un puntaje del 16.2, seguida por: Agregue dos nuevos canales para atraer tráfico con 13.3 y Añade un formulario de suscripción a todas las páginas principales con 11.2.\n",
    "\n",
    "A diferencia con el sistema RICE la hipótesis: Añade un formulario de suscripción a todas las páginas principales. Queda en primer lugar con un puntaje de 112 seguida de, \n",
    "Agregar bloques de recomendación de productos a la tienda con 56 puntos, las hipótesis Agregue dos nuevos canales para atraer tráfico y Mostrar banners con ofertas y ventas actuales en la página principal están empatados en el tercer lugar con 40 puntos.\n",
    "\n",
    "Las diferencias en la priorización se deben a:\n",
    "\n",
    "ICE: No considera el alcance de las hipótesis.\n",
    "\n",
    "RICE: Pone mayor énfasis en el alcance y la confianza que en el impacto y el esfuerzo."
   ]
  },
  {
   "cell_type": "markdown",
   "metadata": {},
   "source": [
    "<div class=\"alert alert-block alert-success\">\n",
    "<b>Comentario del revisor</b> <a class=\"tocSkip\"></a>\n",
    "   \n",
    "Muy buen trabajo con esta sección de análisis adicional de los resultados de los Frameworks ``ICE`` y ``RICE``.  </div>"
   ]
  },
  {
   "cell_type": "markdown",
   "metadata": {},
   "source": [
    "### Análisis de test A/B"
   ]
  },
  {
   "cell_type": "markdown",
   "metadata": {},
   "source": [
    "#### Ingreso acumulado por grupo"
   ]
  },
  {
   "cell_type": "code",
   "execution_count": 21,
   "metadata": {},
   "outputs": [
    {
     "data": {
      "image/png": "[encoded data removed]",
      "text/plain": [
       "<Figure size 720x432 with 1 Axes>"
      ]
     },
     "metadata": {
      "needs_background": "light"
     },
     "output_type": "display_data"
    }
   ],
   "source": [
    "# Ordenar el DataFrame por fecha\n",
    "ordenes_filtradas = ordenes_filtradas.sort_values(by='date')\n",
    "\n",
    "# Calcular el ingreso acumulado por grupo\n",
    "ingreso_acumulado = ordenes_filtradas.groupby('group')['revenue'].cumsum()\n",
    "\n",
    "# Agregar la columna de ingreso acumulado al DataFrame\n",
    "ordenes_filtradas['ingreso_acumulado'] = ingreso_acumulado\n",
    "\n",
    "# Graficar el ingreso acumulado por grupo\n",
    "plt.figure(figsize=(10, 6))\n",
    "for group, data in ordenes_filtradas.groupby('group'):\n",
    "    plt.plot(data['date'], data['ingreso_acumulado'], label=group)\n",
    "plt.xlabel('Fecha')\n",
    "plt.ylabel('Ingreso acumulado')\n",
    "plt.title('Ingreso acumulado por grupo')\n",
    "plt.legend()\n",
    "plt.show()"
   ]
  },
  {
   "cell_type": "markdown",
   "metadata": {},
   "source": [
    "Los ingresos acumulados de los dos grupos tienen un crecimiento paralelo entre los dos y solo se nota diferencia en un día donde en el grupo B se ve un crecimiento inusual, es posible que este día se haya realizado una compra atípica por parte de un usuario perteneciente al grupo B, pero luego de esto los ingresos siguen creciendo de igual manera."
   ]
  },
  {
   "cell_type": "markdown",
   "metadata": {},
   "source": [
    "<div class=\"alert alert-block alert-success\">\n",
    "<b>Comentario del revisor</b> <a class=\"tocSkip\"></a>\n",
    "   \n",
    "Buen trabajo con el desarrollo de las tablas y gráficos usados para la construcción del esquema que muestra los ingresos acumulados por grupo a lo largo del tiempo.  </div>"
   ]
  },
  {
   "cell_type": "markdown",
   "metadata": {},
   "source": [
    "#### Tamaño de pedido promedio acumulado por grupo"
   ]
  },
  {
   "cell_type": "code",
   "execution_count": 22,
   "metadata": {},
   "outputs": [
    {
     "data": {
      "image/png": "[encoded data removed]",
      "text/plain": [
       "<Figure size 720x432 with 1 Axes>"
      ]
     },
     "metadata": {
      "needs_background": "light"
     },
     "output_type": "display_data"
    }
   ],
   "source": [
    "# Calcular el tamaño promedio de pedido acumulado por grupo\n",
    "tamaño_promedio_acumulado = ordenes_filtradas.groupby('group')['revenue'].expanding().mean().reset_index(level=0, drop=True)\n",
    "\n",
    "# Agregar la columna del tamaño promedio de pedido acumulado al DataFrame\n",
    "ordenes_filtradas['tamaño_promedio_acumulado'] = tamaño_promedio_acumulado\n",
    "\n",
    "# Graficar el tamaño promedio de pedido acumulado por grupo\n",
    "plt.figure(figsize=(10, 6))\n",
    "for group, data in ordenes_filtradas.groupby('group'):\n",
    "    plt.plot(data['date'], data['tamaño_promedio_acumulado'], label=group)\n",
    "plt.xlabel('Fecha')\n",
    "plt.ylabel('Tamaño promedio acumulado del pedido')\n",
    "plt.title('Tamaño promedio acumulado del pedido por grupo')\n",
    "plt.legend()\n",
    "plt.show()"
   ]
  },
  {
   "cell_type": "markdown",
   "metadata": {},
   "source": [
    "Tamaño de pedido promedio acumulado por grupo se comportan de manera similar, con algunas acepciones de donde se notan valores atípicos, pero luego de esto los pedidos vuelven a la normalidad."
   ]
  },
  {
   "cell_type": "markdown",
   "metadata": {},
   "source": [
    "<div class=\"alert alert-block alert-success\">\n",
    "<b>Comentario del revisor</b> <a class=\"tocSkip\"></a>\n",
    "   \n",
    "Perfecto Juan, buen trabajo con el desarrollo de la gráfica usada para la construcción del esquema que muestra el tamaño promedio acumulado por grupo a lo largo del tiempo.  </div>"
   ]
  },
  {
   "cell_type": "markdown",
   "metadata": {},
   "source": [
    "#### Tasa de conversión de cada grupo "
   ]
  },
  {
   "cell_type": "code",
   "execution_count": 23,
   "metadata": {},
   "outputs": [],
   "source": [
    "# Agrupar los pedidos y visitas por grupo y fecha, y calcular la cantidad de pedidos y visitas para cada grupo en cada día\n",
    "pedidos_por_grupo_fecha = ordenes_filtradas.groupby(['date', 'group']).size().unstack().fillna(0)\n",
    "visitas_por_grupo_fecha = visitas.groupby(['date', 'group'])['visits'].sum().unstack().fillna(0)\n"
   ]
  },
  {
   "cell_type": "code",
   "execution_count": 24,
   "metadata": {},
   "outputs": [],
   "source": [
    "# Calcular la tasa de conversión dividiendo la cantidad de pedidos por la cantidad de visitas para cada grupo en cada día\n",
    "tasa_conversion_grupo_A = pedidos_por_grupo_fecha['A'] / visitas_por_grupo_fecha['A']\n",
    "tasa_conversion_grupo_B = pedidos_por_grupo_fecha['B'] / visitas_por_grupo_fecha['B']\n"
   ]
  },
  {
   "cell_type": "code",
   "execution_count": 25,
   "metadata": {},
   "outputs": [
    {
     "data": {
      "image/png": "[encoded data removed]",
      "text/plain": [
       "<Figure size 720x432 with 1 Axes>"
      ]
     },
     "metadata": {
      "needs_background": "light"
     },
     "output_type": "display_data"
    }
   ],
   "source": [
    "# Graficar las tasas de conversión diarias de los dos grupos\n",
    "plt.figure(figsize=(10, 6))\n",
    "plt.plot(tasa_conversion_grupo_A.index, tasa_conversion_grupo_A, label='Grupo A')\n",
    "plt.plot(tasa_conversion_grupo_B.index, tasa_conversion_grupo_B, label='Grupo B')\n",
    "plt.xlabel('Fecha')\n",
    "plt.ylabel('Tasa de Conversión')\n",
    "plt.title('Tasa de Conversión Diaria de los Dos Grupos')\n",
    "plt.legend()\n",
    "plt.show()"
   ]
  },
  {
   "cell_type": "markdown",
   "metadata": {},
   "source": [
    "Tasa de conversión de los grupos tiene un comportamiento similar a lo largo del tiempo, en algunos días uno es mayor que otro pero al ver la taza de conversión de manera macro podemos decir que no se nota mayor diferencia entre los dos grupos."
   ]
  },
  {
   "cell_type": "markdown",
   "metadata": {},
   "source": [
    "<div class=\"alert alert-block alert-success\">\n",
    "<b>Comentario del revisor</b> <a class=\"tocSkip\"></a>\n",
    "   \n",
    "Perfecto JUan, Buen trabajo con el desarrollo de las tablas y gráficos usados para la construcción del esquema que muestra el tamaño promedio acumulado por grupo a lo largo del tiempo. </div>"
   ]
  },
  {
   "cell_type": "markdown",
   "metadata": {},
   "source": [
    "#### Número de pedidos por usuario"
   ]
  },
  {
   "cell_type": "code",
   "execution_count": 26,
   "metadata": {},
   "outputs": [
    {
     "data": {
      "image/png": "[encoded data removed]",
      "text/plain": [
       "<Figure size 720x432 with 1 Axes>"
      ]
     },
     "metadata": {
      "needs_background": "light"
     },
     "output_type": "display_data"
    }
   ],
   "source": [
    "# Agrupar los pedidos por visitorId y contar la cantidad de pedidos para cada usuario\n",
    "pedidos_por_usuario = ordenes_filtradas.groupby('visitorId').size().reset_index(name='numero_pedidos')\n",
    "\n",
    "# Graficar un gráfico de dispersión del número de pedidos por usuario\n",
    "plt.figure(figsize=(10, 6))\n",
    "plt.scatter(pedidos_por_usuario['visitorId'], pedidos_por_usuario['numero_pedidos'])\n",
    "plt.xlabel('visitorId')\n",
    "plt.ylabel('Número de Pedidos')\n",
    "plt.title('Gráfico de Dispersión del Número de Pedidos por Usuario')\n",
    "plt.show()"
   ]
  },
  {
   "cell_type": "markdown",
   "metadata": {},
   "source": [
    "Nuestros usuarios en su mayoría hacen solo un pedido, un porcentaje menor hace dos pedidos y excepcionalmente hacen 3 pedidos.  "
   ]
  },
  {
   "cell_type": "markdown",
   "metadata": {},
   "source": [
    "<div class=\"alert alert-block alert-success\">\n",
    "<b>Comentario del revisor</b> <a class=\"tocSkip\"></a>\n",
    "   \n",
    "Perfecto, Juan, buen trabajo con el gráfico de dispersión del número de pedidos por usuario.   </div>"
   ]
  },
  {
   "cell_type": "markdown",
   "metadata": {},
   "source": [
    "#### Percentiles 95 y 99  pedidos por usuario"
   ]
  },
  {
   "cell_type": "code",
   "execution_count": 27,
   "metadata": {},
   "outputs": [
    {
     "data": {
      "text/plain": [
       "'Percentil 95:'"
      ]
     },
     "metadata": {},
     "output_type": "display_data"
    },
    {
     "data": {
      "text/plain": [
       "1.0"
      ]
     },
     "metadata": {},
     "output_type": "display_data"
    },
    {
     "data": {
      "text/plain": [
       "'Percentil 99:'"
      ]
     },
     "metadata": {},
     "output_type": "display_data"
    },
    {
     "data": {
      "text/plain": [
       "2.0"
      ]
     },
     "metadata": {},
     "output_type": "display_data"
    }
   ],
   "source": [
    "percentile_95 = pedidos_por_usuario['numero_pedidos'].quantile(0.95)\n",
    "percentile_99 = pedidos_por_usuario['numero_pedidos'].quantile(0.99)\n",
    "\n",
    "display(\"Percentil 95:\", percentile_95)\n",
    "display(\"Percentil 99:\", percentile_99)"
   ]
  },
  {
   "cell_type": "markdown",
   "metadata": {},
   "source": [
    "**Solo el 1% del número de pedidos es superior a dos, por lo cual sería una anomalía que un usuario realice dos o más pedidos**"
   ]
  },
  {
   "cell_type": "markdown",
   "metadata": {},
   "source": [
    "<div class=\"alert alert-block alert-success\">\n",
    "<b>Comentario del revisor</b> <a class=\"tocSkip\"></a>\n",
    "   \n",
    "Perfecto, Juan, buen trabajo con el análisis de los percentiles del numero de pedidos por usuario.  </div>"
   ]
  },
  {
   "cell_type": "markdown",
   "metadata": {},
   "source": [
    "#### Gráfico de dispersión de los precios de los pedidos"
   ]
  },
  {
   "cell_type": "code",
   "execution_count": 28,
   "metadata": {},
   "outputs": [
    {
     "data": {
      "image/png": "[encoded data removed]",
      "text/plain": [
       "<Figure size 432x288 with 1 Axes>"
      ]
     },
     "metadata": {
      "needs_background": "light"
     },
     "output_type": "display_data"
    }
   ],
   "source": [
    "# Trazar el gráfico de dispersión\n",
    "ordenes_filtradas.plot(kind='scatter', x='transactionId', y='revenue', title='Gráfico de dispersión de los precios de los pedidos')\n",
    "plt.xlabel('ID de transacción')\n",
    "plt.ylabel('Ingresos del pedido')\n",
    "\n",
    "# Mostrar el gráfico\n",
    "plt.show()"
   ]
  },
  {
   "cell_type": "markdown",
   "metadata": {},
   "source": [
    "<div class=\"alert alert-block alert-success\">\n",
    "<b>Comentario del revisor</b> <a class=\"tocSkip\"></a>\n",
    "   \n",
    "Buen trabajo con el análisis de la distribución de los precios de los pedidos.</div>"
   ]
  },
  {
   "cell_type": "markdown",
   "metadata": {},
   "source": [
    "#### Percentiles 95 y 99 de los precios de los pedidos"
   ]
  },
  {
   "cell_type": "code",
   "execution_count": 29,
   "metadata": {},
   "outputs": [
    {
     "data": {
      "text/plain": [
       "'Percentil 95:'"
      ]
     },
     "metadata": {},
     "output_type": "display_data"
    },
    {
     "data": {
      "text/plain": [
       "414.275"
      ]
     },
     "metadata": {},
     "output_type": "display_data"
    },
    {
     "data": {
      "text/plain": [
       "'Percentil 99:'"
      ]
     },
     "metadata": {},
     "output_type": "display_data"
    },
    {
     "data": {
      "text/plain": [
       "830.3"
      ]
     },
     "metadata": {},
     "output_type": "display_data"
    }
   ],
   "source": [
    "percentile_95_precio_pedidos = ordenes_filtradas['revenue'].quantile(0.95)\n",
    "percentile_99_precio_pedidos = ordenes_filtradas['revenue'].quantile(0.99)\n",
    "\n",
    "display(\"Percentil 95:\", percentile_95_precio_pedidos)\n",
    "display(\"Percentil 99:\", percentile_99_precio_pedidos)"
   ]
  },
  {
   "cell_type": "markdown",
   "metadata": {},
   "source": [
    "**Menos del 1% de los pedidos tienen un precio igual o superior de 830 dólares, por lo cual todo pedido superior a este precio sería un pedido atípico**"
   ]
  },
  {
   "cell_type": "markdown",
   "metadata": {},
   "source": [
    "<div class=\"alert alert-block alert-success\">\n",
    "<b>Comentario del revisor</b> <a class=\"tocSkip\"></a>\n",
    "   \n",
    "Perfecto, Juan, buen trabajo con el análisis de los percentiles del precio de los pedidos.  </div>"
   ]
  },
  {
   "cell_type": "markdown",
   "metadata": {},
   "source": [
    "#### Filtrar datos atípicos"
   ]
  },
  {
   "cell_type": "code",
   "execution_count": 30,
   "metadata": {},
   "outputs": [
    {
     "data": {
      "text/plain": [
       "1099    148427295\n",
       "18      199603092\n",
       "23      237748145\n",
       "37      249864742\n",
       "68      457167155\n",
       "Name: visitorId, dtype: object"
      ]
     },
     "metadata": {},
     "output_type": "display_data"
    },
    {
     "data": {
      "text/plain": [
       "(34,)"
      ]
     },
     "metadata": {},
     "output_type": "display_data"
    }
   ],
   "source": [
    "# Separar las ordenes por grupos\n",
    "ordenes_usuarios_A = ordenes[ordenes['group']=='A'].groupby('visitorId', as_index=False).agg({'transactionId' : pd.Series.nunique})\n",
    "ordenes_usuarios_A.columns = ['visitorId', 'orders']\n",
    "\n",
    "ordenes_usuarios_B = ordenes[ordenes['group']=='B'].groupby('visitorId', as_index=False).agg({'transactionId' : pd.Series.nunique})\n",
    "ordenes_usuarios_B.columns = ['visitorId', 'orders']\n",
    "\n",
    "# Filtrar los usuarios con mas de 2 pedidos y con pedidos superiores a 830 dolares\n",
    "\n",
    "usuarios_con_muchas_ordenes = pd.concat([ordenes_usuarios_A[ordenes_usuarios_A['orders'] > 2]['visitorId'], ordenes_usuarios_B[ordenes_usuarios_B['orders'] > 2]['visitorId']], axis = 0)\n",
    "usuarios_con_pedidos_caros = ordenes[ordenes['revenue'] > 830]['visitorId']\n",
    "usuarios_anormales = pd.concat([usuarios_con_muchas_ordenes, usuarios_con_pedidos_caros], axis = 0).drop_duplicates().sort_values()\n",
    "\n",
    "display(usuarios_anormales.head())\n",
    "display(usuarios_anormales.shape) "
   ]
  },
  {
   "cell_type": "markdown",
   "metadata": {},
   "source": [
    "**Tenemos 34 usuarios anómalos**"
   ]
  },
  {
   "cell_type": "markdown",
   "metadata": {},
   "source": [
    "#### Significancia estadística de la diferencia en la conversión entre los grupos utilizando los datos brutos"
   ]
  },
  {
   "cell_type": "code",
   "execution_count": 31,
   "metadata": {},
   "outputs": [],
   "source": [
    "# Calcula la tasa de conversión para cada grupo\n",
    "conversiones_grupo_A = ordenes_filtradas[ordenes_filtradas['group'] == 'A']['transactionId'].nunique() / ordenes_filtradas[ordenes_filtradas['group'] == 'A']['visitorId'].nunique()\n",
    "conversiones_grupo_B = ordenes_filtradas[ordenes_filtradas['group'] == 'B']['transactionId'].nunique() / ordenes_filtradas[ordenes_filtradas['group'] == 'B']['visitorId'].nunique()"
   ]
  },
  {
   "cell_type": "code",
   "execution_count": 32,
   "metadata": {},
   "outputs": [
    {
     "data": {
      "text/plain": [
       "'la Conversión para el grupo A es: 1.051685393258427'"
      ]
     },
     "metadata": {},
     "output_type": "display_data"
    },
    {
     "data": {
      "text/plain": [
       "'la Conversión para el grupo B es: 1.0378787878787878'"
      ]
     },
     "metadata": {},
     "output_type": "display_data"
    }
   ],
   "source": [
    "display(f'la Conversión para el grupo A es: {conversiones_grupo_A}')\n",
    "display(f'la Conversión para el grupo B es: {conversiones_grupo_B}')"
   ]
  },
  {
   "cell_type": "code",
   "execution_count": 33,
   "metadata": {},
   "outputs": [
    {
     "name": "stdout",
     "output_type": "stream",
     "text": [
      "No hay evidencia suficiente para concluir que la diferencia en la conversión entre los grupos es estadísticamente significativa.\n"
     ]
    }
   ],
   "source": [
    "# Realizar el test de hipótesis para comparar las tasas de conversión entre los grupos\n",
    "_, p_value = st.ttest_ind(ordenes_filtradas[ordenes_filtradas['group'] == 'A']['revenue'], ordenes_filtradas[ordenes_filtradas['group'] == 'B']['revenue'], equal_var=False)\n",
    "\n",
    "# Comprobar el valor p para determinar la significancia estadística\n",
    "if p_value < 0.05:\n",
    "    print(\"La diferencia en la conversión entre los grupos es estadísticamente significativa.\")\n",
    "else:\n",
    "    print(\"No hay evidencia suficiente para concluir que la diferencia en la conversión entre los grupos es estadísticamente significativa.\")"
   ]
  },
  {
   "cell_type": "markdown",
   "metadata": {},
   "source": [
    "#### Significancia estadística de la diferencia en el tamaño promedio de pedido entre los grupos utilizando los datos brutos"
   ]
  },
  {
   "cell_type": "code",
   "execution_count": 34,
   "metadata": {},
   "outputs": [
    {
     "data": {
      "text/plain": [
       "'El tamaño promedio de pedido entre los grupos es:'"
      ]
     },
     "metadata": {},
     "output_type": "display_data"
    },
    {
     "data": {
      "text/plain": [
       "group\n",
       "A    113.700855\n",
       "B    145.348905\n",
       "Name: revenue, dtype: float64"
      ]
     },
     "metadata": {},
     "output_type": "display_data"
    }
   ],
   "source": [
    "# Calcular el tamaño promedio de pedido por grupo\n",
    "tamaño_promedio_por_grupo = ordenes_filtradas.groupby('group')['revenue'].mean()\n",
    "display(f'El tamaño promedio de pedido entre los grupos es:')\n",
    "display(tamaño_promedio_por_grupo)"
   ]
  },
  {
   "cell_type": "code",
   "execution_count": 35,
   "metadata": {},
   "outputs": [
    {
     "name": "stdout",
     "output_type": "stream",
     "text": [
      "No hay evidencia suficiente para concluir que hay una diferencia significativa en el tamaño promedio de pedido entre los grupos A y B.\n"
     ]
    }
   ],
   "source": [
    "# Realizar el test de hipótesis\n",
    "grupo_a = ordenes_filtradas[ordenes_filtradas['group'] == 'A']['revenue']\n",
    "grupo_b = ordenes_filtradas[ordenes_filtradas['group'] == 'B']['revenue']\n",
    "estadistico, p_valor = ttest_ind(grupo_a, grupo_b, equal_var=False)\n",
    "\n",
    "# Comprobar el valor p para determinar la significancia estadística\n",
    "if p_value < 0.05:\n",
    "    print(\"Se puede concluir que hay una diferencia significativa en el tamaño promedio de pedido entre los grupos A y B.\")\n",
    "else:\n",
    "    print(\"No hay evidencia suficiente para concluir que hay una diferencia significativa en el tamaño promedio de pedido entre los grupos A y B.\")"
   ]
  },
  {
   "cell_type": "markdown",
   "metadata": {},
   "source": [
    "#### Significancia estadística de la diferencia en la conversión entre los grupos utilizando los datos filtrados"
   ]
  },
  {
   "cell_type": "code",
   "execution_count": 36,
   "metadata": {},
   "outputs": [
    {
     "data": {
      "text/html": [
       "<div>\n",
       "<style scoped>\n",
       "    .dataframe tbody tr th:only-of-type {\n",
       "        vertical-align: middle;\n",
       "    }\n",
       "\n",
       "    .dataframe tbody tr th {\n",
       "        vertical-align: top;\n",
       "    }\n",
       "\n",
       "    .dataframe thead th {\n",
       "        text-align: right;\n",
       "    }\n",
       "</style>\n",
       "<table border=\"1\" class=\"dataframe\">\n",
       "  <thead>\n",
       "    <tr style=\"text-align: right;\">\n",
       "      <th></th>\n",
       "      <th>transactionId</th>\n",
       "      <th>visitorId</th>\n",
       "      <th>date</th>\n",
       "      <th>revenue</th>\n",
       "      <th>group</th>\n",
       "      <th>ingreso_acumulado</th>\n",
       "      <th>tamaño_promedio_acumulado</th>\n",
       "    </tr>\n",
       "  </thead>\n",
       "  <tbody>\n",
       "    <tr>\n",
       "      <th>103</th>\n",
       "      <td>2951399376</td>\n",
       "      <td>2019355024</td>\n",
       "      <td>2019-08-01</td>\n",
       "      <td>40.2</td>\n",
       "      <td>B</td>\n",
       "      <td>40.2</td>\n",
       "      <td>40.200000</td>\n",
       "    </tr>\n",
       "    <tr>\n",
       "      <th>148</th>\n",
       "      <td>4238948438</td>\n",
       "      <td>363280180</td>\n",
       "      <td>2019-08-01</td>\n",
       "      <td>5.6</td>\n",
       "      <td>B</td>\n",
       "      <td>45.8</td>\n",
       "      <td>22.900000</td>\n",
       "    </tr>\n",
       "    <tr>\n",
       "      <th>97</th>\n",
       "      <td>2012801741</td>\n",
       "      <td>414545763</td>\n",
       "      <td>2019-08-01</td>\n",
       "      <td>90.5</td>\n",
       "      <td>B</td>\n",
       "      <td>136.3</td>\n",
       "      <td>45.433333</td>\n",
       "    </tr>\n",
       "    <tr>\n",
       "      <th>143</th>\n",
       "      <td>3433533137</td>\n",
       "      <td>678354126</td>\n",
       "      <td>2019-08-01</td>\n",
       "      <td>100.4</td>\n",
       "      <td>A</td>\n",
       "      <td>306.3</td>\n",
       "      <td>76.575000</td>\n",
       "    </tr>\n",
       "    <tr>\n",
       "      <th>142</th>\n",
       "      <td>854120002</td>\n",
       "      <td>544963298</td>\n",
       "      <td>2019-08-01</td>\n",
       "      <td>25.9</td>\n",
       "      <td>B</td>\n",
       "      <td>162.2</td>\n",
       "      <td>40.550000</td>\n",
       "    </tr>\n",
       "    <tr>\n",
       "      <th>...</th>\n",
       "      <td>...</td>\n",
       "      <td>...</td>\n",
       "      <td>...</td>\n",
       "      <td>...</td>\n",
       "      <td>...</td>\n",
       "      <td>...</td>\n",
       "      <td>...</td>\n",
       "    </tr>\n",
       "    <tr>\n",
       "      <th>957</th>\n",
       "      <td>3759988715</td>\n",
       "      <td>1762249948</td>\n",
       "      <td>2019-08-31</td>\n",
       "      <td>80.5</td>\n",
       "      <td>B</td>\n",
       "      <td>79130.2</td>\n",
       "      <td>144.927106</td>\n",
       "    </tr>\n",
       "    <tr>\n",
       "      <th>930</th>\n",
       "      <td>3682739914</td>\n",
       "      <td>3910723394</td>\n",
       "      <td>2019-08-31</td>\n",
       "      <td>300.8</td>\n",
       "      <td>B</td>\n",
       "      <td>79431.0</td>\n",
       "      <td>145.212066</td>\n",
       "    </tr>\n",
       "    <tr>\n",
       "      <th>996</th>\n",
       "      <td>1998112401</td>\n",
       "      <td>1900893596</td>\n",
       "      <td>2019-08-31</td>\n",
       "      <td>5.5</td>\n",
       "      <td>A</td>\n",
       "      <td>53166.8</td>\n",
       "      <td>113.847537</td>\n",
       "    </tr>\n",
       "    <tr>\n",
       "      <th>1022</th>\n",
       "      <td>2411823395</td>\n",
       "      <td>3788724847</td>\n",
       "      <td>2019-08-31</td>\n",
       "      <td>45.2</td>\n",
       "      <td>A</td>\n",
       "      <td>53212.0</td>\n",
       "      <td>113.700855</td>\n",
       "    </tr>\n",
       "    <tr>\n",
       "      <th>997</th>\n",
       "      <td>1941116644</td>\n",
       "      <td>2373765141</td>\n",
       "      <td>2019-08-31</td>\n",
       "      <td>220.2</td>\n",
       "      <td>B</td>\n",
       "      <td>79651.2</td>\n",
       "      <td>145.348905</td>\n",
       "    </tr>\n",
       "  </tbody>\n",
       "</table>\n",
       "<p>983 rows × 7 columns</p>\n",
       "</div>"
      ],
      "text/plain": [
       "      transactionId   visitorId       date  revenue group  ingreso_acumulado  \\\n",
       "103      2951399376  2019355024 2019-08-01     40.2     B               40.2   \n",
       "148      4238948438   363280180 2019-08-01      5.6     B               45.8   \n",
       "97       2012801741   414545763 2019-08-01     90.5     B              136.3   \n",
       "143      3433533137   678354126 2019-08-01    100.4     A              306.3   \n",
       "142       854120002   544963298 2019-08-01     25.9     B              162.2   \n",
       "...             ...         ...        ...      ...   ...                ...   \n",
       "957      3759988715  1762249948 2019-08-31     80.5     B            79130.2   \n",
       "930      3682739914  3910723394 2019-08-31    300.8     B            79431.0   \n",
       "996      1998112401  1900893596 2019-08-31      5.5     A            53166.8   \n",
       "1022     2411823395  3788724847 2019-08-31     45.2     A            53212.0   \n",
       "997      1941116644  2373765141 2019-08-31    220.2     B            79651.2   \n",
       "\n",
       "      tamaño_promedio_acumulado  \n",
       "103                   40.200000  \n",
       "148                   22.900000  \n",
       "97                    45.433333  \n",
       "143                   76.575000  \n",
       "142                   40.550000  \n",
       "...                         ...  \n",
       "957                  144.927106  \n",
       "930                  145.212066  \n",
       "996                  113.847537  \n",
       "1022                 113.700855  \n",
       "997                  145.348905  \n",
       "\n",
       "[983 rows x 7 columns]"
      ]
     },
     "metadata": {},
     "output_type": "display_data"
    }
   ],
   "source": [
    "# Filtra los datos para excluir a los usuarios anormales\n",
    "ordenes_filtradas_filtrado = ordenes_filtradas[~ordenes_filtradas['visitorId'].isin(usuarios_anormales)]\n",
    "\n",
    "display(ordenes_filtradas_filtrado)\n"
   ]
  },
  {
   "cell_type": "code",
   "execution_count": 37,
   "metadata": {},
   "outputs": [],
   "source": [
    "# Calcula la tasa de conversión para cada grupo\n",
    "conversiones_grupo_A_filtrado = ordenes_filtradas_filtrado[ordenes_filtradas_filtrado['group'] == 'A']['transactionId'].nunique() / ordenes_filtradas_filtrado[ordenes_filtradas_filtrado['group'] == 'A']['visitorId'].nunique()\n",
    "conversiones_grupo_B_filtrado = ordenes_filtradas_filtrado[ordenes_filtradas_filtrado['group'] == 'B']['transactionId'].nunique() / ordenes_filtradas_filtrado[ordenes_filtradas_filtrado['group'] == 'B']['visitorId'].nunique()"
   ]
  },
  {
   "cell_type": "code",
   "execution_count": 38,
   "metadata": {
    "scrolled": false
   },
   "outputs": [
    {
     "data": {
      "text/plain": [
       "'la Conversión para el grupo A filtrado es: 1.0300230946882216'"
      ]
     },
     "metadata": {},
     "output_type": "display_data"
    },
    {
     "data": {
      "text/plain": [
       "'la Conversión para el grupo B filtrado es: 1.0307101727447217'"
      ]
     },
     "metadata": {},
     "output_type": "display_data"
    }
   ],
   "source": [
    "display(f'la Conversión para el grupo A filtrado es: {conversiones_grupo_A_filtrado}')\n",
    "display(f'la Conversión para el grupo B filtrado es: {conversiones_grupo_B_filtrado}')"
   ]
  },
  {
   "cell_type": "code",
   "execution_count": 39,
   "metadata": {
    "scrolled": true
   },
   "outputs": [
    {
     "name": "stdout",
     "output_type": "stream",
     "text": [
      "No hay evidencia suficiente para concluir que la diferencia en la conversión entre los grupos filtrados es estadísticamente significativa.\n"
     ]
    }
   ],
   "source": [
    "# Realizar el test de hipótesis para comparar las tasas de conversión entre los grupos\n",
    "_, p_value = st.ttest_ind(ordenes_filtradas_filtrado[ordenes_filtradas_filtrado['group'] == 'A']['revenue'], ordenes_filtradas_filtrado[ordenes_filtradas_filtrado['group'] == 'B']['revenue'], equal_var=False)\n",
    "\n",
    "# Comprobar el valor p para determinar la significancia estadística\n",
    "if p_value < 0.05:\n",
    "    print(\"La diferencia en la conversión entre los grupos es estadísticamente significativa.\")\n",
    "else:\n",
    "    print(\"No hay evidencia suficiente para concluir que la diferencia en la conversión entre los grupos filtrados es estadísticamente significativa.\")"
   ]
  },
  {
   "cell_type": "markdown",
   "metadata": {},
   "source": [
    "#### Significancia estadística de la diferencia en el tamaño promedio de pedido entre los grupos utilizando los datos filtrados"
   ]
  },
  {
   "cell_type": "code",
   "execution_count": 40,
   "metadata": {},
   "outputs": [
    {
     "data": {
      "text/plain": [
       "'El tamaño promedio de pedido entre los grupos filtrados es:'"
      ]
     },
     "metadata": {},
     "output_type": "display_data"
    },
    {
     "data": {
      "text/plain": [
       "group\n",
       "A    99.634529\n",
       "B    98.253445\n",
       "Name: revenue, dtype: float64"
      ]
     },
     "metadata": {},
     "output_type": "display_data"
    }
   ],
   "source": [
    "# Calcular el tamaño promedio de pedido por grupo\n",
    "tamaño_promedio_por_grupo_filtrado = ordenes_filtradas_filtrado.groupby('group')['revenue'].mean()\n",
    "display(f'El tamaño promedio de pedido entre los grupos filtrados es:')\n",
    "display(tamaño_promedio_por_grupo_filtrado)"
   ]
  },
  {
   "cell_type": "code",
   "execution_count": 41,
   "metadata": {},
   "outputs": [
    {
     "name": "stdout",
     "output_type": "stream",
     "text": [
      "No hay evidencia suficiente para concluir que hay una diferencia significativa en el tamaño promedio de pedido entre los grupos A y B filtrados.\n"
     ]
    }
   ],
   "source": [
    "# Realizar el test de hipótesis\n",
    "grupo_a_filtrado = ordenes_filtradas_filtrado[ordenes_filtradas_filtrado['group'] == 'A']['revenue']\n",
    "grupo_b_filtrado = ordenes_filtradas_filtrado[ordenes_filtradas_filtrado['group'] == 'B']['revenue']\n",
    "estadistico, p_valor = ttest_ind(grupo_a_filtrado, grupo_b_filtrado, equal_var=False)\n",
    "\n",
    "# Comprobar el valor p para determinar la significancia estadística\n",
    "if p_value < 0.05:\n",
    "    print(\"Se puede concluir que hay una diferencia significativa en el tamaño promedio de pedido entre los grupos A y B filtrados.\")\n",
    "else:\n",
    "    print(\"No hay evidencia suficiente para concluir que hay una diferencia significativa en el tamaño promedio de pedido entre los grupos A y B filtrados.\")"
   ]
  },
  {
   "cell_type": "markdown",
   "metadata": {},
   "source": [
    "<div class=\"alert alert-block alert-danger\">\n",
    "<b>Comentario del revisor</b> <a class=\"tocSkip\"></a>\n",
    "   \n",
    "~~En general muy buen trabajo con el desarrollo de las secciones de pruebas de hipótesis, lo único adicional interesante de observar sería el comportamiento de las varianzas de los grupos estudiados, lo anterior teniendo en cuenta la importancia de dicho estadístico dentro del planteamiento de la prueba.~~ </div>"
   ]
  },
  {
   "cell_type": "markdown",
   "metadata": {},
   "source": [
    "<div class=\"alert alert-block alert-info\">\n",
    "<b>Respuesta estudiante.</b> <a class=\"tocSkip\"></a>\n",
    "    \n",
    "David Muchas gracias por tu observación, a continuación calculo la varianza para los grupos, tanto con los datos filtrados como los datos en bruto.\n",
    "</div>"
   ]
  },
  {
   "cell_type": "markdown",
   "metadata": {},
   "source": [
    "#### Varianza de los grupos"
   ]
  },
  {
   "cell_type": "code",
   "execution_count": 42,
   "metadata": {
    "scrolled": true
   },
   "outputs": [
    {
     "data": {
      "text/plain": [
       "group\n",
       "A     29368.402440\n",
       "B    753820.254313\n",
       "Name: revenue, dtype: float64"
      ]
     },
     "metadata": {},
     "output_type": "display_data"
    }
   ],
   "source": [
    "# Calcular la varianza para los grupos con los datos en bruto\n",
    "varianza_por_grupo = ordenes_filtradas.groupby('group')['revenue'].var()\n",
    "display(varianza_por_grupo)"
   ]
  },
  {
   "cell_type": "code",
   "execution_count": 43,
   "metadata": {},
   "outputs": [
    {
     "data": {
      "text/plain": [
       "group\n",
       "A    16650.16321\n",
       "B    16267.45753\n",
       "Name: revenue, dtype: float64"
      ]
     },
     "metadata": {},
     "output_type": "display_data"
    }
   ],
   "source": [
    "# Calcular la varianza para los grupos con los datos filtrados\n",
    "varianza_por_grupo_filtrado = ordenes_filtradas_filtrado.groupby('group')['revenue'].var()\n",
    "display(varianza_por_grupo_filtrado)"
   ]
  },
  {
   "cell_type": "markdown",
   "metadata": {},
   "source": [
    "<div class=\"alert alert-block alert-success\">\n",
    "<b>Comentario del revisor #2</b> <a class=\"tocSkip\"></a>\n",
    "   \n",
    "Buen trabajo Juan, bien hecho.  </div>"
   ]
  },
  {
   "cell_type": "markdown",
   "metadata": {},
   "source": [
    "## Conclusiones generales"
   ]
  },
  {
   "cell_type": "markdown",
   "metadata": {},
   "source": [
    "Se revisan nuevamente las bases de datos obtenidas y se hacen las correcciones necesarias para trabajar con ellas en Python, por ejemplo, se corrige el tipo de datos de algunas columnas, al no encontrar ningún valor nulo no es necesario hacer modificaciones a ninguna de las bases de datos, pero se encuentra que 58 usuarios pertenecen a los dos grupos, se procede a eliminar estos usuarios de la base de datos.\n",
    "\n",
    "A partir de la clasificación ICE y RICE las hipótesis planteadas toman diferentes relevancias, ejemplo de esto:\n",
    "\n",
    "La hipótesis de Lanzar una promoción que ofrezca descuentos a los usuarios es la primera en prioridad partiendo de la clasificación ICE con un puntaje del 16.2, seguida por: Agregue dos nuevos canales para atraer tráfico con 13.3 y Añade un formulario de suscripción a todas las páginas principales con 11.2\n",
    "\n",
    "A diferencia con el sistema RICE la hipótesis: Añade un formulario de suscripción a todas las páginas principales. Queda en primer lugar con un puntaje de 112 seguida de, \n",
    "Agregar bloques de recomendación de productos a la tienda con 56 puntos, las hipótesis Agregue dos nuevos canales para atraer tráfico y Mostrar banners con ofertas y ventas actuales en la página principal están empatados en el tercer lugar con 40 puntos.\n",
    "\n",
    "Los ingresos acumulados de los dos grupos tienen un crecimiento paralelo entre los dos y solo se nota diferencia en un día donde en el grupo B se ve un crecimiento inusual, es posible que este día se haya realizado una compra atípica por parte de un usuario perteneciente al grupo B, pero luego de esto los ingresos siguen creciendo de igual manera.\n",
    "\n",
    "Tamaño de pedido promedio acumulado por grupo se comportan de manera similar, con algunas acepciones de donde se notan valores atípicos, pero luego de esto los pedidos vuelven a la normalidad.\n",
    "\n",
    "Tasa de conversión de los grupos tiene un comportamiento similar a lo largo del tiempo, en algunos días uno es mayor que otro, pero al ver la taza de conversión de manera macro podemos decir que no se nota mayor diferencia entre los dos grupos.\n",
    "\n",
    "Nuestros usuarios en su mayoría hacen solo un pedido, un porcentaje menor hace dos pedidos y excepcionalmente hacen 3 pedidos.\n",
    "\n",
    "Solo el 1% del número de pedidos es superior a dos, por lo cual sería una anomalía que un usuario realice dos o más pedidos.\n",
    "\n",
    "Menos del 1% de los pedidos tienen un precio igual o superior de 830 dólares, por lo cual todo pedido superior a este precio sería un pedido atípico.\n",
    "\n",
    "A partir de lo anterior se filtra la base de datos para encontrar los usuarios atípicos que realicen mas de dos pedidos y/o pedidos con un valor igual o superior a 830 dólares, lo cual da como resultado un total de 34 usuarios atípicos.\n",
    "\n",
    "Al calcular la significancia estadística de la diferencia en la conversión entre los grupos utilizando los datos brutos encontramos que: \n",
    "-\tla Conversión para el grupo A es: 1.05\n",
    "-\tla Conversión para el grupo B es: 1.04\n",
    "\n",
    "este mismo calculo, para los datos filtrados es:\n",
    "-\tla Conversión para el grupo A filtrado es: 1.03\n",
    "-\tla Conversión para el grupo B filtrado es: 1.031\n",
    "\n",
    "La significancia estadística de la diferencia en el tamaño promedio de pedido entre los grupos sin filtrar y los grupos con datos filtrados nos muestra que: No hay evidencia suficiente para concluir que hay una diferencia significativa en el tamaño promedio de pedido entre los grupos A y B. Aunque se llegue a la misma conclusión los números si cambian debido que:\n",
    "\n",
    "El tamaño promedio de pedido entre los grupos filtrados es:\n",
    "A    99.634529\n",
    "B    98.253445\n",
    "\n",
    "Diferente a los datos en bruto que El tamaño promedio de pedido entre los grupos es:\n",
    "A    113.700855\n",
    "B    145.348905\n",
    "\n",
    "Con todo lo anterior podemos decir que:\n",
    "\n",
    "**Para la prueba, concluye que no hay diferencia entre los grupos.**\n"
   ]
  },
  {
   "cell_type": "markdown",
   "metadata": {},
   "source": [
    "<div class=\"alert alert-block alert-success\">\n",
    "<b>Comentario del revisor</b> <a class=\"tocSkip\"></a>\n",
    "   \n",
    "Muy buen trabajo, más allá del código de calidad que realizas, te esforzaste desarrollando una sección de conclusiones, coherentes, y con un muy buen contenido.  </div>"
   ]
  },
  {
   "cell_type": "markdown",
   "metadata": {},
   "source": [
    "<div class=\"alert alert-block alert-danger\">\n",
    "<b>Comentario del revisor</b> <a class=\"tocSkip\"></a>\n",
    "    \n",
    "# Comentario General\n",
    "    \n",
    "~~Hola, Juan, te felicito por el excelente desarrollo del proyecto hasta el momento. Ahora bien, he dejado unos pequeños comentarios para que los puedas tener en cuenta para la siguiente entrega. ~~\n",
    "     </div>"
   ]
  },
  {
   "cell_type": "markdown",
   "metadata": {},
   "source": [
    "<div class=\"alert alert-block alert-info\">\n",
    "<b>Respuesta estudiante.</b> <a class=\"tocSkip\"></a>\n",
    "    \n",
    "David Muchas gracias por tu revisión \n",
    "</div>"
   ]
  },
  {
   "cell_type": "markdown",
   "metadata": {},
   "source": [
    "<div class=\"alert alert-block alert-success\">\n",
    "<b>Comentario del revisor</b> <a class=\"tocSkip\"></a>\n",
    "    \n",
    "# Comentario General #2\n",
    "    \n",
    "Hola, Juan, gracias por tener en cuenta mis comentarios. Te felicito por la culminación del proyecto. Muy buen trabajo.  </div>"
   ]
  }
 ],
 "metadata": {
  "kernelspec": {
   "display_name": "Python 3 (ipykernel)",
   "language": "python",
   "name": "python3"
  },
  "language_info": {
   "codemirror_mode": {
    "name": "ipython",
    "version": 3
   },
   "file_extension": ".py",
   "mimetype": "text/x-python",
   "name": "python",
   "nbconvert_exporter": "python",
   "pygments_lexer": "ipython3",
   "version": "3.9.5"
  },
  "toc": {
   "base_numbering": 1,
   "nav_menu": {},
   "number_sections": true,
   "sideBar": true,
   "skip_h1_title": true,
   "title_cell": "Table of Contents",
   "title_sidebar": "Contents",
   "toc_cell": false,
   "toc_position": {},
   "toc_section_display": true,
   "toc_window_display": false
  }
 },
 "nbformat": 4,
 "nbformat_minor": 2
}
